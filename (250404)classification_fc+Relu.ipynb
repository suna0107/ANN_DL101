{
  "nbformat": 4,
  "nbformat_minor": 0,
  "metadata": {
    "colab": {
      "provenance": [],
      "gpuType": "T4",
      "authorship_tag": "ABX9TyM+0H46etfPqSOgucMiZ3f+",
      "include_colab_link": true
    },
    "kernelspec": {
      "name": "python3",
      "display_name": "Python 3"
    },
    "language_info": {
      "name": "python"
    },
    "accelerator": "GPU"
  },
  "cells": [
    {
      "cell_type": "markdown",
      "metadata": {
        "id": "view-in-github",
        "colab_type": "text"
      },
      "source": [
        "<a href=\"https://colab.research.google.com/github/suna0107/ANN_DL101/blob/main/(250404)classification_fc%2BRelu.ipynb\" target=\"_parent\"><img src=\"https://colab.research.google.com/assets/colab-badge.svg\" alt=\"Open In Colab\"/></a>"
      ]
    },
    {
      "cell_type": "markdown",
      "source": [
        "#1. 기본 FC + ReLU 구조\n",
        "- 데이터 불러오기 & label 매핑& 불균형 데이터 처리\n",
        "- `Train / Validation / Test` 분리\n",
        "- `Dataset` & `DataLoader` 정의\n",
        "- 모델 정의 (`BasicFCModel`)\n",
        "- pos_weight 계산\n",
        "- 학습 루프\n",
        "- 최종 Test 평가 (Accuracy, Precision, Recall, F1, Confusion Matrix)"
      ],
      "metadata": {
        "id": "6-hzwS7wo_Qj"
      }
    },
    {
      "cell_type": "markdown",
      "source": [
        "##1. 데이터 불러오기 & label 매핑 & 불균형 데이터 처리"
      ],
      "metadata": {
        "id": "sGtRBDhVpYH5"
      }
    },
    {
      "cell_type": "code",
      "source": [
        "import pandas as pd\n",
        "import numpy as np\n",
        "import torch\n",
        "from collections import Counter\n",
        "\n",
        "item_df = pd.read_pickle(\"item_input.pkl\")\n",
        "type(item_df['input_vec'].iloc[0])  # 👉 numpy.ndarray (예상)\n",
        "len(item_df['input_vec'].iloc[0])   # 👉 1568차원"
      ],
      "metadata": {
        "colab": {
          "base_uri": "https://localhost:8080/"
        },
        "collapsed": true,
        "id": "iO_I_HvErMly",
        "outputId": "a2930f3d-71f1-4553-dc51-2f4465e6e92d"
      },
      "execution_count": 17,
      "outputs": [
        {
          "output_type": "execute_result",
          "data": {
            "text/plain": [
              "2336"
            ]
          },
          "metadata": {},
          "execution_count": 17
        }
      ]
    },
    {
      "cell_type": "code",
      "source": [
        "# 2. label 컬럼 생성 ('해당' → 1, '비해당' → 0)\n",
        "item_df['label'] = item_df['결과'].map({'해당': 1, '비해당': 0}).astype(int)\n"
      ],
      "metadata": {
        "collapsed": true,
        "id": "MrCgGBoYrSOa"
      },
      "execution_count": 18,
      "outputs": []
    },
    {
      "cell_type": "code",
      "source": [
        "item_df['label']"
      ],
      "metadata": {
        "colab": {
          "base_uri": "https://localhost:8080/",
          "height": 458
        },
        "collapsed": true,
        "id": "AI5AGkZ1ro09",
        "outputId": "a93f8d65-0aa7-4235-c86f-e975df0de005"
      },
      "execution_count": 20,
      "outputs": [
        {
          "output_type": "execute_result",
          "data": {
            "text/plain": [
              "0       0\n",
              "1       0\n",
              "2       0\n",
              "3       0\n",
              "4       0\n",
              "       ..\n",
              "2799    0\n",
              "2800    0\n",
              "2801    0\n",
              "2802    0\n",
              "2803    0\n",
              "Name: label, Length: 2804, dtype: int64"
            ],
            "text/html": [
              "<div>\n",
              "<style scoped>\n",
              "    .dataframe tbody tr th:only-of-type {\n",
              "        vertical-align: middle;\n",
              "    }\n",
              "\n",
              "    .dataframe tbody tr th {\n",
              "        vertical-align: top;\n",
              "    }\n",
              "\n",
              "    .dataframe thead th {\n",
              "        text-align: right;\n",
              "    }\n",
              "</style>\n",
              "<table border=\"1\" class=\"dataframe\">\n",
              "  <thead>\n",
              "    <tr style=\"text-align: right;\">\n",
              "      <th></th>\n",
              "      <th>label</th>\n",
              "    </tr>\n",
              "  </thead>\n",
              "  <tbody>\n",
              "    <tr>\n",
              "      <th>0</th>\n",
              "      <td>0</td>\n",
              "    </tr>\n",
              "    <tr>\n",
              "      <th>1</th>\n",
              "      <td>0</td>\n",
              "    </tr>\n",
              "    <tr>\n",
              "      <th>2</th>\n",
              "      <td>0</td>\n",
              "    </tr>\n",
              "    <tr>\n",
              "      <th>3</th>\n",
              "      <td>0</td>\n",
              "    </tr>\n",
              "    <tr>\n",
              "      <th>4</th>\n",
              "      <td>0</td>\n",
              "    </tr>\n",
              "    <tr>\n",
              "      <th>...</th>\n",
              "      <td>...</td>\n",
              "    </tr>\n",
              "    <tr>\n",
              "      <th>2799</th>\n",
              "      <td>0</td>\n",
              "    </tr>\n",
              "    <tr>\n",
              "      <th>2800</th>\n",
              "      <td>0</td>\n",
              "    </tr>\n",
              "    <tr>\n",
              "      <th>2801</th>\n",
              "      <td>0</td>\n",
              "    </tr>\n",
              "    <tr>\n",
              "      <th>2802</th>\n",
              "      <td>0</td>\n",
              "    </tr>\n",
              "    <tr>\n",
              "      <th>2803</th>\n",
              "      <td>0</td>\n",
              "    </tr>\n",
              "  </tbody>\n",
              "</table>\n",
              "<p>2804 rows × 1 columns</p>\n",
              "</div><br><label><b>dtype:</b> int64</label>"
            ]
          },
          "metadata": {},
          "execution_count": 20
        }
      ]
    },
    {
      "cell_type": "code",
      "source": [
        "# 4. input & label 추출\n",
        "#  np.stack() : 2D 배열로 만들기 위함 ->X.shape = (2865, 2336)= (샘플 수, 벡터 차원)\n",
        "X = np.stack(item_df['input_vec'].values)\n",
        "y = item_df['label'].values\n"
      ],
      "metadata": {
        "id": "y4zGZa2frtVJ"
      },
      "execution_count": 22,
      "outputs": []
    },
    {
      "cell_type": "code",
      "source": [
        "print(\"🧩 X shape:\", X.shape)  # → (샘플 수, 1568) 예상\n",
        "print(\"🎯 y shape:\", y.shape)  # → (샘플 수,) 예상"
      ],
      "metadata": {
        "colab": {
          "base_uri": "https://localhost:8080/"
        },
        "id": "uX7CcEOksWjG",
        "outputId": "84377d6a-35a6-4e0d-8841-465de89c858d"
      },
      "execution_count": 25,
      "outputs": [
        {
          "output_type": "stream",
          "name": "stdout",
          "text": [
            "🧩 X shape: (2804, 2336)\n",
            "🎯 y shape: (2804,)\n"
          ]
        }
      ]
    },
    {
      "cell_type": "markdown",
      "source": [
        "- 불균형 클래스 -> pos_weight 적용"
      ],
      "metadata": {
        "id": "9sIMfnjoxWzp"
      }
    },
    {
      "cell_type": "code",
      "source": [
        "# 5. 클래스 비율 확인 & pos_weight 계산\n",
        "from collections import Counter\n",
        "\n",
        "counter = Counter(y) # 클래스 비율 확인\n",
        "print(\"📊 클래스 분포:\", counter)  # 예: Counter({0: 2439, 1: 365})\n",
        "\n"
      ],
      "metadata": {
        "colab": {
          "base_uri": "https://localhost:8080/"
        },
        "id": "B433r8kMrnfj",
        "outputId": "8697777b-9928-40ff-d002-f2292d8bbc9c"
      },
      "execution_count": 26,
      "outputs": [
        {
          "output_type": "stream",
          "name": "stdout",
          "text": [
            "📊 라벨 분포: Counter({np.int64(0): 2480, np.int64(1): 324})\n"
          ]
        }
      ]
    },
    {
      "cell_type": "code",
      "source": [
        "import torch\n",
        "\n",
        "device = torch.device(\"cuda\" if torch.cuda.is_available() else \"cpu\")\n",
        "\n",
        "neg = counter[0]  # 비해당\n",
        "pos = counter[1]  # 해당\n",
        "\n",
        "pos_weight = torch.tensor(neg / pos).to(device) # neg / pos= 희귀 클래스 가중치 계산\n",
        "# 7.65\n",
        "#손실 함수에서 클래스 1이 틀릴 경우 약 7.65배 더 큰 손실을 주겠다 라는 뜻이야.\n",
        "\n",
        "print(f\"🔧 적용할 pos_weight: {pos_weight:.4f}\")"
      ],
      "metadata": {
        "colab": {
          "base_uri": "https://localhost:8080/"
        },
        "id": "xEB3qdylxTI-",
        "outputId": "75079dfb-9239-4846-9994-e7218e209e05"
      },
      "execution_count": 30,
      "outputs": [
        {
          "output_type": "stream",
          "name": "stdout",
          "text": [
            "🔧 적용할 pos_weight: 7.6543\n"
          ]
        }
      ]
    },
    {
      "cell_type": "markdown",
      "source": [
        "## 2. 데이터 분리: Train / Val / Test\n",
        "\n",
        "- 추후 결과 분석을 위해 idex 따로 저장\n",
        "- Stratify=y\n",
        "- 클래스 불균형 상태기에 클래스 0 / 1 비율을 유지해줘야함"
      ],
      "metadata": {
        "id": "Q1b_iBgJyrGA"
      }
    },
    {
      "cell_type": "code",
      "source": [
        "# ✅ 1. 전체 인덱스 → test 인덱스만 추출\n",
        "all_indices = np.arange(len(X))\n",
        "\n",
        "_, idx_test = train_test_split(\n",
        "    all_indices, test_size=0.2, random_state=42, stratify=y\n",
        ")"
      ],
      "metadata": {
        "id": "wHAFU5aLB6pq"
      },
      "execution_count": 61,
      "outputs": []
    },
    {
      "cell_type": "code",
      "source": [
        "from sklearn.model_selection import train_test_split\n",
        "\n",
        "# 1. 먼저 전체에서 train+val (80%) vs test (20%) 분리\n",
        "X_temp, X_test, y_temp, y_test = train_test_split(\n",
        "    X, y, test_size=0.2, random_state=42, stratify=y\n",
        ")\n",
        "\n",
        "# 2. 다시 train+val을 train (80%) vs val (20%)로 분리 (→ 64/16/20)\n",
        "X_train, X_val, y_train, y_val = train_test_split(\n",
        "    X_temp, y_temp, test_size=0.2, random_state=42, stratify=y_temp\n",
        ")"
      ],
      "metadata": {
        "id": "yEMpRICby-on"
      },
      "execution_count": 31,
      "outputs": []
    },
    {
      "cell_type": "code",
      "source": [
        "print(\"🟢 Train:\", X_train.shape, y_train.shape)\n",
        "print(\"🟡 Val:  \", X_val.shape, y_val.shape)\n",
        "print(\"🔵 Test: \", X_test.shape, y_test.shape)\n"
      ],
      "metadata": {
        "colab": {
          "base_uri": "https://localhost:8080/"
        },
        "id": "qlUzl6IazbDv",
        "outputId": "a5736452-c3e4-4a3c-fa19-4c4182cf0bdb"
      },
      "execution_count": 32,
      "outputs": [
        {
          "output_type": "stream",
          "name": "stdout",
          "text": [
            "🟢 Train: (1794, 2336) (1794,)\n",
            "🟡 Val:   (449, 2336) (449,)\n",
            "🔵 Test:  (561, 2336) (561,)\n"
          ]
        }
      ]
    },
    {
      "cell_type": "markdown",
      "source": [
        "## 3. Dataset & DataLoader 정의"
      ],
      "metadata": {
        "id": "zEWjKNhoztkL"
      }
    },
    {
      "cell_type": "code",
      "source": [
        "import torch\n",
        "from torch.utils.data import Dataset, DataLoader\n",
        "\n",
        "class ItemDataset(Dataset):\n",
        "    def __init__(self, X, y):\n",
        "        self.X = torch.tensor(X, dtype=torch.float32)\n",
        "        self.y = torch.tensor(y, dtype=torch.float32)\n",
        "\n",
        "    def __len__(self):\n",
        "        return len(self.X)\n",
        "\n",
        "    def __getitem__(self, idx):\n",
        "        return self.X[idx], self.y[idx]\n",
        "\n",
        "train_loader = DataLoader(ItemDataset(X_train, y_train), batch_size=64, shuffle=True)\n",
        "val_loader = DataLoader(ItemDataset(X_val, y_val), batch_size=64)\n",
        "test_loader = DataLoader(ItemDataset(X_test, y_test), batch_size=64)"
      ],
      "metadata": {
        "id": "4pv7NU8BzwGV"
      },
      "execution_count": null,
      "outputs": []
    },
    {
      "cell_type": "code",
      "source": [
        "import torch\n",
        "from torch.utils.data import TensorDataset, DataLoader\n",
        "\n",
        "# 1. 넘파이 배열 → 텐서로 변환 (float32, label은 float)\n",
        "X_train_tensor = torch.tensor(X_train, dtype=torch.float32)\n",
        "y_train_tensor = torch.tensor(y_train, dtype=torch.float32)\n",
        "\n",
        "X_val_tensor = torch.tensor(X_val, dtype=torch.float32)\n",
        "y_val_tensor = torch.tensor(y_val, dtype=torch.float32)\n",
        "\n",
        "X_test_tensor = torch.tensor(X_test, dtype=torch.float32)\n",
        "y_test_tensor = torch.tensor(y_test, dtype=torch.float32)\n",
        "\n",
        "# 2. TensorDataset으로 묶기\n",
        "train_dataset = TensorDataset(X_train_tensor, y_train_tensor)\n",
        "val_dataset = TensorDataset(X_val_tensor, y_val_tensor)\n",
        "test_dataset = TensorDataset(X_test_tensor, y_test_tensor)\n",
        "\n",
        "# 3. DataLoader로 감싸기\n",
        "train_loader = DataLoader(train_dataset, batch_size=64, shuffle=True)\n",
        "val_loader = DataLoader(val_dataset, batch_size=64, shuffle=False)\n",
        "test_loader = DataLoader(test_dataset, batch_size=64, shuffle=False)"
      ],
      "metadata": {
        "id": "61Kag7410NzU"
      },
      "execution_count": 34,
      "outputs": []
    },
    {
      "cell_type": "code",
      "source": [
        "print(\"✅ 학습 배치 수:\", len(train_loader)) # 총샘플 수/ 배치 크기(64)1794 ÷ 64 ≈ 28.0 → 29개 (마지막 배치에 2개 포함)\n",
        "print(\"✅ 검증 배치 수:\", len(val_loader))\n",
        "print(\"✅ 테스트 배치 수:\", len(test_loader))\n"
      ],
      "metadata": {
        "colab": {
          "base_uri": "https://localhost:8080/"
        },
        "id": "Lu5wrptb0MXp",
        "outputId": "a44c82d1-65c6-4650-9eb6-873a84f3d663"
      },
      "execution_count": 35,
      "outputs": [
        {
          "output_type": "stream",
          "name": "stdout",
          "text": [
            "✅ 학습 배치 수: 29\n",
            "✅ 검증 배치 수: 8\n",
            "✅ 테스트 배치 수: 9\n"
          ]
        }
      ]
    },
    {
      "cell_type": "markdown",
      "source": [
        "## 4. 모델 정의: BasicFCModel"
      ],
      "metadata": {
        "id": "mV5ahkSo09cR"
      }
    },
    {
      "cell_type": "code",
      "source": [
        "class BasicFCModel(nn.Module):\n",
        "    def __init__(self):\n",
        "        super(BasicFCModel, self).__init__()\n",
        "        self.net = nn.Sequential(\n",
        "            nn.Linear(2336, 1024),     # 입력: 2336차원 → 은닉층 1024차원\n",
        "            nn.ReLU(),                 # 비선형성 추가\n",
        "            nn.Linear(1024, 512),      # 2층: 1024 → 512\n",
        "            nn.ReLU(),\n",
        "            nn.Dropout(0.3),           # 30% 드롭아웃 → 과적합 방지\n",
        "            nn.Linear(512, 128),       # 3층: 512 → 128\n",
        "            nn.ReLU(),\n",
        "            nn.Linear(128, 1),         # 마지막 출력층: 1개 노드 (이진 분류)\n",
        "        )\n",
        "    def forward(self, x):\n",
        "        return self.net(x)"
      ],
      "metadata": {
        "id": "QNXk5a4J09x6"
      },
      "execution_count": 46,
      "outputs": []
    },
    {
      "cell_type": "markdown",
      "source": [
        "## 5. 학습 및 검증 루프"
      ],
      "metadata": {
        "id": "sX8bDpA91MNg"
      }
    },
    {
      "cell_type": "markdown",
      "source": [
        "### 1. 손실 함수, 옵티마이저, 모델 선언\n",
        "\n",
        "- scheduler.step()  : 학습률 점진적으로 감소시켜 성능 안정화\n",
        "- early stopping : 검증 성능 개선 없을 시 학습 자동 중단\n",
        "- best model 저장: 최고 성능 모델 저장 후 추후 테스트에 활용"
      ],
      "metadata": {
        "id": "bbpUmlmj1SaH"
      }
    },
    {
      "cell_type": "code",
      "source": [
        "import torch.nn as nn\n",
        "import torch.optim as optim\n",
        "\n",
        "# 1. 모델 정의\n",
        "model = BasicFCModel()  # ✅ 모델 먼저 정의해야 함\n",
        "device = torch.device(\"cuda\" if torch.cuda.is_available() else \"cpu\")\n",
        "model.to(device)\n",
        "\n",
        "# 2. 이진 분류이므로 마지막에 Sigmoid → BCELoss 사용\n",
        "criterion = nn.BCEWithLogitsLoss(pos_weight=pos_weight)\n",
        "\n",
        "# 3. 옵티마이저 & 스케줄러\n",
        "optimizer = optim.Adam(model.parameters(), lr=1e-4)\n",
        "scheduler = torch.optim.lr_scheduler.StepLR(optimizer, step_size=5, gamma=0.5)  # 5 epoch마다 LR 절반으로\n",
        "\n",
        "\n",
        "# 4. Early Stopping 변수\n",
        "best_val_f1 = 0\n",
        "patience = 3\n",
        "patience_counter = 0"
      ],
      "metadata": {
        "id": "zjGeuxMj1RBs"
      },
      "execution_count": 47,
      "outputs": []
    },
    {
      "cell_type": "markdown",
      "source": [
        "### 2. 학습 루프 함수 정의"
      ],
      "metadata": {
        "id": "HjkX_xGW1glK"
      }
    },
    {
      "cell_type": "code",
      "source": [
        "# 3. 학습 루프\n",
        "def train_epoch(loader):\n",
        "    model.train()\n",
        "    total_loss = 0\n",
        "    for X_batch, y_batch in loader:\n",
        "        X_batch, y_batch = X_batch.to(device), y_batch.to(device).unsqueeze(1)\n",
        "        optimizer.zero_grad()\n",
        "        output = model(X_batch)\n",
        "        loss = criterion(output, y_batch)\n",
        "        loss.backward()\n",
        "        optimizer.step()\n",
        "        total_loss += loss.item()\n",
        "    return total_loss / len(loader)"
      ],
      "metadata": {
        "id": "9M_4kk8y1PEL"
      },
      "execution_count": 48,
      "outputs": []
    },
    {
      "cell_type": "markdown",
      "source": [
        "### 3. 검증 함수 (Sigmoid 적용 추가!)"
      ],
      "metadata": {
        "id": "vCsPMD2u1c1o"
      }
    },
    {
      "cell_type": "code",
      "source": [
        "# 4. 검증 루프 (accuracy, precision, recall, f1)\n",
        "def eval_epoch(loader):\n",
        "    model.eval()\n",
        "    all_preds, all_labels = [], []\n",
        "\n",
        "    with torch.no_grad():\n",
        "        for X_batch, y_batch in loader:\n",
        "            X_batch, y_batch = X_batch.to(device), y_batch.to(device).unsqueeze(1)\n",
        "            logits = model(X_batch)               # → logit\n",
        "            probs = torch.sigmoid(logits)         # ✅ 확률로 변환\n",
        "            preds = (probs > 0.5).float()         # threshold 적용\n",
        "            all_preds.extend(preds.cpu().numpy())\n",
        "            all_labels.extend(y_batch.cpu().numpy())\n",
        "\n",
        "    # 메트릭 계산\n",
        "    all_preds = np.array(all_preds).astype(int)\n",
        "    all_labels = np.array(all_labels).astype(int)\n",
        "\n",
        "    acc = (all_preds == all_labels).mean()\n",
        "    precision = precision_score(all_labels, all_preds)\n",
        "    recall = recall_score(all_labels, all_preds)\n",
        "    f1 = f1_score(all_labels, all_preds)\n",
        "\n",
        "    return acc, precision, recall, f1\n"
      ],
      "metadata": {
        "id": "S_MsiUHR1fE6"
      },
      "execution_count": 49,
      "outputs": []
    },
    {
      "cell_type": "markdown",
      "source": [
        "## 6. 학습 실행"
      ],
      "metadata": {
        "id": "G_2GzlEe131f"
      }
    },
    {
      "cell_type": "code",
      "source": [
        "# 5. 전체 학습 과정\n",
        "from sklearn.metrics import precision_score, recall_score, f1_score\n",
        "\n",
        "for epoch in range(1, 21):\n",
        "    train_loss = train_epoch(train_loader)\n",
        "    val_acc, val_prec, val_rec, val_f1 = eval_epoch(val_loader)\n",
        "    scheduler.step()  # 학습률 조절\n",
        "\n",
        "    print(f\"📘 Epoch {epoch:02d} | Train Loss: {train_loss:.4f} | \"\n",
        "          f\"Val Acc: {val_acc:.4f} | P: {val_prec:.4f} | R: {val_rec:.4f} | F1: {val_f1:.4f}\")\n",
        "\n",
        "     # Best model 저장\n",
        "    if val_f1 > best_val_f1:\n",
        "        best_val_f1 = val_f1\n",
        "        torch.save(model.state_dict(), \"best_model.pt\")\n",
        "        patience_counter = 0\n",
        "        print(\"📌 Best model saved.\")\n",
        "    else:\n",
        "        patience_counter += 1\n",
        "        if patience_counter >= patience:\n",
        "            print(\"⛔ Early stopping triggered!\")\n",
        "            break"
      ],
      "metadata": {
        "colab": {
          "base_uri": "https://localhost:8080/"
        },
        "id": "Oz0jgsWL18md",
        "outputId": "4c4d0a40-a4de-4d83-b86d-c1d8868d493e"
      },
      "execution_count": 55,
      "outputs": [
        {
          "output_type": "stream",
          "name": "stdout",
          "text": [
            "📘 Epoch 01 | Train Loss: 0.1310 | Val Acc: 0.9131 | P: 0.5867 | R: 0.8462 | F1: 0.6929\n",
            "📌 Best model saved.\n",
            "📘 Epoch 02 | Train Loss: 0.1281 | Val Acc: 0.9131 | P: 0.5844 | R: 0.8654 | F1: 0.6977\n",
            "📌 Best model saved.\n",
            "📘 Epoch 03 | Train Loss: 0.1251 | Val Acc: 0.9109 | P: 0.5769 | R: 0.8654 | F1: 0.6923\n",
            "📘 Epoch 04 | Train Loss: 0.1264 | Val Acc: 0.9131 | P: 0.5844 | R: 0.8654 | F1: 0.6977\n",
            "📘 Epoch 05 | Train Loss: 0.1211 | Val Acc: 0.9154 | P: 0.5946 | R: 0.8462 | F1: 0.6984\n",
            "📌 Best model saved.\n",
            "📘 Epoch 06 | Train Loss: 0.1197 | Val Acc: 0.9131 | P: 0.5844 | R: 0.8654 | F1: 0.6977\n",
            "📘 Epoch 07 | Train Loss: 0.1386 | Val Acc: 0.9154 | P: 0.5946 | R: 0.8462 | F1: 0.6984\n",
            "📘 Epoch 08 | Train Loss: 0.1263 | Val Acc: 0.9131 | P: 0.5844 | R: 0.8654 | F1: 0.6977\n",
            "⛔ Early stopping triggered!\n"
          ]
        }
      ]
    },
    {
      "cell_type": "code",
      "source": [],
      "metadata": {
        "colab": {
          "base_uri": "https://localhost:8080/",
          "height": 109
        },
        "id": "qUDQE8Ze6AvL",
        "outputId": "aaad0d88-207b-488f-c5c9-7f3bd8e60c1f"
      },
      "execution_count": 54,
      "outputs": [
        {
          "output_type": "error",
          "ename": "IndentationError",
          "evalue": "unexpected indent (<ipython-input-54-b9d6344a7ba6>, line 2)",
          "traceback": [
            "\u001b[0;36m  File \u001b[0;32m\"<ipython-input-54-b9d6344a7ba6>\"\u001b[0;36m, line \u001b[0;32m2\u001b[0m\n\u001b[0;31m    if val_f1 > best_val_f1:\u001b[0m\n\u001b[0m    ^\u001b[0m\n\u001b[0;31mIndentationError\u001b[0m\u001b[0;31m:\u001b[0m unexpected indent\n"
          ]
        }
      ]
    },
    {
      "cell_type": "markdown",
      "source": [
        "##7.Test"
      ],
      "metadata": {
        "id": "UhUp6bcZ-F2I"
      }
    },
    {
      "cell_type": "markdown",
      "source": [
        "##1. 저장된 Best 모델 불러오기"
      ],
      "metadata": {
        "id": "i5pfLqyG_IJ_"
      }
    },
    {
      "cell_type": "code",
      "source": [
        "# 1. 모델 객체를 다시 선언하고 weight 로드\n",
        "model = BasicFCModel().to(device)## 주의사항 : BasicFCModel 클래스는 앞에서 정의한 Sigmoid 없는 버전이어야 해!\n",
        "model.load_state_dict(torch.load(\"best_model.pt\")) # best model 불러오기\n",
        "model.eval()  # 꼭 평가 모드로 바꿔줘야 함\n"
      ],
      "metadata": {
        "colab": {
          "base_uri": "https://localhost:8080/"
        },
        "id": "veQ6DKza-48I",
        "outputId": "74ec987e-ad55-46a4-d8d1-65caff9bd493"
      },
      "execution_count": 56,
      "outputs": [
        {
          "output_type": "execute_result",
          "data": {
            "text/plain": [
              "BasicFCModel(\n",
              "  (net): Sequential(\n",
              "    (0): Linear(in_features=2336, out_features=1024, bias=True)\n",
              "    (1): ReLU()\n",
              "    (2): Linear(in_features=1024, out_features=512, bias=True)\n",
              "    (3): ReLU()\n",
              "    (4): Dropout(p=0.3, inplace=False)\n",
              "    (5): Linear(in_features=512, out_features=128, bias=True)\n",
              "    (6): ReLU()\n",
              "    (7): Linear(in_features=128, out_features=1, bias=True)\n",
              "  )\n",
              ")"
            ]
          },
          "metadata": {},
          "execution_count": 56
        }
      ]
    },
    {
      "cell_type": "markdown",
      "source": [
        "##  2. test_loader 평가 (정확도, 정밀도, 재현율, F1)"
      ],
      "metadata": {
        "id": "Uf8bQFVc_LAk"
      }
    },
    {
      "cell_type": "code",
      "source": [
        "from sklearn.metrics import accuracy_score, precision_score, recall_score, f1_score\n",
        "import numpy as np\n",
        "import torch\n",
        "\n",
        "all_preds, all_labels = [], []\n",
        "\n",
        "with torch.no_grad():\n",
        "    for X_batch, y_batch in test_loader:\n",
        "        X_batch = X_batch.to(device)\n",
        "        y_batch = y_batch.to(device).unsqueeze(1)\n",
        "\n",
        "        logits = model(X_batch)\n",
        "        probs = torch.sigmoid(logits)            # BCEWithLogitsLoss → Sigmoid 필요\n",
        "        preds = (probs > 0.5).float()\n",
        "\n",
        "        all_preds.extend(preds.cpu().numpy())\n",
        "        all_labels.extend(y_batch.cpu().numpy())\n",
        "\n",
        "# numpy로 변환\n",
        "all_preds = np.array(all_preds).astype(int)\n",
        "all_labels = np.array(all_labels).astype(int)\n",
        "\n",
        "# 지표 계산\n",
        "acc = accuracy_score(all_labels, all_preds)\n",
        "prec = precision_score(all_labels, all_preds)\n",
        "rec = recall_score(all_labels, all_preds)\n",
        "f1 = f1_score(all_labels, all_preds)\n",
        "\n",
        "print(f\"✅ 테스트 성능:\")\n",
        "print(f\"Accuracy:  {acc:.4f}\")\n",
        "print(f\"Precision: {prec:.4f}\")\n",
        "print(f\"Recall:    {rec:.4f}\")\n",
        "print(f\"F1 Score:  {f1:.4f}\")\n"
      ],
      "metadata": {
        "colab": {
          "base_uri": "https://localhost:8080/"
        },
        "id": "XuzKt0Wk-L5a",
        "outputId": "67687e5c-25de-4691-cd3c-4be2cb6b19ff"
      },
      "execution_count": 57,
      "outputs": [
        {
          "output_type": "stream",
          "name": "stdout",
          "text": [
            "✅ 테스트 성능:\n",
            "Accuracy:  0.9251\n",
            "Precision: 0.6322\n",
            "Recall:    0.8462\n",
            "F1 Score:  0.7237\n"
          ]
        }
      ]
    },
    {
      "cell_type": "markdown",
      "source": [
        "#2. 결과에 대한 해석, 원인 파악"
      ],
      "metadata": {
        "id": "_4H7QmmzAH68"
      }
    },
    {
      "cell_type": "markdown",
      "source": [
        "# 1. 잘못 예측한 샘플 보기 (선택사항)"
      ],
      "metadata": {
        "id": "rGdnNP5X_ZF0"
      }
    },
    {
      "cell_type": "code",
      "source": [
        "# 틀린 샘플 인덱스 추출\n",
        "wrong_indices = np.where(all_preds != all_labels)[0]\n",
        "\n",
        "# 몇 개 출력해보기 (예: 5개)\n",
        "print(\"\\n🔍 잘못 예측한 샘플 (예시):\")\n",
        "for i in wrong_indices[:5]:\n",
        "    print(f\"예측: {all_preds[i]}, 실제: {all_labels[i]}\")\n"
      ],
      "metadata": {
        "colab": {
          "base_uri": "https://localhost:8080/"
        },
        "id": "fo6zH_iB_aq2",
        "outputId": "e9ac4be5-5f30-4e40-d5d3-48320fa4c711"
      },
      "execution_count": 58,
      "outputs": [
        {
          "output_type": "stream",
          "name": "stdout",
          "text": [
            "\n",
            "🔍 잘못 예측한 샘플 (예시):\n",
            "예측: [0], 실제: [1]\n",
            "예측: [1], 실제: [0]\n",
            "예측: [0], 실제: [1]\n",
            "예측: [0], 실제: [1]\n",
            "예측: [1], 실제: [0]\n"
          ]
        }
      ]
    },
    {
      "cell_type": "markdown",
      "source": [
        "## 틀린 예측을 item_df의 실제 물품 정보와 매칭"
      ],
      "metadata": {
        "id": "YaKsnag0_0K5"
      }
    },
    {
      "cell_type": "code",
      "source": [
        "# 테스트셋 인덱스를 item_df에서 복구\n",
        "all_indices = np.arange(len(X))\n",
        "\n",
        "# test 인덱스 재분할 ( 동일하게 stratify 포함!)\n",
        "_, idx_test = train_test_split(all_indices, test_size=0.2, random_state=42, stratify=y)\n",
        "\n",
        "# 틀린 예측 인덱스\n",
        "wrong_idx = np.where(all_preds != all_labels)[0]\n",
        "\n"
      ],
      "metadata": {
        "colab": {
          "base_uri": "https://localhost:8080/"
        },
        "id": "_gSWWcQz_3iP",
        "outputId": "ff7ab44a-c763-4c39-c94c-4ee534dacdac"
      },
      "execution_count": 63,
      "outputs": [
        {
          "output_type": "stream",
          "name": "stdout",
          "text": [
            "                            물품명                       모델명  \\\n",
            "1165               PHOTO RESIST                 SRED-0005   \n",
            "1531                 AUTO VALVE  AMDZ13R-X0022-4-FL619559   \n",
            "2020  Inertial Measurement Unit                   FI 200P   \n",
            "301             C9200L-48P-4G-A           C9200L-48P-4G-A   \n",
            "1948    분전반(Distribution Panel)     DP-AC-1P75, DP-DC-100   \n",
            "\n",
            "                                                     규격          회사명  예측값  실제값  \n",
            "1165                                  1GAL GLASS BOTTLE   주식회사 동진쎄미켐    0    1  \n",
            "1531  Part3R, N.C형, 1/4\"(6.35mm), Super300, 센서부착형, 하...    엘에스이 주식회사    1    0  \n",
            "2020  1) Gyro Operating Range:  ±1,000 º/sec  (자이로 선...     (주)파이버프로    0    1  \n",
            "301   Catalyst 9300 48-port 1G copper with modular u...  주식회사 이테크시스템    0    1  \n",
            "1948  DP-AC-1P75 (단상 2선 230~240V, 75kVA), DP-DC-100 ...      (주)지오닉스    1    0  \n",
            "                            물품명                       모델명  \\\n",
            "1165               PHOTO RESIST                 SRED-0005   \n",
            "1531                 AUTO VALVE  AMDZ13R-X0022-4-FL619559   \n",
            "2020  Inertial Measurement Unit                   FI 200P   \n",
            "301             C9200L-48P-4G-A           C9200L-48P-4G-A   \n",
            "1948    분전반(Distribution Panel)     DP-AC-1P75, DP-DC-100   \n",
            "\n",
            "                                                     규격          회사명  예측값  실제값  \n",
            "1165                                  1GAL GLASS BOTTLE   주식회사 동진쎄미켐    0    1  \n",
            "1531  Part3R, N.C형, 1/4\"(6.35mm), Super300, 센서부착형, 하...    엘에스이 주식회사    1    0  \n",
            "2020  1) Gyro Operating Range:  ±1,000 º/sec  (자이로 선...     (주)파이버프로    0    1  \n",
            "301   Catalyst 9300 48-port 1G copper with modular u...  주식회사 이테크시스템    0    1  \n",
            "1948  DP-AC-1P75 (단상 2선 230~240V, 75kVA), DP-DC-100 ...      (주)지오닉스    1    0  \n"
          ]
        }
      ]
    },
    {
      "cell_type": "code",
      "source": [
        "# 원본 item_df에서 틀린 샘플 정보 추출\n",
        "wrong_items = item_df.iloc[idx_test[wrong_idx]].copy()\n",
        "wrong_items['예측값'] = all_preds[wrong_idx]\n",
        "wrong_items['실제값'] = all_labels[wrong_idx]\n",
        "\n",
        "# 확인\n",
        " # (행 개수, 열 개수)\n",
        "print(wrong_items[['물품명', '모델명', '규격', '회사명', '예측값', '실제값']].head(5))"
      ],
      "metadata": {
        "colab": {
          "base_uri": "https://localhost:8080/"
        },
        "id": "TrnvER7rDAJB",
        "outputId": "0854ad82-7258-4ebf-a954-ae40467f0400"
      },
      "execution_count": 66,
      "outputs": [
        {
          "output_type": "stream",
          "name": "stdout",
          "text": [
            "                            물품명                       모델명  \\\n",
            "1165               PHOTO RESIST                 SRED-0005   \n",
            "1531                 AUTO VALVE  AMDZ13R-X0022-4-FL619559   \n",
            "2020  Inertial Measurement Unit                   FI 200P   \n",
            "301             C9200L-48P-4G-A           C9200L-48P-4G-A   \n",
            "1948    분전반(Distribution Panel)     DP-AC-1P75, DP-DC-100   \n",
            "\n",
            "                                                     규격          회사명  예측값  실제값  \n",
            "1165                                  1GAL GLASS BOTTLE   주식회사 동진쎄미켐    0    1  \n",
            "1531  Part3R, N.C형, 1/4\"(6.35mm), Super300, 센서부착형, 하...    엘에스이 주식회사    1    0  \n",
            "2020  1) Gyro Operating Range:  ±1,000 º/sec  (자이로 선...     (주)파이버프로    0    1  \n",
            "301   Catalyst 9300 48-port 1G copper with modular u...  주식회사 이테크시스템    0    1  \n",
            "1948  DP-AC-1P75 (단상 2선 230~240V, 75kVA), DP-DC-100 ...      (주)지오닉스    1    0  \n"
          ]
        }
      ]
    },
    {
      "cell_type": "code",
      "source": [
        "wrong_items.shape"
      ],
      "metadata": {
        "colab": {
          "base_uri": "https://localhost:8080/"
        },
        "id": "s5F5oPpXDdld",
        "outputId": "3ae2858e-0ced-4e58-b306-ad071aff61d5"
      },
      "execution_count": 67,
      "outputs": [
        {
          "output_type": "execute_result",
          "data": {
            "text/plain": [
              "(42, 17)"
            ]
          },
          "metadata": {},
          "execution_count": 67
        }
      ]
    },
    {
      "cell_type": "code",
      "source": [
        "wrong_items['item_text_len'] = wrong_items['item_text'].str.len()\n",
        "print(wrong_items[['item_text_len']].describe())\n"
      ],
      "metadata": {
        "colab": {
          "base_uri": "https://localhost:8080/"
        },
        "id": "PmGEXKT6DkSG",
        "outputId": "ace44e0a-dc59-4402-8ce1-c2222bc223bd"
      },
      "execution_count": 68,
      "outputs": [
        {
          "output_type": "stream",
          "name": "stdout",
          "text": [
            "       item_text_len\n",
            "count      42.000000\n",
            "mean      122.785714\n",
            "std        64.702899\n",
            "min        43.000000\n",
            "25%        88.250000\n",
            "50%       114.500000\n",
            "75%       144.250000\n",
            "max       407.000000\n"
          ]
        }
      ]
    },
    {
      "cell_type": "markdown",
      "source": [],
      "metadata": {
        "id": "VMA4L5CvACPu"
      }
    }
  ]
}