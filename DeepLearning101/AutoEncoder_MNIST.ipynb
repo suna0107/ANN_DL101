{
 "cells": [
  {
   "cell_type": "code",
   "execution_count": 1,
   "id": "bb4ee8f1-ea1f-422b-a7f4-6898fb22a266",
   "metadata": {},
   "outputs": [
    {
     "ename": "ModuleNotFoundError",
     "evalue": "No module named 'matplotlib'",
     "output_type": "error",
     "traceback": [
      "\u001b[0;31m---------------------------------------------------------------------------\u001b[0m",
      "\u001b[0;31mModuleNotFoundError\u001b[0m                       Traceback (most recent call last)",
      "Cell \u001b[0;32mIn[1], line 1\u001b[0m\n\u001b[0;32m----> 1\u001b[0m \u001b[43mget_ipython\u001b[49m\u001b[43m(\u001b[49m\u001b[43m)\u001b[49m\u001b[38;5;241;43m.\u001b[39;49m\u001b[43mrun_line_magic\u001b[49m\u001b[43m(\u001b[49m\u001b[38;5;124;43m'\u001b[39;49m\u001b[38;5;124;43mmatplotlib\u001b[39;49m\u001b[38;5;124;43m'\u001b[39;49m\u001b[43m,\u001b[49m\u001b[43m \u001b[49m\u001b[38;5;124;43m'\u001b[39;49m\u001b[38;5;124;43mnotebook\u001b[39;49m\u001b[38;5;124;43m'\u001b[39;49m\u001b[43m)\u001b[49m\n\u001b[1;32m      2\u001b[0m \u001b[38;5;28;01mimport\u001b[39;00m\u001b[38;5;250m \u001b[39m\u001b[38;5;21;01mtorch\u001b[39;00m\n\u001b[1;32m      3\u001b[0m \u001b[38;5;28;01mimport\u001b[39;00m\u001b[38;5;250m \u001b[39m\u001b[38;5;21;01mtorch\u001b[39;00m\u001b[38;5;21;01m.\u001b[39;00m\u001b[38;5;21;01mnn\u001b[39;00m\u001b[38;5;250m \u001b[39m\u001b[38;5;28;01mas\u001b[39;00m\u001b[38;5;250m \u001b[39m\u001b[38;5;21;01mnn\u001b[39;00m\n",
      "File \u001b[0;32m~/miniconda3/lib/python3.12/site-packages/IPython/core/interactiveshell.py:2482\u001b[0m, in \u001b[0;36mInteractiveShell.run_line_magic\u001b[0;34m(self, magic_name, line, _stack_depth)\u001b[0m\n\u001b[1;32m   2480\u001b[0m     kwargs[\u001b[38;5;124m'\u001b[39m\u001b[38;5;124mlocal_ns\u001b[39m\u001b[38;5;124m'\u001b[39m] \u001b[38;5;241m=\u001b[39m \u001b[38;5;28mself\u001b[39m\u001b[38;5;241m.\u001b[39mget_local_scope(stack_depth)\n\u001b[1;32m   2481\u001b[0m \u001b[38;5;28;01mwith\u001b[39;00m \u001b[38;5;28mself\u001b[39m\u001b[38;5;241m.\u001b[39mbuiltin_trap:\n\u001b[0;32m-> 2482\u001b[0m     result \u001b[38;5;241m=\u001b[39m \u001b[43mfn\u001b[49m\u001b[43m(\u001b[49m\u001b[38;5;241;43m*\u001b[39;49m\u001b[43margs\u001b[49m\u001b[43m,\u001b[49m\u001b[43m \u001b[49m\u001b[38;5;241;43m*\u001b[39;49m\u001b[38;5;241;43m*\u001b[39;49m\u001b[43mkwargs\u001b[49m\u001b[43m)\u001b[49m\n\u001b[1;32m   2484\u001b[0m \u001b[38;5;66;03m# The code below prevents the output from being displayed\u001b[39;00m\n\u001b[1;32m   2485\u001b[0m \u001b[38;5;66;03m# when using magics with decorator @output_can_be_silenced\u001b[39;00m\n\u001b[1;32m   2486\u001b[0m \u001b[38;5;66;03m# when the last Python token in the expression is a ';'.\u001b[39;00m\n\u001b[1;32m   2487\u001b[0m \u001b[38;5;28;01mif\u001b[39;00m \u001b[38;5;28mgetattr\u001b[39m(fn, magic\u001b[38;5;241m.\u001b[39mMAGIC_OUTPUT_CAN_BE_SILENCED, \u001b[38;5;28;01mFalse\u001b[39;00m):\n",
      "File \u001b[0;32m~/miniconda3/lib/python3.12/site-packages/IPython/core/magics/pylab.py:103\u001b[0m, in \u001b[0;36mPylabMagics.matplotlib\u001b[0;34m(self, line)\u001b[0m\n\u001b[1;32m     98\u001b[0m     \u001b[38;5;28mprint\u001b[39m(\n\u001b[1;32m     99\u001b[0m         \u001b[38;5;124m\"\u001b[39m\u001b[38;5;124mAvailable matplotlib backends: \u001b[39m\u001b[38;5;132;01m%s\u001b[39;00m\u001b[38;5;124m\"\u001b[39m\n\u001b[1;32m    100\u001b[0m         \u001b[38;5;241m%\u001b[39m _list_matplotlib_backends_and_gui_loops()\n\u001b[1;32m    101\u001b[0m     )\n\u001b[1;32m    102\u001b[0m \u001b[38;5;28;01melse\u001b[39;00m:\n\u001b[0;32m--> 103\u001b[0m     gui, backend \u001b[38;5;241m=\u001b[39m \u001b[38;5;28;43mself\u001b[39;49m\u001b[38;5;241;43m.\u001b[39;49m\u001b[43mshell\u001b[49m\u001b[38;5;241;43m.\u001b[39;49m\u001b[43menable_matplotlib\u001b[49m\u001b[43m(\u001b[49m\u001b[43margs\u001b[49m\u001b[38;5;241;43m.\u001b[39;49m\u001b[43mgui\u001b[49m\u001b[43m)\u001b[49m\n\u001b[1;32m    104\u001b[0m     \u001b[38;5;28mself\u001b[39m\u001b[38;5;241m.\u001b[39m_show_matplotlib_backend(args\u001b[38;5;241m.\u001b[39mgui, backend)\n",
      "File \u001b[0;32m~/miniconda3/lib/python3.12/site-packages/IPython/core/interactiveshell.py:3667\u001b[0m, in \u001b[0;36mInteractiveShell.enable_matplotlib\u001b[0;34m(self, gui)\u001b[0m\n\u001b[1;32m   3664\u001b[0m     \u001b[38;5;28;01mimport\u001b[39;00m\u001b[38;5;250m \u001b[39m\u001b[38;5;21;01mmatplotlib_inline\u001b[39;00m\u001b[38;5;21;01m.\u001b[39;00m\u001b[38;5;21;01mbackend_inline\u001b[39;00m\n\u001b[1;32m   3666\u001b[0m \u001b[38;5;28;01mfrom\u001b[39;00m\u001b[38;5;250m \u001b[39m\u001b[38;5;21;01mIPython\u001b[39;00m\u001b[38;5;21;01m.\u001b[39;00m\u001b[38;5;21;01mcore\u001b[39;00m\u001b[38;5;250m \u001b[39m\u001b[38;5;28;01mimport\u001b[39;00m pylabtools \u001b[38;5;28;01mas\u001b[39;00m pt\n\u001b[0;32m-> 3667\u001b[0m gui, backend \u001b[38;5;241m=\u001b[39m \u001b[43mpt\u001b[49m\u001b[38;5;241;43m.\u001b[39;49m\u001b[43mfind_gui_and_backend\u001b[49m\u001b[43m(\u001b[49m\u001b[43mgui\u001b[49m\u001b[43m,\u001b[49m\u001b[43m \u001b[49m\u001b[38;5;28;43mself\u001b[39;49m\u001b[38;5;241;43m.\u001b[39;49m\u001b[43mpylab_gui_select\u001b[49m\u001b[43m)\u001b[49m\n\u001b[1;32m   3669\u001b[0m \u001b[38;5;28;01mif\u001b[39;00m gui \u001b[38;5;241m!=\u001b[39m \u001b[38;5;28;01mNone\u001b[39;00m:\n\u001b[1;32m   3670\u001b[0m     \u001b[38;5;66;03m# If we have our first gui selection, store it\u001b[39;00m\n\u001b[1;32m   3671\u001b[0m     \u001b[38;5;28;01mif\u001b[39;00m \u001b[38;5;28mself\u001b[39m\u001b[38;5;241m.\u001b[39mpylab_gui_select \u001b[38;5;129;01mis\u001b[39;00m \u001b[38;5;28;01mNone\u001b[39;00m:\n",
      "File \u001b[0;32m~/miniconda3/lib/python3.12/site-packages/IPython/core/pylabtools.py:338\u001b[0m, in \u001b[0;36mfind_gui_and_backend\u001b[0;34m(gui, gui_select)\u001b[0m\n\u001b[1;32m    321\u001b[0m \u001b[38;5;28;01mdef\u001b[39;00m\u001b[38;5;250m \u001b[39m\u001b[38;5;21mfind_gui_and_backend\u001b[39m(gui\u001b[38;5;241m=\u001b[39m\u001b[38;5;28;01mNone\u001b[39;00m, gui_select\u001b[38;5;241m=\u001b[39m\u001b[38;5;28;01mNone\u001b[39;00m):\n\u001b[1;32m    322\u001b[0m \u001b[38;5;250m    \u001b[39m\u001b[38;5;124;03m\"\"\"Given a gui string return the gui and mpl backend.\u001b[39;00m\n\u001b[1;32m    323\u001b[0m \n\u001b[1;32m    324\u001b[0m \u001b[38;5;124;03m    Parameters\u001b[39;00m\n\u001b[0;32m   (...)\u001b[0m\n\u001b[1;32m    335\u001b[0m \u001b[38;5;124;03m    'WXAgg','Qt4Agg','module://matplotlib_inline.backend_inline','agg').\u001b[39;00m\n\u001b[1;32m    336\u001b[0m \u001b[38;5;124;03m    \"\"\"\u001b[39;00m\n\u001b[0;32m--> 338\u001b[0m     \u001b[38;5;28;01mimport\u001b[39;00m\u001b[38;5;250m \u001b[39m\u001b[38;5;21;01mmatplotlib\u001b[39;00m\n\u001b[1;32m    340\u001b[0m     \u001b[38;5;28;01mif\u001b[39;00m _matplotlib_manages_backends():\n\u001b[1;32m    341\u001b[0m         backend_registry \u001b[38;5;241m=\u001b[39m matplotlib\u001b[38;5;241m.\u001b[39mbackends\u001b[38;5;241m.\u001b[39mregistry\u001b[38;5;241m.\u001b[39mbackend_registry\n",
      "\u001b[0;31mModuleNotFoundError\u001b[0m: No module named 'matplotlib'"
     ]
    }
   ],
   "source": [
    "%matplotlib notebook \n",
    "import torch\n",
    "import torch.nn as nn\n",
    "import torch.optim as optim\n",
    "from torchvision import datasets, transforms\n",
    "from torch.utils.data import DataLoader\n",
    "import matplotlib.pyplot as plt\n",
    "import numpy as np\n",
    "import ipywidgets as widgets\n",
    "from IPython.display import display\n",
    "import os\n",
    "os.environ[\"KMP_DUPLICATE_LIB_OK\"]=\"TRUE\""
   ]
  },
  {
   "cell_type": "markdown",
   "id": "594ff764",
   "metadata": {},
   "source": [
    "# 1. 오토인코더 모델 설계"
   ]
  },
  {
   "cell_type": "code",
   "execution_count": 2,
   "id": "5814d2d5-83e3-46e3-943a-bf2a5b4a5aac",
   "metadata": {},
   "outputs": [],
   "source": [
    "class Autoencoder(nn.Module):\n",
    "    def __init__(self):\n",
    "        super(Autoencoder, self).__init__()\n",
    "        # Encoder\n",
    "        self.encoder = nn.Sequential(\n",
    "            nn.Linear(28*28, 128),\n",
    "            nn.Tanh(),\n",
    "            nn.Linear(128, 64),\n",
    "            nn.Tanh(),\n",
    "            nn.Linear(64, 12),\n",
    "            nn.Tanh(),\n",
    "            nn.Linear(12, 3)   # 잠재공간 latent space (3*3), Compressed representation\n",
    "        )\n",
    "        # Decoder\n",
    "        self.decoder = nn.Sequential(\n",
    "            nn.Linear(3, 12),\n",
    "            nn.Tanh(),\n",
    "            nn.Linear(12, 64),\n",
    "            nn.Tanh(),\n",
    "            nn.Linear(64, 128),\n",
    "            nn.Tanh(),\n",
    "            nn.Linear(128, 28*28),\n",
    "            nn.Tanh()       # Output a value between 0 and 1\n",
    "        )\n",
    "\n",
    "# 순전파 : 748차원 -> 3차원으로 \n",
    "    def forward(self, x): \n",
    "        x_encoded = self.encoder(x) # X:input 데이터 784차원, x_enoded = (3,3) 잠재공간 \n",
    "        x = self.decoder(x_encoded) # 2. (3, 3)으로 축소된 데이터를 디코더에 넣어서 다시 x를 얻음음\n",
    "        return x, x_encoded"
   ]
  },
  {
   "cell_type": "markdown",
   "id": "7fc123ed",
   "metadata": {},
   "source": [
    "# 2. Train, Test 데이터 준비"
   ]
  },
  {
   "cell_type": "code",
   "execution_count": 3,
   "id": "0e99f786-8542-4ae9-bcca-acedae989369",
   "metadata": {},
   "outputs": [],
   "source": [
    "# 데이터 로드 및 변환 : 데이터를 tensor형태로 변환\n",
    "transform = transforms.Compose([\n",
    "    transforms.ToTensor(),\n",
    "    transforms.Normalize((0.5,), (0.5,))\n",
    "])\n",
    "# 1) train데이터 변환 후 -> 로드 \n",
    "train_dataset = datasets.MNIST(root='./data', train=True, download=True, transform=transform)\n",
    "train_loader = DataLoader(train_dataset, batch_size=64, shuffle=True) # 배치 사이즈 64, 랜덤하게 \n",
    "# 학습 시, 미니배치 경사하강법을 사용하겠다! => 64개씩 데이터를 랜덤하게 모아서 학습하겠다\n",
    "\n",
    "# 2) test 데이터 변환 후 -> 로드 \n",
    "test_dataset = datasets.MNIST(root='./data', train=False, download=True, transform=transforms.ToTensor())\n",
    "test_loader = DataLoader(test_dataset, batch_size=1000, shuffle=True)  # Larger batch size for testing"
   ]
  },
  {
   "cell_type": "markdown",
   "id": "6c681c3a",
   "metadata": {},
   "source": [
    "# 3. 모델 준비비"
   ]
  },
  {
   "cell_type": "code",
   "execution_count": 4,
   "id": "fcf288d6-35a3-4ac7-9efd-aabc7985a014",
   "metadata": {},
   "outputs": [],
   "source": [
    "# 모델 초기화 \n",
    "model = Autoencoder() # 모델 생성성\n",
    "criterion = nn.MSELoss() # 손실함수 mse \n",
    "optimizer = optim.Adam(model.parameters(), lr=1e-3) # 옵티마이저 = adam "
   ]
  },
  {
   "cell_type": "markdown",
   "id": "88f76653",
   "metadata": {},
   "source": [
    "# 4. Train 설정"
   ]
  },
  {
   "cell_type": "code",
   "execution_count": null,
   "id": "4d7da56c-6cc6-4ca4-acea-567e03ceb323",
   "metadata": {},
   "outputs": [],
   "source": [
    "# Training loop\n",
    "num_epochs = 10 # 학습 10번 돌리기\n",
    "for epoch in range(num_epochs):\n",
    "    for data in train_loader:  # 변환 후 배치 된 train_loader 를 불러서\n",
    "        img, _ = data\n",
    "        img = img.view(img.size(0), -1)  # Flatten the images\n",
    "        output,_ = model(img) # 784->3->784 차원으로 output 결과\n",
    "        loss = criterion(output, img) # MSE로 output, img(input)사이의 손실계산산\n",
    "\n",
    "        optimizer.zero_grad()\n",
    "        loss.backward() # 손실을 사용하여 역전파 구하기\n",
    "        optimizer.step() # 옵티마이저(경사하강법법)로 각각 가중치 업데이트\n",
    "\n",
    "    print(f'Epoch [{epoch+1}/{num_epochs}], Loss: {loss.item():.4f}')\n",
    "\n",
    "print(\"Training Complete\")"
   ]
  },
  {
   "cell_type": "markdown",
   "id": "9c1cf662",
   "metadata": {},
   "source": [
    "#5.  test 단계계"
   ]
  },
  {
   "cell_type": "code",
   "execution_count": 6,
   "id": "602de63a-94a4-4039-ad0f-fe1dc16c52c3",
   "metadata": {},
   "outputs": [],
   "source": [
    "\n",
    "# 테스트 데이터 준비비\n",
    "dataiter = iter(test_loader)\n",
    "images, _ = next(dataiter)\n",
    "images_flattened = images.view(images.size(0), -1) # flatten : # 미니배치기에 (1000, 784(28*28))-> 784차원원\n",
    "\n",
    "# test 이미지를 순전파에 넣기\n",
    "output, _ = model(images_flattened) # test 데이터를 모델에 넣고 output : 784차원원\n",
    "# 실제 눈으로 보기 위해 output인 flatten된 결과값을 2차원의 28*28로 변환환\n",
    "output = output.view(output.size(0), 1, 28, 28).detach() \n",
    "\n",
    "# 결과 비교 : output의 결과가 input과 얼마나 비슷한지 시각화해서 비교 \n",
    "fig, axes = plt.subplots(nrows=2, ncols=10, sharex=True, sharey=True, figsize=(20,4))\n",
    "\n",
    "# Original images\n",
    "for images, row in zip([images, output], axes):\n",
    "    for img, ax in zip(images, row):\n",
    "        ax.imshow(img.squeeze().numpy(), cmap='gray')\n",
    "        ax.get_xaxis().set_visible(False)\n",
    "        ax.get_yaxis().set_visible(False)\n",
    "\n",
    "plt.show()"
   ]
  },
  {
   "cell_type": "markdown",
   "id": "f12d4e69",
   "metadata": {},
   "source": [
    "# 6. 잠재공간의 시각화 \n",
    "- (3,3)으로 줄어든 잠재공간"
   ]
  },
  {
   "cell_type": "code",
   "execution_count": null,
   "id": "e8aeca92-2f30-49c8-8fff-885d3980b64b",
   "metadata": {},
   "outputs": [],
   "source": [
    "\n",
    "model.eval()  # Set the model to evaluation mode\n",
    "\n",
    "latent_vectors = [] # 잠재공간 선언\n",
    "labels = []\n",
    "\n",
    "with torch.no_grad():\n",
    "    for data in test_loader:\n",
    "        imgs, lbls = data # 데이터 가져오기기\n",
    "        imgs = imgs.view(imgs.size(0), -1) # flatten\n",
    "        _, latents = model(imgs) # 이미지를 모델에 넣어서 잠재공간만 가져오기기\n",
    "        latent_vectors.append(latents) # 차곡차곡 모으기기\n",
    "        labels.append(lbls)\n",
    "\n",
    "# 2. 잠재공간을 3d공간에서 표현할 수 있도록 시각화 하는 코드 \n",
    "latent_vectors = torch.cat(latent_vectors, dim=0)\n",
    "labels = torch.cat(labels, dim=0)\n",
    "\n",
    "# 3D Visualization\n",
    "fig = plt.figure(figsize=(12, 10))\n",
    "ax = fig.add_subplot(111, projection='3d')\n",
    "\n",
    "# 각각의 잠재공간 좌표들을 라벨과 색으로 표시\n",
    "for i in range(10):\n",
    "    indices = np.where(labels == i)[0]\n",
    "    subset_indices = np.random.choice(indices, size=min(len(indices), 100), replace=False)\n",
    "\n",
    "    for idx in subset_indices:\n",
    "        ax.text(latent_vectors[idx, 0].item(), latent_vectors[idx, 1].item(), latent_vectors[idx, 2].item(),\n",
    "                str(i), color=plt.cm.tab10(i), fontsize=9, ha='center')\n",
    "\n",
    "\n",
    "# 좌표축 이름, 길이 설정\n",
    "x_min, x_max = latent_vectors[:, 0].min(), latent_vectors[:, 0].max()\n",
    "y_min, y_max = latent_vectors[:, 1].min(), latent_vectors[:, 1].max()\n",
    "z_min, z_max = latent_vectors[:, 2].min(), latent_vectors[:, 2].max()\n",
    "\n",
    "ax.set_xlim(x_min, x_max)\n",
    "ax.set_ylim(y_min, y_max)\n",
    "ax.set_zlim(z_min, z_max)\n",
    "\n",
    "\n",
    "ax.set_xlabel('Latent X')\n",
    "ax.set_ylabel('Latent Y')\n",
    "ax.set_zlabel('Latent Z')\n",
    "\n",
    "plt.show()"
   ]
  },
  {
   "cell_type": "code",
   "execution_count": null,
   "id": "e5020610-cbca-45fb-9627-f6c772519a22",
   "metadata": {},
   "outputs": [],
   "source": []
  }
 ],
 "metadata": {
  "kernelspec": {
   "display_name": "base",
   "language": "python",
   "name": "python3"
  },
  "language_info": {
   "codemirror_mode": {
    "name": "ipython",
    "version": 3
   },
   "file_extension": ".py",
   "mimetype": "text/x-python",
   "name": "python",
   "nbconvert_exporter": "python",
   "pygments_lexer": "ipython3",
   "version": "3.12.2"
  }
 },
 "nbformat": 4,
 "nbformat_minor": 5
}
