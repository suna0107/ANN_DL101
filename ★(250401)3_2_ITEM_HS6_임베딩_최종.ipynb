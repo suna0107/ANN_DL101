{
  "cells": [
    {
      "cell_type": "markdown",
      "metadata": {
        "id": "view-in-github",
        "colab_type": "text"
      },
      "source": [
        "<a href=\"https://colab.research.google.com/github/suna0107/ANN_DL101/blob/main/%E2%98%85(250401)3_2_ITEM_HS6_%EC%9E%84%EB%B2%A0%EB%94%A9_%EC%B5%9C%EC%A2%85.ipynb\" target=\"_parent\"><img src=\"https://colab.research.google.com/assets/colab-badge.svg\" alt=\"Open In Colab\"/></a>"
      ]
    },
    {
      "cell_type": "markdown",
      "metadata": {
        "id": "GUEjP8Z0B-2D"
      },
      "source": [
        "#1. ITEM 정보 내 HSKCD\n",
        "\n",
        "- 목표 : ITEM 정보 중 HSKCD(10자리)에서 HS_CODE_6 (6자리 추출)\n",
        "\n",
        "  → hs_avg_df: HS 6자리별 벡터 테이블의 hs_vec_800 열과 붙이기"
      ]
    },
    {
      "cell_type": "markdown",
      "metadata": {
        "id": "KRaC132jB-vn"
      },
      "source": [
        "## 1. HS 6자리 기준 코드/국문/영문 데이터 만들기 = hs_info_df\n",
        "\n",
        "- 학습용 x , 추후 분석용 데이터\n",
        "\n",
        "- \"hs_code6_name.csv\""
      ]
    },
    {
      "cell_type": "code",
      "execution_count": 25,
      "metadata": {
        "id": "bt8--G7TBxdZ",
        "colab": {
          "base_uri": "https://localhost:8080/",
          "height": 405
        },
        "outputId": "2f8fd28d-d827-421b-95ac-bbd62d3d8aa0"
      },
      "outputs": [
        {
          "output_type": "error",
          "ename": "FileNotFoundError",
          "evalue": "[Errno 2] No such file or directory: '/content/HS_CODE_PROCESSED_kr_en_final.xlsx'",
          "traceback": [
            "\u001b[0;31m---------------------------------------------------------------------------\u001b[0m",
            "\u001b[0;31mFileNotFoundError\u001b[0m                         Traceback (most recent call last)",
            "\u001b[0;32m<ipython-input-25-9cfd5e36f228>\u001b[0m in \u001b[0;36m<cell line: 0>\u001b[0;34m()\u001b[0m\n\u001b[1;32m      2\u001b[0m \u001b[0;34m\u001b[0m\u001b[0m\n\u001b[1;32m      3\u001b[0m \u001b[0;31m# 1. 원본 HS 코드 데이터 불러오기\u001b[0m\u001b[0;34m\u001b[0m\u001b[0;34m\u001b[0m\u001b[0m\n\u001b[0;32m----> 4\u001b[0;31m \u001b[0mhs_full_df\u001b[0m \u001b[0;34m=\u001b[0m \u001b[0mpd\u001b[0m\u001b[0;34m.\u001b[0m\u001b[0mread_excel\u001b[0m\u001b[0;34m(\u001b[0m\u001b[0;34m\"/content/HS_CODE_PROCESSED_kr_en_final.xlsx\"\u001b[0m\u001b[0;34m)\u001b[0m\u001b[0;34m\u001b[0m\u001b[0;34m\u001b[0m\u001b[0m\n\u001b[0m\u001b[1;32m      5\u001b[0m \u001b[0;34m\u001b[0m\u001b[0m\n\u001b[1;32m      6\u001b[0m \u001b[0;31m# 2. HS_CODE를 문자열 10자리로 통일 (앞자리 0 보존)\u001b[0m\u001b[0;34m\u001b[0m\u001b[0;34m\u001b[0m\u001b[0m\n",
            "\u001b[0;32m/usr/local/lib/python3.11/dist-packages/pandas/io/excel/_base.py\u001b[0m in \u001b[0;36mread_excel\u001b[0;34m(io, sheet_name, header, names, index_col, usecols, dtype, engine, converters, true_values, false_values, skiprows, nrows, na_values, keep_default_na, na_filter, verbose, parse_dates, date_parser, date_format, thousands, decimal, comment, skipfooter, storage_options, dtype_backend, engine_kwargs)\u001b[0m\n\u001b[1;32m    493\u001b[0m     \u001b[0;32mif\u001b[0m \u001b[0;32mnot\u001b[0m \u001b[0misinstance\u001b[0m\u001b[0;34m(\u001b[0m\u001b[0mio\u001b[0m\u001b[0;34m,\u001b[0m \u001b[0mExcelFile\u001b[0m\u001b[0;34m)\u001b[0m\u001b[0;34m:\u001b[0m\u001b[0;34m\u001b[0m\u001b[0;34m\u001b[0m\u001b[0m\n\u001b[1;32m    494\u001b[0m         \u001b[0mshould_close\u001b[0m \u001b[0;34m=\u001b[0m \u001b[0;32mTrue\u001b[0m\u001b[0;34m\u001b[0m\u001b[0;34m\u001b[0m\u001b[0m\n\u001b[0;32m--> 495\u001b[0;31m         io = ExcelFile(\n\u001b[0m\u001b[1;32m    496\u001b[0m             \u001b[0mio\u001b[0m\u001b[0;34m,\u001b[0m\u001b[0;34m\u001b[0m\u001b[0;34m\u001b[0m\u001b[0m\n\u001b[1;32m    497\u001b[0m             \u001b[0mstorage_options\u001b[0m\u001b[0;34m=\u001b[0m\u001b[0mstorage_options\u001b[0m\u001b[0;34m,\u001b[0m\u001b[0;34m\u001b[0m\u001b[0;34m\u001b[0m\u001b[0m\n",
            "\u001b[0;32m/usr/local/lib/python3.11/dist-packages/pandas/io/excel/_base.py\u001b[0m in \u001b[0;36m__init__\u001b[0;34m(self, path_or_buffer, engine, storage_options, engine_kwargs)\u001b[0m\n\u001b[1;32m   1548\u001b[0m                 \u001b[0mext\u001b[0m \u001b[0;34m=\u001b[0m \u001b[0;34m\"xls\"\u001b[0m\u001b[0;34m\u001b[0m\u001b[0;34m\u001b[0m\u001b[0m\n\u001b[1;32m   1549\u001b[0m             \u001b[0;32melse\u001b[0m\u001b[0;34m:\u001b[0m\u001b[0;34m\u001b[0m\u001b[0;34m\u001b[0m\u001b[0m\n\u001b[0;32m-> 1550\u001b[0;31m                 ext = inspect_excel_format(\n\u001b[0m\u001b[1;32m   1551\u001b[0m                     \u001b[0mcontent_or_path\u001b[0m\u001b[0;34m=\u001b[0m\u001b[0mpath_or_buffer\u001b[0m\u001b[0;34m,\u001b[0m \u001b[0mstorage_options\u001b[0m\u001b[0;34m=\u001b[0m\u001b[0mstorage_options\u001b[0m\u001b[0;34m\u001b[0m\u001b[0;34m\u001b[0m\u001b[0m\n\u001b[1;32m   1552\u001b[0m                 )\n",
            "\u001b[0;32m/usr/local/lib/python3.11/dist-packages/pandas/io/excel/_base.py\u001b[0m in \u001b[0;36minspect_excel_format\u001b[0;34m(content_or_path, storage_options)\u001b[0m\n\u001b[1;32m   1400\u001b[0m         \u001b[0mcontent_or_path\u001b[0m \u001b[0;34m=\u001b[0m \u001b[0mBytesIO\u001b[0m\u001b[0;34m(\u001b[0m\u001b[0mcontent_or_path\u001b[0m\u001b[0;34m)\u001b[0m\u001b[0;34m\u001b[0m\u001b[0;34m\u001b[0m\u001b[0m\n\u001b[1;32m   1401\u001b[0m \u001b[0;34m\u001b[0m\u001b[0m\n\u001b[0;32m-> 1402\u001b[0;31m     with get_handle(\n\u001b[0m\u001b[1;32m   1403\u001b[0m         \u001b[0mcontent_or_path\u001b[0m\u001b[0;34m,\u001b[0m \u001b[0;34m\"rb\"\u001b[0m\u001b[0;34m,\u001b[0m \u001b[0mstorage_options\u001b[0m\u001b[0;34m=\u001b[0m\u001b[0mstorage_options\u001b[0m\u001b[0;34m,\u001b[0m \u001b[0mis_text\u001b[0m\u001b[0;34m=\u001b[0m\u001b[0;32mFalse\u001b[0m\u001b[0;34m\u001b[0m\u001b[0;34m\u001b[0m\u001b[0m\n\u001b[1;32m   1404\u001b[0m     ) as handle:\n",
            "\u001b[0;32m/usr/local/lib/python3.11/dist-packages/pandas/io/common.py\u001b[0m in \u001b[0;36mget_handle\u001b[0;34m(path_or_buf, mode, encoding, compression, memory_map, is_text, errors, storage_options)\u001b[0m\n\u001b[1;32m    880\u001b[0m         \u001b[0;32melse\u001b[0m\u001b[0;34m:\u001b[0m\u001b[0;34m\u001b[0m\u001b[0;34m\u001b[0m\u001b[0m\n\u001b[1;32m    881\u001b[0m             \u001b[0;31m# Binary mode\u001b[0m\u001b[0;34m\u001b[0m\u001b[0;34m\u001b[0m\u001b[0m\n\u001b[0;32m--> 882\u001b[0;31m             \u001b[0mhandle\u001b[0m \u001b[0;34m=\u001b[0m \u001b[0mopen\u001b[0m\u001b[0;34m(\u001b[0m\u001b[0mhandle\u001b[0m\u001b[0;34m,\u001b[0m \u001b[0mioargs\u001b[0m\u001b[0;34m.\u001b[0m\u001b[0mmode\u001b[0m\u001b[0;34m)\u001b[0m\u001b[0;34m\u001b[0m\u001b[0;34m\u001b[0m\u001b[0m\n\u001b[0m\u001b[1;32m    883\u001b[0m         \u001b[0mhandles\u001b[0m\u001b[0;34m.\u001b[0m\u001b[0mappend\u001b[0m\u001b[0;34m(\u001b[0m\u001b[0mhandle\u001b[0m\u001b[0;34m)\u001b[0m\u001b[0;34m\u001b[0m\u001b[0;34m\u001b[0m\u001b[0m\n\u001b[1;32m    884\u001b[0m \u001b[0;34m\u001b[0m\u001b[0m\n",
            "\u001b[0;31mFileNotFoundError\u001b[0m: [Errno 2] No such file or directory: '/content/HS_CODE_PROCESSED_kr_en_final.xlsx'"
          ]
        }
      ],
      "source": [
        "import pandas as pd\n",
        "\n",
        "# 1. 원본 HS 코드 데이터 불러오기\n",
        "hs_full_df = pd.read_excel(\"/content/HS_CODE_PROCESSED_kr_en_final.xlsx\")\n",
        "\n",
        "# 2. HS_CODE를 문자열 10자리로 통일 (앞자리 0 보존)\n",
        "hs_full_df['HS_CODE'] = hs_full_df['HS_CODE'].astype(str).str.zfill(10)\n",
        "\n",
        "# 3. 앞 6자리 추출\n",
        "hs_full_df['HS_CODE_6'] = hs_full_df['HS_CODE'].str[:6]"
      ]
    },
    {
      "cell_type": "code",
      "execution_count": null,
      "metadata": {
        "id": "OBe7qdOzFsDO"
      },
      "outputs": [],
      "source": [
        "# 4. 뒤 4자리가 '0000'인 경우만 필터링 (세부 품목 제외)\n",
        "hs_6digit_only = hs_full_df[hs_full_df['HS_CODE'].str[6:] == '0000']\n",
        "\n",
        "# 5. HS_CODE_6 기준으로 첫 번째 행만 대표로 선택 (국문/영문명)\n",
        "hs_info_df = hs_6digit_only.groupby('HS_CODE_6').first().reset_index()\n"
      ]
    },
    {
      "cell_type": "code",
      "execution_count": null,
      "metadata": {
        "id": "FQXXa-wdF4K5"
      },
      "outputs": [],
      "source": [
        "# 6. 필요한 컬럼만 추출 및 이름 정리\n",
        "hs_info_df = hs_info_df[['HS_CODE_6', '국문', '영문']]\n",
        "hs_info_df.columns = ['HS_CODE_6', 'HS_NAME_KR', 'HS_NAME_EN']"
      ]
    },
    {
      "cell_type": "code",
      "execution_count": null,
      "metadata": {
        "collapsed": true,
        "id": "PDZd8hq6GDgM"
      },
      "outputs": [],
      "source": [
        "hs_info_df"
      ]
    },
    {
      "cell_type": "code",
      "execution_count": null,
      "metadata": {
        "id": "O_CYGV9eGBWu"
      },
      "outputs": [],
      "source": [
        "# 7. 저장\n",
        "hs_info_df.to_csv(\"hs_code6_name.csv\", index=False, encoding=\"utf-8-sig\")      # CSV 저장\n",
        "hs_info_df.to_excel(\"hs_code6_name.xlsx\", index=False)"
      ]
    },
    {
      "cell_type": "markdown",
      "metadata": {
        "id": "DZpdjC2FJPHl"
      },
      "source": [
        "##2. ITEM 중 필요한 데이터 정리 : item_data.csv\n",
        "\n",
        "- 이용할 컬럼 : 물품명, 모델명, 규격, 분류, 회사명, HSKCD, 결과\n",
        "\n",
        "- 결과가 있는 행: 학습용\n",
        "\n",
        "- 결과가 없는 행: 예측 대상용 (입력 준비용)\n",
        "\n"
      ]
    },
    {
      "cell_type": "code",
      "execution_count": 60,
      "metadata": {
        "id": "UN8yIL29JiJv"
      },
      "outputs": [],
      "source": [
        "import pandas as pd\n",
        "\n",
        "# 1. 엑셀 파일에서 ITEM 데이터 불러오기\n",
        "item_df = pd.read_excel(\"/content/ITEM.xlsx\")\n",
        "\n",
        "# 2. 필요한 컬럼만 추출\n",
        "columns = ['물품명', '모델명', '규격', '분야', '회사명', 'HSKCD', '결과', '통제번호']\n",
        "item_selected = item_df[columns]\n",
        "\n",
        "# 3. 전체 ITEM 데이터 저장 (CSV & Excel)\n",
        "item_selected.to_csv(\"item_data.csv\", index=False, encoding=\"utf-8-sig\")\n",
        "item_selected.to_excel(\"item_data.xlsx\", index=False)\n"
      ]
    },
    {
      "cell_type": "markdown",
      "metadata": {
        "id": "0yx2xyb5JlYM"
      },
      "source": [
        "# 3. ITEM 정보의 SBERT 입력 벡터 만들기\n",
        "\n",
        "(1) HSKCD 앞 6자리 추출 → HS_CODE_6\n",
        "- HS_CODE_6과 HS정보들 연결하기\n",
        "\n",
        "- hs_avg_df → HS 6자리별 평균 벡터 hs_vec_800 가져오기 : 실제 학습용 데이터\n",
        "- hs_info_df → HS 6자리별 이름(국문/영문) 가져오기 : 분석용 데이터\n",
        "\n",
        "(2) SBERT로 임베딩\n",
        "\n",
        "1) 물품명 + 모델명 + 규격 : item_vec(384)\n",
        "\n",
        "2) 회사명 : 회사_vec(384)\n",
        "\n",
        "* 회사명을 따로 SBERT 임베딩하는 이유?\n",
        "실제로 회사별로 자주 쓰는 HS 코드나 품목이 반복되면, 모델이 \"이 회사는 보통 이런 거 판정받는다\"는 패턴을 학습할 수 있음.\n",
        "\n",
        "(3) item_vec(768) ,  회사명_vec(384), hs_vec_800(800) concat → 모델 입력\n",
        "\n",
        "- concat을 위해서는 행의 수, 차원(열)이 동일 해야함\n",
        "\n",
        "- 특이사항 : 정보보안, 소프트웨어 분야의 경우 HSKCD 없는 경우 존재함\n",
        "-> 이런 경우, 추후 CONCAT을 위해 NaN 대신에 0으로 패딩하여 대체필요\n",
        "\n"
      ]
    },
    {
      "cell_type": "markdown",
      "metadata": {
        "id": "srmzsYo03v6W"
      },
      "source": [
        "###1. HSKCD에서 6자리 정보 추출 후 평균벡터 붙이기"
      ]
    },
    {
      "cell_type": "code",
      "execution_count": 62,
      "metadata": {
        "id": "xPXMNtX_LC4b"
      },
      "outputs": [],
      "source": [
        "import pandas as pd\n",
        "import numpy as np\n",
        "from sentence_transformers import SentenceTransformer\n",
        "\n",
        "# 1. 데이터 불러오기\n",
        "item_df = pd.read_csv(\"/content/item_data.csv\")   # 또는 item_test.csv\n",
        "hs_avg_df = pd.read_pickle(\"/content/hs_code6_avg_vec_800d.pkl\")\n",
        "\n",
        "# 2. HS 6자리 추출\n",
        "item_df['HS_CODE_6'] = item_df['HSKCD'].astype(str).str[:6]\n",
        "\n",
        "# 3. HS 평균 벡터 붙이기\n",
        "item_df = item_df.merge(hs_avg_df[['HS_CODE_6', 'hs_vec_800']], on='HS_CODE_6', how='left')\n"
      ]
    },
    {
      "cell_type": "code",
      "execution_count": 63,
      "metadata": {
        "colab": {
          "base_uri": "https://localhost:8080/",
          "height": 528
        },
        "id": "NAjCX_5z86Q2",
        "outputId": "33e3c755-0dfb-41d8-a254-83384385cae5"
      },
      "outputs": [
        {
          "output_type": "execute_result",
          "data": {
            "text/plain": [
              "                                                 물품명          모델명  \\\n",
              "0  위상 노이즈 분석기&VCO 테스터(Phase noise Analyzer and VC...  R&S® FSWP50   \n",
              "1                                           PCB ASSY   RJ154-0218   \n",
              "2                                          REGULATOR  RA450-0019A   \n",
              "\n",
              "                                                  규격         분야        회사명  \\\n",
              "0  Frequency : 1MHz to 50GHz/ Option : B1 B4 B24 ...         전자  주식회사 딥웨이브   \n",
              "1  ARC PCB ASSY 규격:245x124x36 무게:0.544kg 재질:FR-4 ...         전자  (주)현대에버다임   \n",
              "2                                      11-002-061(큰)  건설 및 운송기계  (주)현대에버다임   \n",
              "\n",
              "        HSKCD   결과      통제번호 HS_CODE_6  \\\n",
              "0  9030400000  비해당  3A002.c.    903040   \n",
              "1  8534009000  비해당       NaN    853400   \n",
              "2  7326909000  비해당       NaN    732690   \n",
              "\n",
              "                                          hs_vec_800  \n",
              "0  [-0.036086276173591614, 0.31613555550575256, -...  \n",
              "1  [-0.06912247091531754, 0.220761239528656, -0.1...  \n",
              "2  [-0.0746660903096199, 0.2519918978214264, -0.1...  "
            ],
            "text/html": [
              "\n",
              "  <div id=\"df-facf8b06-670d-4b1a-a63c-80a6214e8c4d\" class=\"colab-df-container\">\n",
              "    <div>\n",
              "<style scoped>\n",
              "    .dataframe tbody tr th:only-of-type {\n",
              "        vertical-align: middle;\n",
              "    }\n",
              "\n",
              "    .dataframe tbody tr th {\n",
              "        vertical-align: top;\n",
              "    }\n",
              "\n",
              "    .dataframe thead th {\n",
              "        text-align: right;\n",
              "    }\n",
              "</style>\n",
              "<table border=\"1\" class=\"dataframe\">\n",
              "  <thead>\n",
              "    <tr style=\"text-align: right;\">\n",
              "      <th></th>\n",
              "      <th>물품명</th>\n",
              "      <th>모델명</th>\n",
              "      <th>규격</th>\n",
              "      <th>분야</th>\n",
              "      <th>회사명</th>\n",
              "      <th>HSKCD</th>\n",
              "      <th>결과</th>\n",
              "      <th>통제번호</th>\n",
              "      <th>HS_CODE_6</th>\n",
              "      <th>hs_vec_800</th>\n",
              "    </tr>\n",
              "  </thead>\n",
              "  <tbody>\n",
              "    <tr>\n",
              "      <th>0</th>\n",
              "      <td>위상 노이즈 분석기&amp;VCO 테스터(Phase noise Analyzer and VC...</td>\n",
              "      <td>R&amp;S® FSWP50</td>\n",
              "      <td>Frequency : 1MHz to 50GHz/ Option : B1 B4 B24 ...</td>\n",
              "      <td>전자</td>\n",
              "      <td>주식회사 딥웨이브</td>\n",
              "      <td>9030400000</td>\n",
              "      <td>비해당</td>\n",
              "      <td>3A002.c.</td>\n",
              "      <td>903040</td>\n",
              "      <td>[-0.036086276173591614, 0.31613555550575256, -...</td>\n",
              "    </tr>\n",
              "    <tr>\n",
              "      <th>1</th>\n",
              "      <td>PCB ASSY</td>\n",
              "      <td>RJ154-0218</td>\n",
              "      <td>ARC PCB ASSY 규격:245x124x36 무게:0.544kg 재질:FR-4 ...</td>\n",
              "      <td>전자</td>\n",
              "      <td>(주)현대에버다임</td>\n",
              "      <td>8534009000</td>\n",
              "      <td>비해당</td>\n",
              "      <td>NaN</td>\n",
              "      <td>853400</td>\n",
              "      <td>[-0.06912247091531754, 0.220761239528656, -0.1...</td>\n",
              "    </tr>\n",
              "    <tr>\n",
              "      <th>2</th>\n",
              "      <td>REGULATOR</td>\n",
              "      <td>RA450-0019A</td>\n",
              "      <td>11-002-061(큰)</td>\n",
              "      <td>건설 및 운송기계</td>\n",
              "      <td>(주)현대에버다임</td>\n",
              "      <td>7326909000</td>\n",
              "      <td>비해당</td>\n",
              "      <td>NaN</td>\n",
              "      <td>732690</td>\n",
              "      <td>[-0.0746660903096199, 0.2519918978214264, -0.1...</td>\n",
              "    </tr>\n",
              "  </tbody>\n",
              "</table>\n",
              "</div>\n",
              "    <div class=\"colab-df-buttons\">\n",
              "\n",
              "  <div class=\"colab-df-container\">\n",
              "    <button class=\"colab-df-convert\" onclick=\"convertToInteractive('df-facf8b06-670d-4b1a-a63c-80a6214e8c4d')\"\n",
              "            title=\"Convert this dataframe to an interactive table.\"\n",
              "            style=\"display:none;\">\n",
              "\n",
              "  <svg xmlns=\"http://www.w3.org/2000/svg\" height=\"24px\" viewBox=\"0 -960 960 960\">\n",
              "    <path d=\"M120-120v-720h720v720H120Zm60-500h600v-160H180v160Zm220 220h160v-160H400v160Zm0 220h160v-160H400v160ZM180-400h160v-160H180v160Zm440 0h160v-160H620v160ZM180-180h160v-160H180v160Zm440 0h160v-160H620v160Z\"/>\n",
              "  </svg>\n",
              "    </button>\n",
              "\n",
              "  <style>\n",
              "    .colab-df-container {\n",
              "      display:flex;\n",
              "      gap: 12px;\n",
              "    }\n",
              "\n",
              "    .colab-df-convert {\n",
              "      background-color: #E8F0FE;\n",
              "      border: none;\n",
              "      border-radius: 50%;\n",
              "      cursor: pointer;\n",
              "      display: none;\n",
              "      fill: #1967D2;\n",
              "      height: 32px;\n",
              "      padding: 0 0 0 0;\n",
              "      width: 32px;\n",
              "    }\n",
              "\n",
              "    .colab-df-convert:hover {\n",
              "      background-color: #E2EBFA;\n",
              "      box-shadow: 0px 1px 2px rgba(60, 64, 67, 0.3), 0px 1px 3px 1px rgba(60, 64, 67, 0.15);\n",
              "      fill: #174EA6;\n",
              "    }\n",
              "\n",
              "    .colab-df-buttons div {\n",
              "      margin-bottom: 4px;\n",
              "    }\n",
              "\n",
              "    [theme=dark] .colab-df-convert {\n",
              "      background-color: #3B4455;\n",
              "      fill: #D2E3FC;\n",
              "    }\n",
              "\n",
              "    [theme=dark] .colab-df-convert:hover {\n",
              "      background-color: #434B5C;\n",
              "      box-shadow: 0px 1px 3px 1px rgba(0, 0, 0, 0.15);\n",
              "      filter: drop-shadow(0px 1px 2px rgba(0, 0, 0, 0.3));\n",
              "      fill: #FFFFFF;\n",
              "    }\n",
              "  </style>\n",
              "\n",
              "    <script>\n",
              "      const buttonEl =\n",
              "        document.querySelector('#df-facf8b06-670d-4b1a-a63c-80a6214e8c4d button.colab-df-convert');\n",
              "      buttonEl.style.display =\n",
              "        google.colab.kernel.accessAllowed ? 'block' : 'none';\n",
              "\n",
              "      async function convertToInteractive(key) {\n",
              "        const element = document.querySelector('#df-facf8b06-670d-4b1a-a63c-80a6214e8c4d');\n",
              "        const dataTable =\n",
              "          await google.colab.kernel.invokeFunction('convertToInteractive',\n",
              "                                                    [key], {});\n",
              "        if (!dataTable) return;\n",
              "\n",
              "        const docLinkHtml = 'Like what you see? Visit the ' +\n",
              "          '<a target=\"_blank\" href=https://colab.research.google.com/notebooks/data_table.ipynb>data table notebook</a>'\n",
              "          + ' to learn more about interactive tables.';\n",
              "        element.innerHTML = '';\n",
              "        dataTable['output_type'] = 'display_data';\n",
              "        await google.colab.output.renderOutput(dataTable, element);\n",
              "        const docLink = document.createElement('div');\n",
              "        docLink.innerHTML = docLinkHtml;\n",
              "        element.appendChild(docLink);\n",
              "      }\n",
              "    </script>\n",
              "  </div>\n",
              "\n",
              "\n",
              "<div id=\"df-4ca3a09e-264a-4512-8ae2-559eddfd6887\">\n",
              "  <button class=\"colab-df-quickchart\" onclick=\"quickchart('df-4ca3a09e-264a-4512-8ae2-559eddfd6887')\"\n",
              "            title=\"Suggest charts\"\n",
              "            style=\"display:none;\">\n",
              "\n",
              "<svg xmlns=\"http://www.w3.org/2000/svg\" height=\"24px\"viewBox=\"0 0 24 24\"\n",
              "     width=\"24px\">\n",
              "    <g>\n",
              "        <path d=\"M19 3H5c-1.1 0-2 .9-2 2v14c0 1.1.9 2 2 2h14c1.1 0 2-.9 2-2V5c0-1.1-.9-2-2-2zM9 17H7v-7h2v7zm4 0h-2V7h2v10zm4 0h-2v-4h2v4z\"/>\n",
              "    </g>\n",
              "</svg>\n",
              "  </button>\n",
              "\n",
              "<style>\n",
              "  .colab-df-quickchart {\n",
              "      --bg-color: #E8F0FE;\n",
              "      --fill-color: #1967D2;\n",
              "      --hover-bg-color: #E2EBFA;\n",
              "      --hover-fill-color: #174EA6;\n",
              "      --disabled-fill-color: #AAA;\n",
              "      --disabled-bg-color: #DDD;\n",
              "  }\n",
              "\n",
              "  [theme=dark] .colab-df-quickchart {\n",
              "      --bg-color: #3B4455;\n",
              "      --fill-color: #D2E3FC;\n",
              "      --hover-bg-color: #434B5C;\n",
              "      --hover-fill-color: #FFFFFF;\n",
              "      --disabled-bg-color: #3B4455;\n",
              "      --disabled-fill-color: #666;\n",
              "  }\n",
              "\n",
              "  .colab-df-quickchart {\n",
              "    background-color: var(--bg-color);\n",
              "    border: none;\n",
              "    border-radius: 50%;\n",
              "    cursor: pointer;\n",
              "    display: none;\n",
              "    fill: var(--fill-color);\n",
              "    height: 32px;\n",
              "    padding: 0;\n",
              "    width: 32px;\n",
              "  }\n",
              "\n",
              "  .colab-df-quickchart:hover {\n",
              "    background-color: var(--hover-bg-color);\n",
              "    box-shadow: 0 1px 2px rgba(60, 64, 67, 0.3), 0 1px 3px 1px rgba(60, 64, 67, 0.15);\n",
              "    fill: var(--button-hover-fill-color);\n",
              "  }\n",
              "\n",
              "  .colab-df-quickchart-complete:disabled,\n",
              "  .colab-df-quickchart-complete:disabled:hover {\n",
              "    background-color: var(--disabled-bg-color);\n",
              "    fill: var(--disabled-fill-color);\n",
              "    box-shadow: none;\n",
              "  }\n",
              "\n",
              "  .colab-df-spinner {\n",
              "    border: 2px solid var(--fill-color);\n",
              "    border-color: transparent;\n",
              "    border-bottom-color: var(--fill-color);\n",
              "    animation:\n",
              "      spin 1s steps(1) infinite;\n",
              "  }\n",
              "\n",
              "  @keyframes spin {\n",
              "    0% {\n",
              "      border-color: transparent;\n",
              "      border-bottom-color: var(--fill-color);\n",
              "      border-left-color: var(--fill-color);\n",
              "    }\n",
              "    20% {\n",
              "      border-color: transparent;\n",
              "      border-left-color: var(--fill-color);\n",
              "      border-top-color: var(--fill-color);\n",
              "    }\n",
              "    30% {\n",
              "      border-color: transparent;\n",
              "      border-left-color: var(--fill-color);\n",
              "      border-top-color: var(--fill-color);\n",
              "      border-right-color: var(--fill-color);\n",
              "    }\n",
              "    40% {\n",
              "      border-color: transparent;\n",
              "      border-right-color: var(--fill-color);\n",
              "      border-top-color: var(--fill-color);\n",
              "    }\n",
              "    60% {\n",
              "      border-color: transparent;\n",
              "      border-right-color: var(--fill-color);\n",
              "    }\n",
              "    80% {\n",
              "      border-color: transparent;\n",
              "      border-right-color: var(--fill-color);\n",
              "      border-bottom-color: var(--fill-color);\n",
              "    }\n",
              "    90% {\n",
              "      border-color: transparent;\n",
              "      border-bottom-color: var(--fill-color);\n",
              "    }\n",
              "  }\n",
              "</style>\n",
              "\n",
              "  <script>\n",
              "    async function quickchart(key) {\n",
              "      const quickchartButtonEl =\n",
              "        document.querySelector('#' + key + ' button');\n",
              "      quickchartButtonEl.disabled = true;  // To prevent multiple clicks.\n",
              "      quickchartButtonEl.classList.add('colab-df-spinner');\n",
              "      try {\n",
              "        const charts = await google.colab.kernel.invokeFunction(\n",
              "            'suggestCharts', [key], {});\n",
              "      } catch (error) {\n",
              "        console.error('Error during call to suggestCharts:', error);\n",
              "      }\n",
              "      quickchartButtonEl.classList.remove('colab-df-spinner');\n",
              "      quickchartButtonEl.classList.add('colab-df-quickchart-complete');\n",
              "    }\n",
              "    (() => {\n",
              "      let quickchartButtonEl =\n",
              "        document.querySelector('#df-4ca3a09e-264a-4512-8ae2-559eddfd6887 button');\n",
              "      quickchartButtonEl.style.display =\n",
              "        google.colab.kernel.accessAllowed ? 'block' : 'none';\n",
              "    })();\n",
              "  </script>\n",
              "</div>\n",
              "\n",
              "    </div>\n",
              "  </div>\n"
            ],
            "application/vnd.google.colaboratory.intrinsic+json": {
              "type": "dataframe",
              "variable_name": "item_df",
              "summary": "{\n  \"name\": \"item_df\",\n  \"rows\": 2865,\n  \"fields\": [\n    {\n      \"column\": \"\\ubb3c\\ud488\\uba85\",\n      \"properties\": {\n        \"dtype\": \"string\",\n        \"num_unique_values\": 2133,\n        \"samples\": [\n          \"SENSOR-SAFETY;KSP1-148135;KG5046\",\n          \"flat seal sheathed-1\",\n          \"\\uc120\\ud48d\\uae30\\n(\\ub300\\ud615)\"\n        ],\n        \"semantic_type\": \"\",\n        \"description\": \"\"\n      }\n    },\n    {\n      \"column\": \"\\ubaa8\\ub378\\uba85\",\n      \"properties\": {\n        \"dtype\": \"string\",\n        \"num_unique_values\": 2784,\n        \"samples\": [\n          \"PSA3000\",\n          \"B-006\",\n          \"HRC-HD, HRC-DL40, HRC-100, HRC-300, HRC-1500, HRC-20000, HRC-165000\"\n        ],\n        \"semantic_type\": \"\",\n        \"description\": \"\"\n      }\n    },\n    {\n      \"column\": \"\\uaddc\\uaca9\",\n      \"properties\": {\n        \"dtype\": \"string\",\n        \"num_unique_values\": 2470,\n        \"samples\": [\n          \"\\uc7a5\\uac11\\ucc28, \\uc804\\ucc28 \\ub4f1\",\n          \"Pure MoO2Cl2 precursor\",\n          \"RMA with SUS Valve 3/8\\\"(9.525mm), 10-100 LPM Air, 2\\\"Scale (50.8mm), Body : PC, O-Ring : CR & NBR\"\n        ],\n        \"semantic_type\": \"\",\n        \"description\": \"\"\n      }\n    },\n    {\n      \"column\": \"\\ubd84\\uc57c\",\n      \"properties\": {\n        \"dtype\": \"category\",\n        \"num_unique_values\": 27,\n        \"samples\": [\n          \"\\ud654\\ud559\",\n          \"\\ube44\\uae08\\uc18d\\ubc38\\ube0c\",\n          \"\\uc815\\ubcf4\\ubcf4\\uc548\"\n        ],\n        \"semantic_type\": \"\",\n        \"description\": \"\"\n      }\n    },\n    {\n      \"column\": \"\\ud68c\\uc0ac\\uba85\",\n      \"properties\": {\n        \"dtype\": \"category\",\n        \"num_unique_values\": 507,\n        \"samples\": [\n          \"\\ucf00\\uc774\\uc544\\uc774\\uc774 \\uc2dc\\uc2a4\\ud15c\\uc988(\\uc8fc)\",\n          \"(\\uc8fc)\\uc81c\\uc77c\\uc2dc\\uc2a4\\ud15c\",\n          \"\\ub9c1\\ud06c\\uc720\\ub2c8\\ubc84\\uc2a4 \\uc8fc\\uc2dd\\ud68c\\uc0ac\"\n        ],\n        \"semantic_type\": \"\",\n        \"description\": \"\"\n      }\n    },\n    {\n      \"column\": \"HSKCD\",\n      \"properties\": {\n        \"dtype\": \"category\",\n        \"num_unique_values\": 632,\n        \"samples\": [\n          \"8424909090\",\n          \"2907231000\",\n          \"8483309000\"\n        ],\n        \"semantic_type\": \"\",\n        \"description\": \"\"\n      }\n    },\n    {\n      \"column\": \"\\uacb0\\uacfc\",\n      \"properties\": {\n        \"dtype\": \"category\",\n        \"num_unique_values\": 2,\n        \"samples\": [\n          \"\\ud574\\ub2f9\",\n          \"\\ube44\\ud574\\ub2f9\"\n        ],\n        \"semantic_type\": \"\",\n        \"description\": \"\"\n      }\n    },\n    {\n      \"column\": \"\\ud1b5\\uc81c\\ubc88\\ud638\",\n      \"properties\": {\n        \"dtype\": \"category\",\n        \"num_unique_values\": 95,\n        \"samples\": [\n          \"6A005.b.2.\",\n          \"ML22.\"\n        ],\n        \"semantic_type\": \"\",\n        \"description\": \"\"\n      }\n    },\n    {\n      \"column\": \"HS_CODE_6\",\n      \"properties\": {\n        \"dtype\": \"category\",\n        \"num_unique_values\": 500,\n        \"samples\": [\n          \"903032\",\n          \"847170\"\n        ],\n        \"semantic_type\": \"\",\n        \"description\": \"\"\n      }\n    },\n    {\n      \"column\": \"hs_vec_800\",\n      \"properties\": {\n        \"dtype\": \"object\",\n        \"semantic_type\": \"\",\n        \"description\": \"\"\n      }\n    }\n  ]\n}"
            }
          },
          "metadata": {},
          "execution_count": 63
        }
      ],
      "source": [
        "item_df.head(3)"
      ]
    },
    {
      "cell_type": "markdown",
      "metadata": {
        "id": "bUWQB8j63vOK"
      },
      "source": [
        "###2. [item_vec] 물품명 + 모델명 + 규격 + 분야→ SBERT"
      ]
    },
    {
      "cell_type": "code",
      "execution_count": 64,
      "metadata": {
        "collapsed": true,
        "id": "4EZb7OUO38sp"
      },
      "outputs": [],
      "source": [
        "# SBERT 모델 로드\n",
        "from sentence_transformers import SentenceTransformer\n",
        "\n",
        "model = SentenceTransformer('sentence-transformers/paraphrase-multilingual-MiniLM-L12-v2')\n",
        "\n",
        "# 텍스트 조합 (물품명 + 모델명 + 규격 + 분류)\n",
        "item_df['item_text'] = item_df.apply(\n",
        "    lambda row: f\"물품명: {row['물품명']} 모델명: {row['모델명']} 규격: {row['규격']} 분야: {row['분야']}\",\n",
        "    axis=1\n",
        ")\n"
      ]
    },
    {
      "cell_type": "code",
      "execution_count": 78,
      "metadata": {
        "id": "ilpvp_x49gXD",
        "colab": {
          "base_uri": "https://localhost:8080/",
          "height": 115
        },
        "outputId": "cd42c948-06f2-4995-d7cb-bc126d4b69bc"
      },
      "outputs": [
        {
          "output_type": "execute_result",
          "data": {
            "text/plain": [
              "2864    물품명: Cisco 10GBASE SFP+ Modules 모델명: SFP-H10GB...\n",
              "Name: item_text, dtype: object"
            ],
            "text/html": [
              "<div>\n",
              "<style scoped>\n",
              "    .dataframe tbody tr th:only-of-type {\n",
              "        vertical-align: middle;\n",
              "    }\n",
              "\n",
              "    .dataframe tbody tr th {\n",
              "        vertical-align: top;\n",
              "    }\n",
              "\n",
              "    .dataframe thead th {\n",
              "        text-align: right;\n",
              "    }\n",
              "</style>\n",
              "<table border=\"1\" class=\"dataframe\">\n",
              "  <thead>\n",
              "    <tr style=\"text-align: right;\">\n",
              "      <th></th>\n",
              "      <th>item_text</th>\n",
              "    </tr>\n",
              "  </thead>\n",
              "  <tbody>\n",
              "    <tr>\n",
              "      <th>2864</th>\n",
              "      <td>물품명: Cisco 10GBASE SFP+ Modules 모델명: SFP-H10GB...</td>\n",
              "    </tr>\n",
              "  </tbody>\n",
              "</table>\n",
              "</div><br><label><b>dtype:</b> object</label>"
            ]
          },
          "metadata": {},
          "execution_count": 78
        }
      ],
      "source": [
        "item_df['item_text'].tail(1)"
      ]
    },
    {
      "cell_type": "markdown",
      "source": [
        "- sbert는 토큰 길이가 512 초과하면 성능 떨어짐 -> 확인 필요"
      ],
      "metadata": {
        "id": "hZmbXqZr_g8z"
      }
    },
    {
      "cell_type": "code",
      "source": [
        "from transformers import AutoTokenizer\n",
        "\n",
        "# 1. 토크나이저 불러오기 (SBERT 모델과 맞춰야 함)\n",
        "tokenizer = AutoTokenizer.from_pretrained('sentence-transformers/paraphrase-multilingual-MiniLM-L12-v2')\n",
        "\n",
        "# 2. 토큰 길이 리스트만 계산 (item_df에는 저장 안 함)\n",
        "token_lens = item_df['item_text'].apply(lambda x: len(tokenizer.tokenize(x)))\n",
        "\n",
        "# 3. 512 초과한 행만 필터링해서 확인 (원본 그대로 출력됨)\n",
        "long_texts = item_df[token_lens > 512]\n",
        "\n",
        "# 4. 결과 출력 : 8개라서 그냥 무시하고 진행하기\n",
        "print(\"🔍 512 토큰 초과한 행 수:\", len(long_texts))\n",
        "print(long_texts[['item_text']].head())\n"
      ],
      "metadata": {
        "colab": {
          "base_uri": "https://localhost:8080/"
        },
        "id": "jW6LEDjs_mdp",
        "outputId": "29b976b4-9948-473e-bd57-403c08c94291"
      },
      "execution_count": 79,
      "outputs": [
        {
          "output_type": "stream",
          "name": "stderr",
          "text": [
            "Token indices sequence length is longer than the specified maximum sequence length for this model (538 > 512). Running this sequence through the model will result in indexing errors\n"
          ]
        },
        {
          "output_type": "stream",
          "name": "stdout",
          "text": [
            "🔍 512 토큰 초과한 행 수: 8\n",
            "                                              item_text\n",
            "191   물품명: LEVEL GAUGE 모델명: 10-LG-10237 / 10-LG-1025...\n",
            "357   물품명: BOLT & NUTS - B8 / B8M 모델명: B8-1, B8-2, B...\n",
            "692   물품명: STRAINER 모델명: TAG NO : SPS-2811C/SPS-2811...\n",
            "693   물품명: FILTER  모델명: TAG NO : SPS-2811C/SPS-2811A...\n",
            "1897  물품명: STRAINER(VALVE류 제외) 모델명: TAG NO: 2SR-5521...\n"
          ]
        }
      ]
    },
    {
      "cell_type": "code",
      "execution_count": 66,
      "metadata": {
        "colab": {
          "base_uri": "https://localhost:8080/"
        },
        "id": "_u_Xish09DDf",
        "outputId": "568e3e56-7770-4303-b14c-70904829e4e2"
      },
      "outputs": [
        {
          "output_type": "stream",
          "name": "stderr",
          "text": [
            "100%|██████████| 2865/2865 [00:34<00:00, 82.83it/s]\n"
          ]
        }
      ],
      "source": [
        "from tqdm import tqdm\n",
        "\n",
        "# SBERT 임베딩\n",
        "item_texts = item_df['item_text'].astype(str).tolist()\n",
        "item_vecs = sbert.encode(item_texts)\n",
        "# 진행상황 확인\n",
        "item_vecs = [sbert.encode(text) for text in tqdm(item_texts)]"
      ]
    },
    {
      "cell_type": "code",
      "source": [
        "# item 텍스트 임베딩 결과를 리스트화 하여 'item_df'열에 저장\n",
        "item_df['item_vec'] = list(item_vecs)"
      ],
      "metadata": {
        "id": "Ubca2kHWptYs"
      },
      "execution_count": 67,
      "outputs": []
    },
    {
      "cell_type": "code",
      "execution_count": 68,
      "metadata": {
        "id": "bFCqf8zz965Q",
        "colab": {
          "base_uri": "https://localhost:8080/",
          "height": 458
        },
        "collapsed": true,
        "outputId": "31425706-179d-4e5c-bac0-65420bb067b3"
      },
      "outputs": [
        {
          "output_type": "execute_result",
          "data": {
            "text/plain": [
              "0       [-0.13495076, -0.16238776, -0.14617763, -0.568...\n",
              "1       [0.35064232, -0.3505638, -0.6376528, -0.041862...\n",
              "2       [-0.025563722, 0.13539273, -0.26119855, 0.8144...\n",
              "3       [0.02439301, -0.45042038, -0.5502303, 0.137376...\n",
              "4       [0.23377459, 0.20144418, -0.6715343, 0.3352779...\n",
              "                              ...                        \n",
              "2860    [-0.07856645, 0.09103005, -0.28533533, -0.4154...\n",
              "2861    [0.16751932, 0.14041051, -0.5645307, 0.3581503...\n",
              "2862    [0.1505563, -0.36786667, 0.123948716, -0.57130...\n",
              "2863    [0.22787055, -0.20284691, 0.06262538, 0.165827...\n",
              "2864    [-0.4119101, -0.19232339, -0.3595738, -0.38318...\n",
              "Name: item_vec, Length: 2865, dtype: object"
            ],
            "text/html": [
              "<div>\n",
              "<style scoped>\n",
              "    .dataframe tbody tr th:only-of-type {\n",
              "        vertical-align: middle;\n",
              "    }\n",
              "\n",
              "    .dataframe tbody tr th {\n",
              "        vertical-align: top;\n",
              "    }\n",
              "\n",
              "    .dataframe thead th {\n",
              "        text-align: right;\n",
              "    }\n",
              "</style>\n",
              "<table border=\"1\" class=\"dataframe\">\n",
              "  <thead>\n",
              "    <tr style=\"text-align: right;\">\n",
              "      <th></th>\n",
              "      <th>item_vec</th>\n",
              "    </tr>\n",
              "  </thead>\n",
              "  <tbody>\n",
              "    <tr>\n",
              "      <th>0</th>\n",
              "      <td>[-0.13495076, -0.16238776, -0.14617763, -0.568...</td>\n",
              "    </tr>\n",
              "    <tr>\n",
              "      <th>1</th>\n",
              "      <td>[0.35064232, -0.3505638, -0.6376528, -0.041862...</td>\n",
              "    </tr>\n",
              "    <tr>\n",
              "      <th>2</th>\n",
              "      <td>[-0.025563722, 0.13539273, -0.26119855, 0.8144...</td>\n",
              "    </tr>\n",
              "    <tr>\n",
              "      <th>3</th>\n",
              "      <td>[0.02439301, -0.45042038, -0.5502303, 0.137376...</td>\n",
              "    </tr>\n",
              "    <tr>\n",
              "      <th>4</th>\n",
              "      <td>[0.23377459, 0.20144418, -0.6715343, 0.3352779...</td>\n",
              "    </tr>\n",
              "    <tr>\n",
              "      <th>...</th>\n",
              "      <td>...</td>\n",
              "    </tr>\n",
              "    <tr>\n",
              "      <th>2860</th>\n",
              "      <td>[-0.07856645, 0.09103005, -0.28533533, -0.4154...</td>\n",
              "    </tr>\n",
              "    <tr>\n",
              "      <th>2861</th>\n",
              "      <td>[0.16751932, 0.14041051, -0.5645307, 0.3581503...</td>\n",
              "    </tr>\n",
              "    <tr>\n",
              "      <th>2862</th>\n",
              "      <td>[0.1505563, -0.36786667, 0.123948716, -0.57130...</td>\n",
              "    </tr>\n",
              "    <tr>\n",
              "      <th>2863</th>\n",
              "      <td>[0.22787055, -0.20284691, 0.06262538, 0.165827...</td>\n",
              "    </tr>\n",
              "    <tr>\n",
              "      <th>2864</th>\n",
              "      <td>[-0.4119101, -0.19232339, -0.3595738, -0.38318...</td>\n",
              "    </tr>\n",
              "  </tbody>\n",
              "</table>\n",
              "<p>2865 rows × 1 columns</p>\n",
              "</div><br><label><b>dtype:</b> object</label>"
            ]
          },
          "metadata": {},
          "execution_count": 68
        }
      ],
      "source": [
        "item_df['item_vec']"
      ]
    },
    {
      "cell_type": "markdown",
      "metadata": {
        "id": "UHvfHolg3-BJ"
      },
      "source": [
        "### 3.  [회사_vec] 회사명만 따로 SBERT"
      ]
    },
    {
      "cell_type": "code",
      "execution_count": 69,
      "metadata": {
        "id": "TasMEmD139zG"
      },
      "outputs": [],
      "source": [
        "company_name = item_df['회사명'].astype(str).tolist()\n",
        "company_vecs = sbert.encode(company_name)\n",
        "\n",
        "item_df['company_vecs'] = list(company_vecs)"
      ]
    },
    {
      "cell_type": "markdown",
      "source": [
        "- item_df 내 임베딩 데이터 모두 저장한 파일 = item_vec.pkl"
      ],
      "metadata": {
        "id": "GjmFadKbqo7d"
      }
    },
    {
      "cell_type": "code",
      "source": [
        "\n",
        "# 1. 피클 파일로 저장 (SBERT 벡터는 리스트 → 피클 권장)\n",
        "item_df.to_pickle(\"item_df_vec.pkl\")\n",
        "\n",
        "# 2. csv 저장\n",
        "item_df.to_csv(\"item_df_vec.csv\", index=False, encoding=\"utf-8-sig\")\n"
      ],
      "metadata": {
        "id": "DPZq0L-mql4t"
      },
      "execution_count": 47,
      "outputs": []
    },
    {
      "cell_type": "markdown",
      "metadata": {
        "id": "qCgfVsKX4QLO"
      },
      "source": [
        "### 4. 세 벡터 concat → 최종 input_vec (1568차원)"
      ]
    },
    {
      "cell_type": "markdown",
      "source": [
        "(1) concat을 위해서 행과 차원이 일치해야함\n",
        "\n",
        "- 소프트웨어, 정보보안 등 일부 HSKCD 없이도 판정 가능\n",
        "- 추후, 모델 입력값은 차원, 행이 일치해함 -> 따라서, HS코드가 누락인 경우 NAN이 아닌 0으로 패딩해서 차원을 동일하게 맞추기"
      ],
      "metadata": {
        "id": "G3tKBDTUo8Ii"
      }
    },
    {
      "cell_type": "code",
      "source": [
        "print(\"전체 데이터프레임 행 수:\", len(item_df))\n",
        "print(\"item_vec 있는 행 수:\", item_df['item_vec'].notnull().sum())\n",
        "print(\"회사_vec 있는 행 수:\", item_df['company_vecs'].notnull().sum())\n",
        "print(\"hs_vec_800 있는 행 수:\", item_df['hs_vec_800'].notnull().sum())"
      ],
      "metadata": {
        "colab": {
          "base_uri": "https://localhost:8080/"
        },
        "id": "ujXzn_tKpF5P",
        "outputId": "c06abb9a-ab77-4f67-c1ea-a3409e41d5f8"
      },
      "execution_count": 70,
      "outputs": [
        {
          "output_type": "stream",
          "name": "stdout",
          "text": [
            "전체 데이터프레임 행 수: 2865\n",
            "item_vec 있는 행 수: 2865\n",
            "회사_vec 있는 행 수: 2865\n",
            "hs_vec_800 있는 행 수: 2803\n"
          ]
        }
      ]
    },
    {
      "cell_type": "code",
      "source": [
        "#  누락된 행 확인 : 정보보안, 소프트웨어의 경우 HSKCD없이도 판정 가능\n",
        "# 추후 CONCAT을 위해 NAN이 아닌 0으로 패딩하여 모든 차원, 행의 수 맞추기\n",
        "item_df[item_df['hs_vec_800'].isnull()]\n"
      ],
      "metadata": {
        "colab": {
          "base_uri": "https://localhost:8080/",
          "height": 1000
        },
        "collapsed": true,
        "id": "REU0llVoo7HV",
        "outputId": "8a049954-5a3f-4709-b9ff-bcc3cb3f2757"
      },
      "execution_count": 71,
      "outputs": [
        {
          "output_type": "execute_result",
          "data": {
            "text/plain": [
              "                                                    물품명  \\\n",
              "143                                            ixShield   \n",
              "182                           DevExpress Universal 24.2   \n",
              "241                                              aStone   \n",
              "246   해외(페루) 현지조선소 교육자료 - (Understanding of Block Fa...   \n",
              "247   해외(페루) 현지조선소 교육자료 - Welding Process include ta...   \n",
              "...                                                 ...   \n",
              "2260  Research Proposal Advancing Li-ion Battery Pac...   \n",
              "2374                                    보툴리눔 독소 제제 생산기술   \n",
              "2389                                              소프트웨어   \n",
              "2411                                 Soft x-ray Charger   \n",
              "2755                                  Unified Dashboard   \n",
              "\n",
              "                                     모델명  \\\n",
              "143                       ixShield  v1.5   \n",
              "182            DevExpress Universal 24.2   \n",
              "241                               aStone   \n",
              "246                     페루 호위함/원해경비함/상륙함   \n",
              "247                     페루 호위함/원해경비함/상륙함   \n",
              "...                                  ...   \n",
              "2260                                해당없음   \n",
              "2374  ATGC-100(BOTOX), ATGC-110((XEOMIN)   \n",
              "2389                              RADMAX   \n",
              "2411                              XRC-05   \n",
              "2755              Unified Dashboard v1.1   \n",
              "\n",
              "                                                     규격    분야             회사명  \\\n",
              "143                                      ixShield  v1.5  정보보안      (주)엔에스에이치씨   \n",
              "182                                      소프트웨어 개발 패키지 툴   컴퓨터           단군소프트   \n",
              "241                            무형 소프트웨어로서 별도의 규격은 없습니다.   컴퓨터     주식회사 데이타솔루션   \n",
              "246                                함정 건조(생산) 외에 응용분야 없음    함정  에이치디현대중공업 주식회사   \n",
              "247                                함정 건조(생산) 외에 응용분야 없음    함정  에이치디현대중공업 주식회사   \n",
              "...                                                 ...   ...             ...   \n",
              "2260                                     이차전지 모듈팩 생산·사용    전자           KAIST   \n",
              "2374  보툴리눔 독소는 신경전달물질(아세틸콜린)의 분비를 차단하여 근육의 수축을 막는 단순...    생물       (주) 에이티지씨   \n",
              "2389                                         무형의 소프트웨어   정보보안            디알젬    \n",
              "2411                                               알루미늄    전자       (주)에이치시티엠   \n",
              "2755                                보안관제를 위한 시각화 된 대시보드  정보보안     (주)이글루코퍼레이션   \n",
              "\n",
              "     HSKCD   결과        통제번호 HS_CODE_6 hs_vec_800  \\\n",
              "143      -   해당  5D002.c.1.         -        NaN   \n",
              "182      -  비해당         NaN         -        NaN   \n",
              "241      -   해당  5D002.c.1.         -        NaN   \n",
              "246      -  비해당       ML22.         -        NaN   \n",
              "247      -  비해당       ML22.         -        NaN   \n",
              "...    ...  ...         ...       ...        ...   \n",
              "2260     -  비해당         NaN         -        NaN   \n",
              "2374     -   해당      1E001.         -        NaN   \n",
              "2389     -  비해당  5D002.c.1.         -        NaN   \n",
              "2411     -  비해당         NaN         -        NaN   \n",
              "2755     -  비해당  5D002.c.1.         -        NaN   \n",
              "\n",
              "                                              item_text  \\\n",
              "143   물품명: ixShield 모델명: ixShield  v1.5 규격: ixShield...   \n",
              "182   물품명: DevExpress Universal 24.2 모델명: DevExpress...   \n",
              "241   물품명: aStone 모델명: aStone 규격: 무형 소프트웨어로서 별도의 규격은...   \n",
              "246   물품명: 해외(페루) 현지조선소 교육자료 - (Understanding of Blo...   \n",
              "247   물품명: 해외(페루) 현지조선소 교육자료 - Welding Process inclu...   \n",
              "...                                                 ...   \n",
              "2260  물품명: Research Proposal Advancing Li-ion Batter...   \n",
              "2374  물품명: 보툴리눔 독소 제제 생산기술 모델명: ATGC-100(BOTOX), ATG...   \n",
              "2389     물품명: 소프트웨어 모델명: RADMAX 규격: 무형의 소프트웨어  분야: 정보보안   \n",
              "2411  물품명: Soft x-ray Charger 모델명: XRC-05 규격: 알루미늄 분...   \n",
              "2755  물품명: Unified Dashboard 모델명: Unified Dashboard ...   \n",
              "\n",
              "                                               item_vec  \\\n",
              "143   [-0.83767056, -0.43451333, -0.32771742, -0.010...   \n",
              "182   [-0.6397082, -0.22082311, 0.22587995, -0.20364...   \n",
              "241   [-0.69128555, 0.68512493, -0.34471792, 0.07014...   \n",
              "246   [-0.23282391, 0.15263645, -0.81129146, 0.20316...   \n",
              "247   [-0.33357966, 0.14811441, -0.8402546, 0.253376...   \n",
              "...                                                 ...   \n",
              "2260  [-0.03236578, -0.051285308, -0.40731376, -0.37...   \n",
              "2374  [0.06037862, -0.25577, -0.30189443, 0.23524892...   \n",
              "2389  [-0.29601827, 0.5894548, 0.045839366, 0.137013...   \n",
              "2411  [0.21989256, -0.26572984, -0.48946342, -0.0187...   \n",
              "2755  [-0.4387509, -0.46646962, -0.34099656, -0.0831...   \n",
              "\n",
              "                                           company_vecs  \n",
              "143   [-0.8262312, -0.37119642, -0.3940577, 0.014397...  \n",
              "182   [-0.22656195, -0.8173312, 0.07579139, 0.274589...  \n",
              "241   [-0.7393956, 0.1982225, -1.4073247, -0.0276085...  \n",
              "246   [-1.1808014, -0.1531619, -0.5656478, 0.0795114...  \n",
              "247   [-1.1808014, -0.1531619, -0.5656478, 0.0795114...  \n",
              "...                                                 ...  \n",
              "2260  [0.053614974, 0.6122125, 0.1804245, -0.9448639...  \n",
              "2374  [-0.88395643, 0.41650215, -1.6644671, -0.06898...  \n",
              "2389  [-1.2612818, -0.2509368, -0.77734786, -1.15135...  \n",
              "2411  [-0.9223122, -0.16033792, -0.65209955, 0.66986...  \n",
              "2755  [-0.75774115, 0.48535666, -0.28321308, 0.06794...  \n",
              "\n",
              "[62 rows x 13 columns]"
            ],
            "text/html": [
              "\n",
              "  <div id=\"df-8207d1be-7009-4ab5-9342-ba90d0858f39\" class=\"colab-df-container\">\n",
              "    <div>\n",
              "<style scoped>\n",
              "    .dataframe tbody tr th:only-of-type {\n",
              "        vertical-align: middle;\n",
              "    }\n",
              "\n",
              "    .dataframe tbody tr th {\n",
              "        vertical-align: top;\n",
              "    }\n",
              "\n",
              "    .dataframe thead th {\n",
              "        text-align: right;\n",
              "    }\n",
              "</style>\n",
              "<table border=\"1\" class=\"dataframe\">\n",
              "  <thead>\n",
              "    <tr style=\"text-align: right;\">\n",
              "      <th></th>\n",
              "      <th>물품명</th>\n",
              "      <th>모델명</th>\n",
              "      <th>규격</th>\n",
              "      <th>분야</th>\n",
              "      <th>회사명</th>\n",
              "      <th>HSKCD</th>\n",
              "      <th>결과</th>\n",
              "      <th>통제번호</th>\n",
              "      <th>HS_CODE_6</th>\n",
              "      <th>hs_vec_800</th>\n",
              "      <th>item_text</th>\n",
              "      <th>item_vec</th>\n",
              "      <th>company_vecs</th>\n",
              "    </tr>\n",
              "  </thead>\n",
              "  <tbody>\n",
              "    <tr>\n",
              "      <th>143</th>\n",
              "      <td>ixShield</td>\n",
              "      <td>ixShield  v1.5</td>\n",
              "      <td>ixShield  v1.5</td>\n",
              "      <td>정보보안</td>\n",
              "      <td>(주)엔에스에이치씨</td>\n",
              "      <td>-</td>\n",
              "      <td>해당</td>\n",
              "      <td>5D002.c.1.</td>\n",
              "      <td>-</td>\n",
              "      <td>NaN</td>\n",
              "      <td>물품명: ixShield 모델명: ixShield  v1.5 규격: ixShield...</td>\n",
              "      <td>[-0.83767056, -0.43451333, -0.32771742, -0.010...</td>\n",
              "      <td>[-0.8262312, -0.37119642, -0.3940577, 0.014397...</td>\n",
              "    </tr>\n",
              "    <tr>\n",
              "      <th>182</th>\n",
              "      <td>DevExpress Universal 24.2</td>\n",
              "      <td>DevExpress Universal 24.2</td>\n",
              "      <td>소프트웨어 개발 패키지 툴</td>\n",
              "      <td>컴퓨터</td>\n",
              "      <td>단군소프트</td>\n",
              "      <td>-</td>\n",
              "      <td>비해당</td>\n",
              "      <td>NaN</td>\n",
              "      <td>-</td>\n",
              "      <td>NaN</td>\n",
              "      <td>물품명: DevExpress Universal 24.2 모델명: DevExpress...</td>\n",
              "      <td>[-0.6397082, -0.22082311, 0.22587995, -0.20364...</td>\n",
              "      <td>[-0.22656195, -0.8173312, 0.07579139, 0.274589...</td>\n",
              "    </tr>\n",
              "    <tr>\n",
              "      <th>241</th>\n",
              "      <td>aStone</td>\n",
              "      <td>aStone</td>\n",
              "      <td>무형 소프트웨어로서 별도의 규격은 없습니다.</td>\n",
              "      <td>컴퓨터</td>\n",
              "      <td>주식회사 데이타솔루션</td>\n",
              "      <td>-</td>\n",
              "      <td>해당</td>\n",
              "      <td>5D002.c.1.</td>\n",
              "      <td>-</td>\n",
              "      <td>NaN</td>\n",
              "      <td>물품명: aStone 모델명: aStone 규격: 무형 소프트웨어로서 별도의 규격은...</td>\n",
              "      <td>[-0.69128555, 0.68512493, -0.34471792, 0.07014...</td>\n",
              "      <td>[-0.7393956, 0.1982225, -1.4073247, -0.0276085...</td>\n",
              "    </tr>\n",
              "    <tr>\n",
              "      <th>246</th>\n",
              "      <td>해외(페루) 현지조선소 교육자료 - (Understanding of Block Fa...</td>\n",
              "      <td>페루 호위함/원해경비함/상륙함</td>\n",
              "      <td>함정 건조(생산) 외에 응용분야 없음</td>\n",
              "      <td>함정</td>\n",
              "      <td>에이치디현대중공업 주식회사</td>\n",
              "      <td>-</td>\n",
              "      <td>비해당</td>\n",
              "      <td>ML22.</td>\n",
              "      <td>-</td>\n",
              "      <td>NaN</td>\n",
              "      <td>물품명: 해외(페루) 현지조선소 교육자료 - (Understanding of Blo...</td>\n",
              "      <td>[-0.23282391, 0.15263645, -0.81129146, 0.20316...</td>\n",
              "      <td>[-1.1808014, -0.1531619, -0.5656478, 0.0795114...</td>\n",
              "    </tr>\n",
              "    <tr>\n",
              "      <th>247</th>\n",
              "      <td>해외(페루) 현지조선소 교육자료 - Welding Process include ta...</td>\n",
              "      <td>페루 호위함/원해경비함/상륙함</td>\n",
              "      <td>함정 건조(생산) 외에 응용분야 없음</td>\n",
              "      <td>함정</td>\n",
              "      <td>에이치디현대중공업 주식회사</td>\n",
              "      <td>-</td>\n",
              "      <td>비해당</td>\n",
              "      <td>ML22.</td>\n",
              "      <td>-</td>\n",
              "      <td>NaN</td>\n",
              "      <td>물품명: 해외(페루) 현지조선소 교육자료 - Welding Process inclu...</td>\n",
              "      <td>[-0.33357966, 0.14811441, -0.8402546, 0.253376...</td>\n",
              "      <td>[-1.1808014, -0.1531619, -0.5656478, 0.0795114...</td>\n",
              "    </tr>\n",
              "    <tr>\n",
              "      <th>...</th>\n",
              "      <td>...</td>\n",
              "      <td>...</td>\n",
              "      <td>...</td>\n",
              "      <td>...</td>\n",
              "      <td>...</td>\n",
              "      <td>...</td>\n",
              "      <td>...</td>\n",
              "      <td>...</td>\n",
              "      <td>...</td>\n",
              "      <td>...</td>\n",
              "      <td>...</td>\n",
              "      <td>...</td>\n",
              "      <td>...</td>\n",
              "    </tr>\n",
              "    <tr>\n",
              "      <th>2260</th>\n",
              "      <td>Research Proposal Advancing Li-ion Battery Pac...</td>\n",
              "      <td>해당없음</td>\n",
              "      <td>이차전지 모듈팩 생산·사용</td>\n",
              "      <td>전자</td>\n",
              "      <td>KAIST</td>\n",
              "      <td>-</td>\n",
              "      <td>비해당</td>\n",
              "      <td>NaN</td>\n",
              "      <td>-</td>\n",
              "      <td>NaN</td>\n",
              "      <td>물품명: Research Proposal Advancing Li-ion Batter...</td>\n",
              "      <td>[-0.03236578, -0.051285308, -0.40731376, -0.37...</td>\n",
              "      <td>[0.053614974, 0.6122125, 0.1804245, -0.9448639...</td>\n",
              "    </tr>\n",
              "    <tr>\n",
              "      <th>2374</th>\n",
              "      <td>보툴리눔 독소 제제 생산기술</td>\n",
              "      <td>ATGC-100(BOTOX), ATGC-110((XEOMIN)</td>\n",
              "      <td>보툴리눔 독소는 신경전달물질(아세틸콜린)의 분비를 차단하여 근육의 수축을 막는 단순...</td>\n",
              "      <td>생물</td>\n",
              "      <td>(주) 에이티지씨</td>\n",
              "      <td>-</td>\n",
              "      <td>해당</td>\n",
              "      <td>1E001.</td>\n",
              "      <td>-</td>\n",
              "      <td>NaN</td>\n",
              "      <td>물품명: 보툴리눔 독소 제제 생산기술 모델명: ATGC-100(BOTOX), ATG...</td>\n",
              "      <td>[0.06037862, -0.25577, -0.30189443, 0.23524892...</td>\n",
              "      <td>[-0.88395643, 0.41650215, -1.6644671, -0.06898...</td>\n",
              "    </tr>\n",
              "    <tr>\n",
              "      <th>2389</th>\n",
              "      <td>소프트웨어</td>\n",
              "      <td>RADMAX</td>\n",
              "      <td>무형의 소프트웨어</td>\n",
              "      <td>정보보안</td>\n",
              "      <td>디알젬</td>\n",
              "      <td>-</td>\n",
              "      <td>비해당</td>\n",
              "      <td>5D002.c.1.</td>\n",
              "      <td>-</td>\n",
              "      <td>NaN</td>\n",
              "      <td>물품명: 소프트웨어 모델명: RADMAX 규격: 무형의 소프트웨어  분야: 정보보안</td>\n",
              "      <td>[-0.29601827, 0.5894548, 0.045839366, 0.137013...</td>\n",
              "      <td>[-1.2612818, -0.2509368, -0.77734786, -1.15135...</td>\n",
              "    </tr>\n",
              "    <tr>\n",
              "      <th>2411</th>\n",
              "      <td>Soft x-ray Charger</td>\n",
              "      <td>XRC-05</td>\n",
              "      <td>알루미늄</td>\n",
              "      <td>전자</td>\n",
              "      <td>(주)에이치시티엠</td>\n",
              "      <td>-</td>\n",
              "      <td>비해당</td>\n",
              "      <td>NaN</td>\n",
              "      <td>-</td>\n",
              "      <td>NaN</td>\n",
              "      <td>물품명: Soft x-ray Charger 모델명: XRC-05 규격: 알루미늄 분...</td>\n",
              "      <td>[0.21989256, -0.26572984, -0.48946342, -0.0187...</td>\n",
              "      <td>[-0.9223122, -0.16033792, -0.65209955, 0.66986...</td>\n",
              "    </tr>\n",
              "    <tr>\n",
              "      <th>2755</th>\n",
              "      <td>Unified Dashboard</td>\n",
              "      <td>Unified Dashboard v1.1</td>\n",
              "      <td>보안관제를 위한 시각화 된 대시보드</td>\n",
              "      <td>정보보안</td>\n",
              "      <td>(주)이글루코퍼레이션</td>\n",
              "      <td>-</td>\n",
              "      <td>비해당</td>\n",
              "      <td>5D002.c.1.</td>\n",
              "      <td>-</td>\n",
              "      <td>NaN</td>\n",
              "      <td>물품명: Unified Dashboard 모델명: Unified Dashboard ...</td>\n",
              "      <td>[-0.4387509, -0.46646962, -0.34099656, -0.0831...</td>\n",
              "      <td>[-0.75774115, 0.48535666, -0.28321308, 0.06794...</td>\n",
              "    </tr>\n",
              "  </tbody>\n",
              "</table>\n",
              "<p>62 rows × 13 columns</p>\n",
              "</div>\n",
              "    <div class=\"colab-df-buttons\">\n",
              "\n",
              "  <div class=\"colab-df-container\">\n",
              "    <button class=\"colab-df-convert\" onclick=\"convertToInteractive('df-8207d1be-7009-4ab5-9342-ba90d0858f39')\"\n",
              "            title=\"Convert this dataframe to an interactive table.\"\n",
              "            style=\"display:none;\">\n",
              "\n",
              "  <svg xmlns=\"http://www.w3.org/2000/svg\" height=\"24px\" viewBox=\"0 -960 960 960\">\n",
              "    <path d=\"M120-120v-720h720v720H120Zm60-500h600v-160H180v160Zm220 220h160v-160H400v160Zm0 220h160v-160H400v160ZM180-400h160v-160H180v160Zm440 0h160v-160H620v160ZM180-180h160v-160H180v160Zm440 0h160v-160H620v160Z\"/>\n",
              "  </svg>\n",
              "    </button>\n",
              "\n",
              "  <style>\n",
              "    .colab-df-container {\n",
              "      display:flex;\n",
              "      gap: 12px;\n",
              "    }\n",
              "\n",
              "    .colab-df-convert {\n",
              "      background-color: #E8F0FE;\n",
              "      border: none;\n",
              "      border-radius: 50%;\n",
              "      cursor: pointer;\n",
              "      display: none;\n",
              "      fill: #1967D2;\n",
              "      height: 32px;\n",
              "      padding: 0 0 0 0;\n",
              "      width: 32px;\n",
              "    }\n",
              "\n",
              "    .colab-df-convert:hover {\n",
              "      background-color: #E2EBFA;\n",
              "      box-shadow: 0px 1px 2px rgba(60, 64, 67, 0.3), 0px 1px 3px 1px rgba(60, 64, 67, 0.15);\n",
              "      fill: #174EA6;\n",
              "    }\n",
              "\n",
              "    .colab-df-buttons div {\n",
              "      margin-bottom: 4px;\n",
              "    }\n",
              "\n",
              "    [theme=dark] .colab-df-convert {\n",
              "      background-color: #3B4455;\n",
              "      fill: #D2E3FC;\n",
              "    }\n",
              "\n",
              "    [theme=dark] .colab-df-convert:hover {\n",
              "      background-color: #434B5C;\n",
              "      box-shadow: 0px 1px 3px 1px rgba(0, 0, 0, 0.15);\n",
              "      filter: drop-shadow(0px 1px 2px rgba(0, 0, 0, 0.3));\n",
              "      fill: #FFFFFF;\n",
              "    }\n",
              "  </style>\n",
              "\n",
              "    <script>\n",
              "      const buttonEl =\n",
              "        document.querySelector('#df-8207d1be-7009-4ab5-9342-ba90d0858f39 button.colab-df-convert');\n",
              "      buttonEl.style.display =\n",
              "        google.colab.kernel.accessAllowed ? 'block' : 'none';\n",
              "\n",
              "      async function convertToInteractive(key) {\n",
              "        const element = document.querySelector('#df-8207d1be-7009-4ab5-9342-ba90d0858f39');\n",
              "        const dataTable =\n",
              "          await google.colab.kernel.invokeFunction('convertToInteractive',\n",
              "                                                    [key], {});\n",
              "        if (!dataTable) return;\n",
              "\n",
              "        const docLinkHtml = 'Like what you see? Visit the ' +\n",
              "          '<a target=\"_blank\" href=https://colab.research.google.com/notebooks/data_table.ipynb>data table notebook</a>'\n",
              "          + ' to learn more about interactive tables.';\n",
              "        element.innerHTML = '';\n",
              "        dataTable['output_type'] = 'display_data';\n",
              "        await google.colab.output.renderOutput(dataTable, element);\n",
              "        const docLink = document.createElement('div');\n",
              "        docLink.innerHTML = docLinkHtml;\n",
              "        element.appendChild(docLink);\n",
              "      }\n",
              "    </script>\n",
              "  </div>\n",
              "\n",
              "\n",
              "<div id=\"df-4bfe87c4-98d3-49a0-ba6b-238386bee058\">\n",
              "  <button class=\"colab-df-quickchart\" onclick=\"quickchart('df-4bfe87c4-98d3-49a0-ba6b-238386bee058')\"\n",
              "            title=\"Suggest charts\"\n",
              "            style=\"display:none;\">\n",
              "\n",
              "<svg xmlns=\"http://www.w3.org/2000/svg\" height=\"24px\"viewBox=\"0 0 24 24\"\n",
              "     width=\"24px\">\n",
              "    <g>\n",
              "        <path d=\"M19 3H5c-1.1 0-2 .9-2 2v14c0 1.1.9 2 2 2h14c1.1 0 2-.9 2-2V5c0-1.1-.9-2-2-2zM9 17H7v-7h2v7zm4 0h-2V7h2v10zm4 0h-2v-4h2v4z\"/>\n",
              "    </g>\n",
              "</svg>\n",
              "  </button>\n",
              "\n",
              "<style>\n",
              "  .colab-df-quickchart {\n",
              "      --bg-color: #E8F0FE;\n",
              "      --fill-color: #1967D2;\n",
              "      --hover-bg-color: #E2EBFA;\n",
              "      --hover-fill-color: #174EA6;\n",
              "      --disabled-fill-color: #AAA;\n",
              "      --disabled-bg-color: #DDD;\n",
              "  }\n",
              "\n",
              "  [theme=dark] .colab-df-quickchart {\n",
              "      --bg-color: #3B4455;\n",
              "      --fill-color: #D2E3FC;\n",
              "      --hover-bg-color: #434B5C;\n",
              "      --hover-fill-color: #FFFFFF;\n",
              "      --disabled-bg-color: #3B4455;\n",
              "      --disabled-fill-color: #666;\n",
              "  }\n",
              "\n",
              "  .colab-df-quickchart {\n",
              "    background-color: var(--bg-color);\n",
              "    border: none;\n",
              "    border-radius: 50%;\n",
              "    cursor: pointer;\n",
              "    display: none;\n",
              "    fill: var(--fill-color);\n",
              "    height: 32px;\n",
              "    padding: 0;\n",
              "    width: 32px;\n",
              "  }\n",
              "\n",
              "  .colab-df-quickchart:hover {\n",
              "    background-color: var(--hover-bg-color);\n",
              "    box-shadow: 0 1px 2px rgba(60, 64, 67, 0.3), 0 1px 3px 1px rgba(60, 64, 67, 0.15);\n",
              "    fill: var(--button-hover-fill-color);\n",
              "  }\n",
              "\n",
              "  .colab-df-quickchart-complete:disabled,\n",
              "  .colab-df-quickchart-complete:disabled:hover {\n",
              "    background-color: var(--disabled-bg-color);\n",
              "    fill: var(--disabled-fill-color);\n",
              "    box-shadow: none;\n",
              "  }\n",
              "\n",
              "  .colab-df-spinner {\n",
              "    border: 2px solid var(--fill-color);\n",
              "    border-color: transparent;\n",
              "    border-bottom-color: var(--fill-color);\n",
              "    animation:\n",
              "      spin 1s steps(1) infinite;\n",
              "  }\n",
              "\n",
              "  @keyframes spin {\n",
              "    0% {\n",
              "      border-color: transparent;\n",
              "      border-bottom-color: var(--fill-color);\n",
              "      border-left-color: var(--fill-color);\n",
              "    }\n",
              "    20% {\n",
              "      border-color: transparent;\n",
              "      border-left-color: var(--fill-color);\n",
              "      border-top-color: var(--fill-color);\n",
              "    }\n",
              "    30% {\n",
              "      border-color: transparent;\n",
              "      border-left-color: var(--fill-color);\n",
              "      border-top-color: var(--fill-color);\n",
              "      border-right-color: var(--fill-color);\n",
              "    }\n",
              "    40% {\n",
              "      border-color: transparent;\n",
              "      border-right-color: var(--fill-color);\n",
              "      border-top-color: var(--fill-color);\n",
              "    }\n",
              "    60% {\n",
              "      border-color: transparent;\n",
              "      border-right-color: var(--fill-color);\n",
              "    }\n",
              "    80% {\n",
              "      border-color: transparent;\n",
              "      border-right-color: var(--fill-color);\n",
              "      border-bottom-color: var(--fill-color);\n",
              "    }\n",
              "    90% {\n",
              "      border-color: transparent;\n",
              "      border-bottom-color: var(--fill-color);\n",
              "    }\n",
              "  }\n",
              "</style>\n",
              "\n",
              "  <script>\n",
              "    async function quickchart(key) {\n",
              "      const quickchartButtonEl =\n",
              "        document.querySelector('#' + key + ' button');\n",
              "      quickchartButtonEl.disabled = true;  // To prevent multiple clicks.\n",
              "      quickchartButtonEl.classList.add('colab-df-spinner');\n",
              "      try {\n",
              "        const charts = await google.colab.kernel.invokeFunction(\n",
              "            'suggestCharts', [key], {});\n",
              "      } catch (error) {\n",
              "        console.error('Error during call to suggestCharts:', error);\n",
              "      }\n",
              "      quickchartButtonEl.classList.remove('colab-df-spinner');\n",
              "      quickchartButtonEl.classList.add('colab-df-quickchart-complete');\n",
              "    }\n",
              "    (() => {\n",
              "      let quickchartButtonEl =\n",
              "        document.querySelector('#df-4bfe87c4-98d3-49a0-ba6b-238386bee058 button');\n",
              "      quickchartButtonEl.style.display =\n",
              "        google.colab.kernel.accessAllowed ? 'block' : 'none';\n",
              "    })();\n",
              "  </script>\n",
              "</div>\n",
              "\n",
              "    </div>\n",
              "  </div>\n"
            ],
            "application/vnd.google.colaboratory.intrinsic+json": {
              "type": "dataframe",
              "repr_error": "0"
            }
          },
          "metadata": {},
          "execution_count": 71
        }
      ]
    },
    {
      "cell_type": "markdown",
      "source": [
        "(2) concat 하여 최종 input_vec 만들기 (없으면 padding)"
      ],
      "metadata": {
        "id": "7zwVP2Aoz_x2"
      }
    },
    {
      "cell_type": "code",
      "source": [
        "# 11. 벡터 concat 후 padding (최종 input_vec = 1568차원)\n",
        "\n",
        "def build_input_vec(row):\n",
        "    base_vec = np.concatenate([row['item_vec'], row['company_vecs']])  # 384 + 384 = 768\n",
        "    if isinstance(row['hs_vec_800'], (list, np.ndarray)):\n",
        "        return np.concatenate([base_vec, row['hs_vec_800']])  # 총 1568\n",
        "    else:\n",
        "        return np.concatenate([base_vec, np.zeros(800)])      # HS 없으면 → 0-padding하여 1568차원 만들기\n",
        "\n",
        "item_df['input_vec'] = item_df.apply(build_input_vec, axis=1)\n"
      ],
      "metadata": {
        "id": "uKqyPyuAz94s"
      },
      "execution_count": 72,
      "outputs": []
    },
    {
      "cell_type": "code",
      "source": [
        "# 결과 확인\n",
        "print(\"✅ input_vec 차원:\", len(item_df['input_vec'].iloc[0]))  # 항상 1568\n",
        "print(\"전체 행 수:\", len(item_df))\n",
        "print(\"HS 누락된 행 수:\", item_df['hs_vec_800'].isnull().sum())"
      ],
      "metadata": {
        "colab": {
          "base_uri": "https://localhost:8080/"
        },
        "id": "wJEPvsnqtox6",
        "outputId": "c1fc77bd-fe9e-47cd-e51f-f874496d21f6"
      },
      "execution_count": 73,
      "outputs": [
        {
          "output_type": "stream",
          "name": "stdout",
          "text": [
            "✅ input_vec 차원: 2336\n",
            "전체 행 수: 2865\n",
            "HS 누락된 행 수: 62\n"
          ]
        }
      ]
    },
    {
      "cell_type": "code",
      "source": [
        "print(\"item_vec 차원:\", len(item_df['item_vec'].iloc[0]))\n",
        "print(\"company_vecs 차원:\", len(item_df['company_vecs'].iloc[0]))\n",
        "print(\"hs_vec_800 차원:\", len(item_df['hs_vec_800'].dropna().iloc[0]))  # 있는 값 중 하나\n"
      ],
      "metadata": {
        "colab": {
          "base_uri": "https://localhost:8080/"
        },
        "id": "Ey-Huywx4dqE",
        "outputId": "307dafe4-e9c2-4504-e8b7-a36b06354dd6"
      },
      "execution_count": 74,
      "outputs": [
        {
          "output_type": "stream",
          "name": "stdout",
          "text": [
            "item_vec 차원: 768\n",
            "company_vecs 차원: 768\n",
            "hs_vec_800 차원: 800\n"
          ]
        }
      ]
    },
    {
      "cell_type": "code",
      "source": [
        "# 1. 최종 모델 입력데이터 = item_input.pkl\n",
        "item_df.to_pickle(\"item_input.pkl\")\n",
        "#  2. csv 저장\n",
        "item_df.to_csv(\"item_input.csv\", index=False, encoding=\"utf-8-sig\")"
      ],
      "metadata": {
        "id": "fs1fscyMtpKV"
      },
      "execution_count": 75,
      "outputs": []
    },
    {
      "cell_type": "code",
      "source": [],
      "metadata": {
        "id": "pCqnQF8570MO"
      },
      "execution_count": 75,
      "outputs": []
    }
  ],
  "metadata": {
    "colab": {
      "provenance": [],
      "gpuType": "T4",
      "authorship_tag": "ABX9TyNv0VCV2ovYekZ6OIhZoGat",
      "include_colab_link": true
    },
    "kernelspec": {
      "display_name": "Python 3",
      "name": "python3"
    },
    "language_info": {
      "name": "python"
    },
    "accelerator": "GPU"
  },
  "nbformat": 4,
  "nbformat_minor": 0
}