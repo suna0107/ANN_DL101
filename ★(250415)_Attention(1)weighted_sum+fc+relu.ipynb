{
  "nbformat": 4,
  "nbformat_minor": 0,
  "metadata": {
    "colab": {
      "provenance": [],
      "gpuType": "T4",
      "authorship_tag": "ABX9TyOVN8q4yG5khJUKYmMe5zRg",
      "include_colab_link": true
    },
    "kernelspec": {
      "name": "python3",
      "display_name": "Python 3"
    },
    "language_info": {
      "name": "python"
    },
    "accelerator": "GPU"
  },
  "cells": [
    {
      "cell_type": "markdown",
      "metadata": {
        "id": "view-in-github",
        "colab_type": "text"
      },
      "source": [
        "<a href=\"https://colab.research.google.com/github/suna0107/ANN_DL101/blob/main/%E2%98%85(250415)_Attention(1)weighted_sum%2Bfc%2Brelu.ipynb\" target=\"_parent\"><img src=\"https://colab.research.google.com/assets/colab-badge.svg\" alt=\"Open In Colab\"/></a>"
      ]
    },
    {
      "cell_type": "markdown",
      "source": [
        "# 예측모델 설계: Attention(1)  덧셈 기반 Attention (weighted sum) + FC+ReLU\n",
        "\n",
        "-  Attention(1184차원) 입력 → FC + ReLU → 최종 1(해당)/0(비해당) 예측\n",
        "\n",
        "- Attention 구조 (1) 가중합 구조 , 구조(2) multihead attention\n",
        "\n",
        "- 가중합 구조: 3개 벡터에 각각 가중치를 곱하고 sum"
      ],
      "metadata": {
        "id": "ZhNwDMIg0x0s"
      }
    },
    {
      "cell_type": "markdown",
      "source": [
        "## 1. 데이터 전처리"
      ],
      "metadata": {
        "id": "b2CI-d4X1TaQ"
      }
    },
    {
      "cell_type": "markdown",
      "source": [
        "🔷 STEP 1. 데이터 불러오기 & 라벨 변환"
      ],
      "metadata": {
        "id": "HQMTQir_1MqW"
      }
    },
    {
      "cell_type": "code",
      "source": [
        "import pandas as pd\n",
        "import numpy as np\n",
        "import torch\n",
        "from torch.utils.data import Dataset\n",
        "import torch\n",
        "from torch.utils.data import TensorDataset, DataLoader\n",
        "from sklearn.metrics import f1_score, accuracy_score\n"
      ],
      "metadata": {
        "id": "xHi70s_B5qEM"
      },
      "execution_count": 1,
      "outputs": []
    },
    {
      "cell_type": "code",
      "execution_count": 2,
      "metadata": {
        "colab": {
          "base_uri": "https://localhost:8080/"
        },
        "id": "42qdR1n50pQv",
        "outputId": "7c06c874-a710-4d40-8750-e9f2e0722a5a"
      },
      "outputs": [
        {
          "output_type": "stream",
          "name": "stdout",
          "text": [
            "🧩 샘플 수: 2804\n",
            "📌 item_vec 차원: 384\n",
            "📌 company_vecs 차원: 384\n",
            "📌 hs_vec_800 차원: 800\n"
          ]
        }
      ],
      "source": [
        "\n",
        "# 데이터 로드\n",
        "item_df = pd.read_pickle(\"/content/item_df_vec.pkl\")\n",
        "\n",
        "# 결측치 대비 처리\n",
        "item_df['hs_vec_800'] = item_df['hs_vec_800'].apply(lambda x: x if isinstance(x, (list, np.ndarray)) else np.zeros(800))\n",
        "item_df['label'] = item_df['결과'].map({'해당': 1, '비해당': 0}).astype(int)\n",
        "\n",
        "# 차원 확인\n",
        "print(\"🧩 샘플 수:\", len(item_df))\n",
        "print(\"📌 item_vec 차원:\", len(item_df['item_vec'].iloc[0]))\n",
        "print(\"📌 company_vecs 차원:\", len(item_df['company_vecs'].iloc[0]))\n",
        "print(\"📌 hs_vec_800 차원:\", len(item_df['hs_vec_800'].iloc[0]))\n",
        "\n"
      ]
    },
    {
      "cell_type": "code",
      "source": [
        "# 3. Dataset 정의\n",
        "class MultiInputDataset(Dataset):\n",
        "    def __init__(self, df):\n",
        "        self.item_vec = torch.tensor(np.stack(df['item_vec'].values), dtype=torch.float32)\n",
        "        self.comp_vec = torch.tensor(np.stack(df['company_vecs'].values), dtype=torch.float32)\n",
        "        self.hs_vec = torch.tensor(np.stack(df['hs_vec_800'].values), dtype=torch.float32)\n",
        "        self.labels = torch.tensor(df['label'].values, dtype=torch.float32)\n",
        "\n",
        "    def __len__(self):\n",
        "        return len(self.labels)\n",
        "\n",
        "    def __getitem__(self, idx):\n",
        "        return self.item_vec[idx], self.comp_vec[idx], self.hs_vec[idx], self.labels[idx]\n",
        "\n",
        "# 4. 확인\n",
        "dataset = MultiInputDataset(item_df)\n",
        "print(\"🧩 샘플 수:\", len(dataset))\n",
        "print(\"📐 item_vec:\", dataset[0][0].shape)\n",
        "print(\"📐 company_vec:\", dataset[0][1].shape)\n",
        "print(\"📐 hs_vec:\", dataset[0][2].shape)\n",
        "print(\"🎯 label:\", dataset[0][3])"
      ],
      "metadata": {
        "colab": {
          "base_uri": "https://localhost:8080/"
        },
        "id": "CsHDQkXV5XZw",
        "outputId": "9b181922-4871-4d6a-b797-514a480902a5"
      },
      "execution_count": 3,
      "outputs": [
        {
          "output_type": "stream",
          "name": "stdout",
          "text": [
            "🧩 샘플 수: 2804\n",
            "📐 item_vec: torch.Size([384])\n",
            "📐 company_vec: torch.Size([384])\n",
            "📐 hs_vec: torch.Size([800])\n",
            "🎯 label: tensor(0.)\n"
          ]
        }
      ]
    },
    {
      "cell_type": "markdown",
      "source": [
        "🔷 STEP 3. Train / Validation / Test 분리 (Multi-Input용)"
      ],
      "metadata": {
        "id": "P3a1MmqR1NTo"
      }
    },
    {
      "cell_type": "code",
      "source": [
        "from sklearn.model_selection import train_test_split\n",
        "\n",
        "# 1. 개별 벡터 추출\n",
        "item_vecs = np.stack(item_df['item_vec'].values)\n",
        "comp_vecs = np.stack(item_df['company_vecs'].values)\n",
        "hs_vecs   = np.stack(item_df['hs_vec_800'].values)\n",
        "labels    = item_df['label'].values\n",
        "\n",
        "# 2. 전체 → train+val / test 분리 (test = 20%)\n",
        "item_item_temp, item_item_test, \\\n",
        "comp_temp, comp_test, \\\n",
        "hs_temp, hs_test, \\\n",
        "y_temp, y_test = train_test_split(\n",
        "    item_vecs, comp_vecs, hs_vecs, labels,\n",
        "    test_size=0.2, stratify=labels, random_state=42\n",
        ")\n",
        "\n",
        "# 3. train+val → train / val 분리 (val = 20% of 80% = 16%)\n",
        "item_item_train, item_item_val, \\\n",
        "comp_train, comp_val, \\\n",
        "hs_train, hs_val, \\\n",
        "y_train, y_val = train_test_split(\n",
        "    item_item_temp, comp_temp, hs_temp, y_temp,\n",
        "    test_size=0.2, stratify=y_temp, random_state=42\n",
        ")\n"
      ],
      "metadata": {
        "id": "XrpDk1rK52Qw"
      },
      "execution_count": 4,
      "outputs": []
    },
    {
      "cell_type": "markdown",
      "source": [
        "- 결과 shape 확인 (선택)"
      ],
      "metadata": {
        "id": "2LeDVBJV57sh"
      }
    },
    {
      "cell_type": "code",
      "source": [
        "print(\"🟢 Train:\", item_item_train.shape)\n",
        "print(\"🟡 Val:  \", item_item_val.shape)\n",
        "print(\"🔵 Test: \", item_item_test.shape)"
      ],
      "metadata": {
        "colab": {
          "base_uri": "https://localhost:8080/"
        },
        "id": "XN2Ivq8f58mG",
        "outputId": "031ae583-617d-4ec2-e3bc-af2cfade0f63"
      },
      "execution_count": 5,
      "outputs": [
        {
          "output_type": "stream",
          "name": "stdout",
          "text": [
            "🟢 Train: (1794, 384)\n",
            "🟡 Val:   (449, 384)\n",
            "🔵 Test:  (561, 384)\n"
          ]
        }
      ]
    },
    {
      "cell_type": "markdown",
      "source": [
        "## 2. Dataset 정의 및 dataload\n",
        "\n",
        "- PyTorch에서는 Dataset정의해야  DataLoader가 미니배치 단위로 꺼낼 수 있음\n",
        "- 학습용, 검증용, 테스트용 데이터를 PyTorch에서 사용할 수 있도록 구성하는 과정"
      ],
      "metadata": {
        "id": "LjFooj-f6YdA"
      }
    },
    {
      "cell_type": "markdown",
      "source": [
        "🔷 STEP 4. TensorDataset & DataLoader 생성"
      ],
      "metadata": {
        "id": "PKK2m4H46PXg"
      }
    },
    {
      "cell_type": "code",
      "source": [
        "import torch\n",
        "from torch.utils.data import TensorDataset, DataLoader\n",
        "\n",
        "# 텐서 변환\n",
        "def to_tensor(x): return torch.tensor(x, dtype=torch.float32)\n",
        "\n",
        "# 각각 텐서 변환\n",
        "item_item_train = to_tensor(item_item_train)\n",
        "comp_train = to_tensor(comp_train)\n",
        "hs_train   = to_tensor(hs_train)\n",
        "y_train    = to_tensor(y_train).unsqueeze(1)\n",
        "\n",
        "item_item_val = to_tensor(item_item_val)\n",
        "comp_val = to_tensor(comp_val)\n",
        "hs_val   = to_tensor(hs_val)\n",
        "y_val    = to_tensor(y_val).unsqueeze(1)\n",
        "\n",
        "item_item_test = to_tensor(item_item_test)\n",
        "comp_test = to_tensor(comp_test)\n",
        "hs_test   = to_tensor(hs_test)\n",
        "y_test    = to_tensor(y_test).unsqueeze(1)\n",
        "\n",
        "# TensorDataset: 각각 구성 요소를 tuple로 묶기\n",
        "train_dataset = TensorDataset(item_item_train, comp_train, hs_train, y_train)\n",
        "val_dataset   = TensorDataset(item_item_val, comp_val, hs_val, y_val)\n",
        "test_dataset  = TensorDataset(item_item_test, comp_test, hs_test, y_test)\n",
        "\n",
        "# DataLoader: 배치 처리용\n",
        "train_loader = DataLoader(train_dataset, batch_size=64, shuffle=True) # shuffle=True : 매 epoch마다 데이터 순서를 랜덤으로 바꿔서 일반화 성능 향상\n",
        "val_loader   = DataLoader(val_dataset, batch_size=64)\n",
        "test_loader  = DataLoader(test_dataset, batch_size=64) # test는 예측만 하므로 shuffle=False로 놔도 됨\n"
      ],
      "metadata": {
        "id": "m_wdRpQF6R5G"
      },
      "execution_count": 6,
      "outputs": []
    },
    {
      "cell_type": "code",
      "source": [
        "# 결과 확인\n",
        "print(f\"✅ 학습 배치 수: {len(train_loader)}\")\n",
        "print(f\"✅ 검증 배치 수: {len(val_loader)}\")\n",
        "print(f\"✅ 테스트 배치 수: {len(test_loader)}\")"
      ],
      "metadata": {
        "colab": {
          "base_uri": "https://localhost:8080/"
        },
        "id": "cxfx8ayw7d4E",
        "outputId": "e47c9678-ff70-430f-bfc1-aa2311d9e24a"
      },
      "execution_count": 7,
      "outputs": [
        {
          "output_type": "stream",
          "name": "stdout",
          "text": [
            "✅ 학습 배치 수: 29\n",
            "✅ 검증 배치 수: 8\n",
            "✅ 테스트 배치 수: 9\n"
          ]
        }
      ]
    },
    {
      "cell_type": "markdown",
      "source": [
        "## 3. Attention 구조 정의\n",
        "\n",
        "-  item_vec (384차원), company_vecs (384차원), hs_vec_800 (800차원)\n",
        "\n",
        "- 이 세 가지를 attention을 통해 가중 합"
      ],
      "metadata": {
        "id": "kA3dFKXh7pO5"
      }
    },
    {
      "cell_type": "markdown",
      "source": [
        "🔷 STEP 5. Attention 기반 예측 모델 정의"
      ],
      "metadata": {
        "id": "omQYvLVp75ou"
      }
    },
    {
      "cell_type": "code",
      "source": [
        "# ✅ 1. Attention 구조 정의 (덧셈 기반, BCEWithLogitsLoss 사용)\n",
        "import torch\n",
        "import torch.nn as nn\n",
        "import torch.nn.functional as F\n",
        "\n",
        "class AdditiveAttentionClassifier(nn.Module):\n",
        "    def __init__(self, item_dim=384, company_dim=384, hs_dim=800, hidden_dim=128):\n",
        "        super().__init__()\n",
        "        self.proj_company = nn.Linear(company_dim, item_dim)\n",
        "        self.proj_hs = nn.Linear(hs_dim, item_dim)\n",
        "\n",
        "        self.classifier = nn.Sequential(\n",
        "            nn.Linear(item_dim, hidden_dim),\n",
        "            nn.ReLU(),\n",
        "            nn.Dropout(0.3),\n",
        "            nn.Linear(hidden_dim, 1)  # ✅ Sigmoid 없음\n",
        "        )\n",
        "\n",
        "    def forward(self, item_vec, company_vec, hs_vec):\n",
        "        company_vec = self.proj_company(company_vec)\n",
        "        hs_vec = self.proj_hs(hs_vec)\n",
        "\n",
        "        concat = torch.stack([item_vec, company_vec, hs_vec], dim=1)\n",
        "        weights = torch.softmax(concat.mean(dim=2), dim=1)\n",
        "        weighted_sum = (concat * weights.unsqueeze(2)).sum(dim=1)\n",
        "\n",
        "        return self.classifier(weighted_sum)  # logits 출력"
      ],
      "metadata": {
        "id": "qubSaG5lwQbM"
      },
      "execution_count": 8,
      "outputs": []
    },
    {
      "cell_type": "markdown",
      "source": [
        "## 4. 예측 모델 학습 및 검증"
      ],
      "metadata": {
        "id": "VO2RjgVoFn_a"
      }
    },
    {
      "cell_type": "markdown",
      "source": [
        "1. 손실함수, 옵티마이저, 스케줄러 정의 (pos_weight 적용)"
      ],
      "metadata": {
        "id": "YVAlBKfMwqjF"
      }
    },
    {
      "cell_type": "code",
      "source": [
        "# ✅ 디바이스 설정\n",
        "import torch\n",
        "device = torch.device(\"cuda\" if torch.cuda.is_available() else \"cpu\")\n"
      ],
      "metadata": {
        "id": "CcRrq--OxKWt"
      },
      "execution_count": 9,
      "outputs": []
    },
    {
      "cell_type": "code",
      "source": [
        "from collections import Counter\n",
        "from sklearn.metrics import accuracy_score, f1_score\n",
        "\n",
        "counter = Counter(y_train.numpy().flatten())\n",
        "neg, pos = counter[0], counter[1]\n",
        "pos_weight = torch.tensor(neg / pos, dtype=torch.float32).to(device)\n",
        "\n",
        "model = AdditiveAttentionClassifier().to(device)\n",
        "criterion = nn.BCEWithLogitsLoss(pos_weight=pos_weight)\n",
        "optimizer = torch.optim.Adam(model.parameters(), lr=1e-4)\n",
        "scheduler = torch.optim.lr_scheduler.StepLR(optimizer, step_size=5, gamma=0.5)"
      ],
      "metadata": {
        "id": "l7SO_66Cwq3E"
      },
      "execution_count": 10,
      "outputs": []
    },
    {
      "cell_type": "markdown",
      "source": [
        "2. 학습 및 평가 함수 정의\n"
      ],
      "metadata": {
        "id": "xf3ppqu8GDm7"
      }
    },
    {
      "cell_type": "code",
      "source": [
        "def train_epoch(model, loader, optimizer, criterion, device):\n",
        "    model.train()\n",
        "    total_loss = 0\n",
        "    for item_vec, comp_vec, hs_vec, y in loader:\n",
        "        item_vec, comp_vec, hs_vec, y = item_vec.to(device), comp_vec.to(device), hs_vec.to(device), y.to(device)\n",
        "        optimizer.zero_grad()\n",
        "        logits = model(item_vec, comp_vec, hs_vec)\n",
        "        loss = criterion(logits, y)\n",
        "        loss.backward()\n",
        "        optimizer.step()\n",
        "        total_loss += loss.item()\n",
        "    return total_loss / len(loader)\n",
        "\n",
        "def eval_epoch(model, loader, device):\n",
        "    model.eval()\n",
        "    all_preds, all_labels = [], []\n",
        "    with torch.no_grad():\n",
        "        for item_vec, comp_vec, hs_vec, y in loader:\n",
        "            item_vec, comp_vec, hs_vec, y = item_vec.to(device), comp_vec.to(device), hs_vec.to(device), y.to(device)\n",
        "            logits = model(item_vec, comp_vec, hs_vec)\n",
        "            probs = torch.sigmoid(logits)\n",
        "            preds = (probs > 0.5).float()\n",
        "            all_preds.extend(preds.cpu().numpy())\n",
        "            all_labels.extend(y.cpu().numpy())\n",
        "\n",
        "    return f1_score(all_labels, all_preds), accuracy_score(all_labels, all_preds)\n",
        "\n"
      ],
      "metadata": {
        "id": "wLJ5wvimtwzW"
      },
      "execution_count": 11,
      "outputs": []
    },
    {
      "cell_type": "markdown",
      "source": [
        "3. 학습 루프"
      ],
      "metadata": {
        "id": "_9RJB-HOGGxw"
      }
    },
    {
      "cell_type": "code",
      "source": [
        "best_f1 = 0\n",
        "patience = 3\n",
        "counter = 0\n",
        "\n",
        "for epoch in range(1, 21):\n",
        "    train_loss = train_epoch(model, train_loader, optimizer, criterion, device)\n",
        "    val_f1, val_acc = eval_epoch(model, val_loader, device)\n",
        "    scheduler.step()\n",
        "\n",
        "    print(f\"📘 Epoch {epoch:02d} | Train Loss: {train_loss:.4f} | Val Acc: {val_acc:.4f} | F1: {val_f1:.4f}\")\n",
        "\n",
        "    if val_f1 > best_f1:\n",
        "        best_f1 = val_f1\n",
        "        torch.save(model.state_dict(), \"best_attention_sum_model.pt\")\n",
        "        print(\"✅ Best model saved.\")\n",
        "        counter = 0\n",
        "    else:\n",
        "        counter += 1\n",
        "        if counter >= patience:\n",
        "            print(\"⛔ Early stopping triggered!\")\n",
        "            break\n"
      ],
      "metadata": {
        "colab": {
          "base_uri": "https://localhost:8080/"
        },
        "id": "i5jGKWL8qTUN",
        "outputId": "eb1b36f5-1f21-4e53-9347-30df885ed797"
      },
      "execution_count": 12,
      "outputs": [
        {
          "output_type": "stream",
          "name": "stdout",
          "text": [
            "📘 Epoch 01 | Train Loss: 1.1902 | Val Acc: 0.8575 | F1: 0.3191\n",
            "✅ Best model saved.\n",
            "📘 Epoch 02 | Train Loss: 1.1409 | Val Acc: 0.7483 | F1: 0.4264\n",
            "✅ Best model saved.\n",
            "📘 Epoch 03 | Train Loss: 1.0844 | Val Acc: 0.7706 | F1: 0.4432\n",
            "✅ Best model saved.\n",
            "📘 Epoch 04 | Train Loss: 0.9949 | Val Acc: 0.7483 | F1: 0.4264\n",
            "📘 Epoch 05 | Train Loss: 0.9087 | Val Acc: 0.6993 | F1: 0.3946\n",
            "📘 Epoch 06 | Train Loss: 0.8345 | Val Acc: 0.7906 | F1: 0.4659\n",
            "✅ Best model saved.\n",
            "📘 Epoch 07 | Train Loss: 0.8422 | Val Acc: 0.7194 | F1: 0.4112\n",
            "📘 Epoch 08 | Train Loss: 0.7800 | Val Acc: 0.7795 | F1: 0.4590\n",
            "📘 Epoch 09 | Train Loss: 0.7525 | Val Acc: 0.7639 | F1: 0.4421\n",
            "⛔ Early stopping triggered!\n"
          ]
        }
      ]
    },
    {
      "cell_type": "markdown",
      "source": [
        "##5. 테스트 데이터 평가"
      ],
      "metadata": {
        "id": "hCU3twjhAcGr"
      }
    },
    {
      "cell_type": "code",
      "source": [
        "import torch\n",
        "\n",
        "device = torch.device(\"cuda\" if torch.cuda.is_available() else \"cpu\")\n"
      ],
      "metadata": {
        "id": "nmsZtL6rA4eO"
      },
      "execution_count": 13,
      "outputs": []
    },
    {
      "cell_type": "code",
      "source": [
        "from sklearn.metrics import accuracy_score, precision_score, recall_score, f1_score, confusion_matrix\n",
        "\n",
        "# 1. 모델 초기화 및 weight 로드\n",
        "model = AdditiveAttentionClassifier().to(device)\n",
        "model.load_state_dict(torch.load(\"best_attention_sum_model.pt\", map_location=device))\n",
        "model.eval()\n",
        "\n",
        "# 2. 테스트셋 평가\n",
        "all_preds, all_labels = [], []\n",
        "\n",
        "with torch.no_grad():\n",
        "    for item_vec, comp_vec, hs_vec, y in test_loader:\n",
        "        item_vec = item_vec.to(device)\n",
        "        comp_vec = comp_vec.to(device)\n",
        "        hs_vec = hs_vec.to(device)\n",
        "        y = y.to(device)\n",
        "\n",
        "        logits = model(item_vec, comp_vec, hs_vec)\n",
        "        probs = torch.sigmoid(logits)\n",
        "        preds = (probs > 0.5).float()\n",
        "\n",
        "        all_preds.extend(preds.cpu().numpy())\n",
        "        all_labels.extend(y.cpu().numpy())\n",
        "\n",
        "# 3. 지표 계산\n",
        "import numpy as np\n",
        "y_true = np.array(all_labels).astype(int)\n",
        "y_pred = np.array(all_preds).astype(int)\n",
        "\n",
        "acc = accuracy_score(y_true, y_pred)\n",
        "prec = precision_score(y_true, y_pred, zero_division=0)\n",
        "rec = recall_score(y_true, y_pred)\n",
        "f1 = f1_score(y_true, y_pred)\n",
        "cm = confusion_matrix(y_true, y_pred)\n",
        "\n",
        "# 4. 결과 출력\n",
        "print(\"\\n📊 [Test Set Evaluation]\")\n",
        "print(f\"✅ Accuracy : {acc:.4f}\")\n",
        "print(f\"✅ Precision: {prec:.4f}\")\n",
        "print(f\"✅ Recall   : {rec:.4f}\")\n",
        "print(f\"✅ F1 Score : {f1:.4f}\")\n",
        "print(f\"📌 Confusion Matrix:\\n{cm}\")\n"
      ],
      "metadata": {
        "colab": {
          "base_uri": "https://localhost:8080/"
        },
        "id": "Co-wcgBdAmAQ",
        "outputId": "f3588573-c57a-4274-f730-6768ea876c5e"
      },
      "execution_count": 14,
      "outputs": [
        {
          "output_type": "stream",
          "name": "stdout",
          "text": [
            "\n",
            "📊 [Test Set Evaluation]\n",
            "✅ Accuracy : 0.7950\n",
            "✅ Precision: 0.3418\n",
            "✅ Recall   : 0.8308\n",
            "✅ F1 Score : 0.4843\n",
            "📌 Confusion Matrix:\n",
            "[[392 104]\n",
            " [ 11  54]]\n"
          ]
        }
      ]
    },
    {
      "cell_type": "markdown",
      "source": [
        "##6. 성능향상 위한 최적 threshold 찾기\n",
        "\n",
        "- 결과 : 0.5로 나옴"
      ],
      "metadata": {
        "id": "zLjzJ-a1B87s"
      }
    },
    {
      "cell_type": "code",
      "source": [
        "import numpy as np\n",
        "import matplotlib.pyplot as plt\n",
        "from sklearn.metrics import (\n",
        "    f1_score, precision_score, recall_score,\n",
        "    precision_recall_curve, roc_curve, roc_auc_score\n",
        ")\n",
        "\n",
        "# 1. 예측 확률 수집\n",
        "model.load_state_dict(torch.load(\"best_attention_sum_model.pt\", map_location=device))\n",
        "model.eval()\n",
        "\n",
        "all_probs, all_labels = [], []\n",
        "with torch.no_grad():\n",
        "    for item_vec, comp_vec, hs_vec, y in test_loader:\n",
        "        item_vec = item_vec.to(device)\n",
        "        comp_vec = comp_vec.to(device)\n",
        "        hs_vec = hs_vec.to(device)\n",
        "\n",
        "        logits = model(item_vec, comp_vec, hs_vec)\n",
        "        probs = torch.sigmoid(logits).cpu().numpy().flatten()\n",
        "        all_probs.extend(probs)\n",
        "        all_labels.extend(y.numpy().flatten())\n",
        "\n",
        "all_probs = np.array(all_probs)\n",
        "all_labels = np.array(all_labels).astype(int)\n",
        "\n",
        "# 2. Threshold 조정 (0.1 ~ 0.9) → 최적 F1 찾기\n",
        "thresholds = np.arange(0.1, 0.91, 0.01)\n",
        "best_f1 = 0\n",
        "best_thres = 0.5\n",
        "\n",
        "for th in thresholds:\n",
        "    preds = (all_probs >= th).astype(int)\n",
        "    f1 = f1_score(all_labels, preds)\n",
        "    if f1 > best_f1:\n",
        "        best_f1 = f1\n",
        "        best_thres = th\n",
        "\n",
        "print(f\"\\n🔧 최적 Threshold: {best_thres:.2f} | F1 Score: {best_f1:.4f}\")\n",
        "\n",
        "# 3. 최적 threshold 기준 성능 출력\n",
        "final_preds = (all_probs >= best_thres).astype(int)\n",
        "\n",
        "from sklearn.metrics import accuracy_score, confusion_matrix\n",
        "\n",
        "acc = accuracy_score(all_labels, final_preds)\n",
        "prec = precision_score(all_labels, final_preds)\n",
        "rec = recall_score(all_labels, final_preds)\n",
        "f1 = f1_score(all_labels, final_preds)\n",
        "cm = confusion_matrix(all_labels, final_preds)\n",
        "\n",
        "print(f\"✅ 최종 평가 결과 @ Threshold {best_thres:.2f}\")\n",
        "print(f\"Accuracy : {acc:.4f}\")\n",
        "print(f\"Precision: {prec:.4f}\")\n",
        "print(f\"Recall   : {rec:.4f}\")\n",
        "print(f\"F1 Score : {f1:.4f}\")\n",
        "print(f\"📊 Confusion Matrix:\\n{cm}\")\n",
        "\n",
        "# 4. PR Curve\n",
        "prec_vals, rec_vals, _ = precision_recall_curve(all_labels, all_probs)\n",
        "plt.figure(figsize=(6, 4))\n",
        "plt.plot(rec_vals, prec_vals, marker='.')\n",
        "plt.xlabel('Recall')\n",
        "plt.ylabel('Precision')\n",
        "plt.title('Precision-Recall Curve')\n",
        "plt.grid(True)\n",
        "plt.show()\n",
        "\n",
        "# 5. ROC Curve\n",
        "fpr, tpr, _ = roc_curve(all_labels, all_probs)\n",
        "auc_score = roc_auc_score(all_labels, all_probs)\n",
        "\n",
        "plt.figure(figsize=(6, 4))\n",
        "plt.plot(fpr, tpr, label=f'AUC = {auc_score:.4f}')\n",
        "plt.plot([0, 1], [0, 1], linestyle='--', color='gray')\n",
        "plt.xlabel('False Positive Rate')\n",
        "plt.ylabel('True Positive Rate')\n",
        "plt.title('ROC Curve')\n",
        "plt.legend()\n",
        "plt.grid(True)\n",
        "plt.show()\n"
      ],
      "metadata": {
        "colab": {
          "base_uri": "https://localhost:8080/",
          "height": 987
        },
        "id": "GpXKZ6PwDppS",
        "outputId": "ba5b5fd1-1c79-4d02-f9e8-5e75a0602550"
      },
      "execution_count": 15,
      "outputs": [
        {
          "output_type": "stream",
          "name": "stdout",
          "text": [
            "\n",
            "🔧 최적 Threshold: 0.60 | F1 Score: 0.5269\n",
            "✅ 최종 평가 결과 @ Threshold 0.60\n",
            "Accuracy : 0.8592\n",
            "Precision: 0.4314\n",
            "Recall   : 0.6769\n",
            "F1 Score : 0.5269\n",
            "📊 Confusion Matrix:\n",
            "[[438  58]\n",
            " [ 21  44]]\n"
          ]
        },
        {
          "output_type": "display_data",
          "data": {
            "text/plain": [
              "<Figure size 600x400 with 1 Axes>"
            ],
            "image/png": "[encoded data removed]"
          },
          "metadata": {}
        },
        {
          "output_type": "display_data",
          "data": {
            "text/plain": [
              "<Figure size 600x400 with 1 Axes>"
            ],
            "image/png": "[encoded data removed]"
          },
          "metadata": {}
        }
      ]
    },
    {
      "cell_type": "markdown",
      "source": [
        "## 7. Attention 구조(1) 성능 최적화 : 학습증가\n",
        "\n",
        "-  patience=5로 먼저 학습→ 이후 학습곡선(train_loss, val_f1, val_acc)을 시각화"
      ],
      "metadata": {
        "id": "J_hi4EuxIn6F"
      }
    },
    {
      "cell_type": "markdown",
      "source": [
        "1. 학습 루프: 기록 저장 포함 (train_losses, val_f1s, val_accs)"
      ],
      "metadata": {
        "id": "YjILEyneIx7Q"
      }
    },
    {
      "cell_type": "code",
      "source": [
        "train_losses, val_f1s, val_accs = [], [], []\n",
        "best_f1 = 0\n",
        "patience = 5\n",
        "counter = 0\n",
        "\n",
        "for epoch in range(1, 21):\n",
        "    train_loss = train_epoch(model, train_loader, optimizer, criterion, device)\n",
        "    val_f1, val_acc = eval_epoch(model, val_loader, device)\n",
        "    scheduler.step()\n",
        "\n",
        "    train_losses.append(train_loss)\n",
        "    val_f1s.append(val_f1)\n",
        "    val_accs.append(val_acc)\n",
        "\n",
        "    print(f\"📘 Epoch {epoch:02d} | Train Loss: {train_loss:.4f} | Val Acc: {val_acc:.4f} | F1: {val_f1:.4f}\")\n",
        "\n",
        "    if val_f1 > best_f1:\n",
        "        best_f1 = val_f1\n",
        "        torch.save(model.state_dict(), \"best_attention_sum_model.pt\")\n",
        "        print(\"✅ Best model saved.\")\n",
        "        counter = 0\n",
        "    else:\n",
        "        counter += 1\n",
        "        if counter >= patience:\n",
        "            print(\"⛔ Early stopping triggered!\")\n",
        "            break\n"
      ],
      "metadata": {
        "colab": {
          "base_uri": "https://localhost:8080/"
        },
        "id": "U0VgTlR9IxwP",
        "outputId": "50f6df96-a357-49b0-d1ae-a7d2312c6103"
      },
      "execution_count": 16,
      "outputs": [
        {
          "output_type": "stream",
          "name": "stdout",
          "text": [
            "📘 Epoch 01 | Train Loss: 0.8523 | Val Acc: 0.7906 | F1: 0.4659\n",
            "✅ Best model saved.\n",
            "📘 Epoch 02 | Train Loss: 0.8042 | Val Acc: 0.7906 | F1: 0.4659\n",
            "📘 Epoch 03 | Train Loss: 0.8200 | Val Acc: 0.7906 | F1: 0.4659\n",
            "📘 Epoch 04 | Train Loss: 0.8347 | Val Acc: 0.7906 | F1: 0.4659\n",
            "📘 Epoch 05 | Train Loss: 0.9167 | Val Acc: 0.7906 | F1: 0.4659\n",
            "📘 Epoch 06 | Train Loss: 0.8559 | Val Acc: 0.7906 | F1: 0.4659\n",
            "⛔ Early stopping triggered!\n"
          ]
        }
      ]
    },
    {
      "cell_type": "code",
      "source": [],
      "metadata": {
        "id": "_YiYapcxJ03S"
      },
      "execution_count": null,
      "outputs": []
    },
    {
      "cell_type": "code",
      "source": [],
      "metadata": {
        "id": "m9GeuGvhInnV"
      },
      "execution_count": 16,
      "outputs": []
    },
    {
      "cell_type": "markdown",
      "source": [
        "2. 학습 곡선 시각화"
      ],
      "metadata": {
        "id": "DkqhEr0vInVG"
      }
    },
    {
      "cell_type": "code",
      "source": [
        "import matplotlib.pyplot as plt\n",
        "import numpy as np\n",
        "\n",
        "epochs = np.arange(1, len(train_losses)+1)\n",
        "best_epoch = np.argmax(val_f1s) + 1\n",
        "\n",
        "plt.figure(figsize=(10, 5))\n",
        "\n",
        "plt.plot(epochs, train_losses, label='Train Loss', marker='o')\n",
        "plt.plot(epochs, val_f1s, label='Validation F1', marker='o')\n",
        "plt.plot(epochs, val_accs, label='Validation Accuracy', marker='o')\n",
        "plt.axvline(best_epoch, color='red', linestyle='--', label=f'Best Epoch: {best_epoch}')\n",
        "plt.title(\"📉 Training Curve\")\n",
        "plt.xlabel(\"Epoch\")\n",
        "plt.ylabel(\"Loss / Score\")\n",
        "plt.legend()\n",
        "plt.grid(True)\n",
        "plt.show()\n"
      ],
      "metadata": {
        "colab": {
          "base_uri": "https://localhost:8080/",
          "height": 544
        },
        "id": "7PuORTRBJHiU",
        "outputId": "c5c9cc78-01f0-4a31-d6df-5acd1451e442"
      },
      "execution_count": 17,
      "outputs": [
        {
          "output_type": "stream",
          "name": "stderr",
          "text": [
            "/usr/local/lib/python3.11/dist-packages/IPython/core/pylabtools.py:151: UserWarning: Glyph 128201 (\\N{CHART WITH DOWNWARDS TREND}) missing from font(s) DejaVu Sans.\n",
            "  fig.canvas.print_figure(bytes_io, **kw)\n"
          ]
        },
        {
          "output_type": "display_data",
          "data": {
            "text/plain": [
              "<Figure size 1000x500 with 1 Axes>"
            ],
            "image/png": "[encoded data removed]"
          },
          "metadata": {}
        }
      ]
    }
  ]
}