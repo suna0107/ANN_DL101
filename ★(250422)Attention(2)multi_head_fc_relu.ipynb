{
  "nbformat": 4,
  "nbformat_minor": 0,
  "metadata": {
    "colab": {
      "provenance": [],
      "gpuType": "T4",
      "authorship_tag": "ABX9TyOsor0Cl3fmwhwtfm0sirVt",
      "include_colab_link": true
    },
    "kernelspec": {
      "name": "python3",
      "display_name": "Python 3"
    },
    "language_info": {
      "name": "python"
    },
    "accelerator": "GPU"
  },
  "cells": [
    {
      "cell_type": "markdown",
      "metadata": {
        "id": "view-in-github",
        "colab_type": "text"
      },
      "source": [
        "<a href=\"https://colab.research.google.com/github/suna0107/ANN_DL101/blob/main/%E2%98%85(250422)Attention(2)multi_head_fc_relu.ipynb\" target=\"_parent\"><img src=\"https://colab.research.google.com/assets/colab-badge.svg\" alt=\"Open In Colab\"/></a>"
      ]
    },
    {
      "cell_type": "markdown",
      "source": [
        "Attention 구조(2) Multi-head 어텐션 구조"
      ],
      "metadata": {
        "id": "e18MbHaj3l8m"
      }
    },
    {
      "cell_type": "markdown",
      "source": [
        "# 1. 데이터 전처리"
      ],
      "metadata": {
        "id": "q4PzVraCF2lb"
      }
    },
    {
      "cell_type": "markdown",
      "source": [
        "✅ 1. 데이터 로드 및 결측치 처리 및 라벨 변환"
      ],
      "metadata": {
        "id": "rvNzF5EN3j2a"
      }
    },
    {
      "cell_type": "code",
      "execution_count": null,
      "metadata": {
        "colab": {
          "base_uri": "https://localhost:8080/"
        },
        "id": "83awuncD0Rxo",
        "outputId": "ba47bc2c-2a97-4a8c-83df-36c5c242c78b"
      },
      "outputs": [
        {
          "output_type": "stream",
          "name": "stdout",
          "text": [
            "🧩 전체 샘플 수: 2804\n",
            "📌 item_vec 차원: 384\n",
            "📌 company_vecs 차원: 384\n",
            "📌 hs_vec_800 차원: 800\n",
            "🎯 label 분포: {0: 2480, 1: 324}\n"
          ]
        }
      ],
      "source": [
        "import pandas as pd\n",
        "import numpy as np\n",
        "\n",
        "# 1. 데이터 로드\n",
        "item_df = pd.read_pickle(\"/content/item_df_vec.pkl\")\n",
        "\n",
        "# 2. 결측치 처리 (NaN → 0 벡터)\n",
        "item_df['hs_vec_800'] = item_df['hs_vec_800'].apply(\n",
        "    lambda x: x if isinstance(x, (list, np.ndarray)) else np.zeros(800)\n",
        ")\n",
        "\n",
        "# 3. 라벨 생성 ('결과' → 0/1)\n",
        "item_df['label'] = item_df['결과'].map({'해당': 1, '비해당': 0}).astype(int)\n",
        "\n",
        "# 🔍 확인\n",
        "print(\"🧩 전체 샘플 수:\", len(item_df))\n",
        "print(\"📌 item_vec 차원:\", len(item_df['item_vec'].iloc[0]))\n",
        "print(\"📌 company_vecs 차원:\", len(item_df['company_vecs'].iloc[0]))\n",
        "print(\"📌 hs_vec_800 차원:\", len(item_df['hs_vec_800'].iloc[0]))\n",
        "print(\"🎯 label 분포:\", item_df['label'].value_counts().to_dict())\n"
      ]
    },
    {
      "cell_type": "markdown",
      "source": [
        "2. Train / Val / Test 분리"
      ],
      "metadata": {
        "id": "sOCB9UNo3jMZ"
      }
    },
    {
      "cell_type": "code",
      "source": [
        "from sklearn.model_selection import train_test_split\n",
        "\n",
        "# 1. 벡터 및 라벨 추출\n",
        "item_vecs = np.stack(item_df['item_vec'].values)\n",
        "comp_vecs = np.stack(item_df['company_vecs'].values)\n",
        "hs_vecs   = np.stack(item_df['hs_vec_800'].values)\n",
        "labels    = item_df['label'].values\n",
        "\n",
        "# 2. Train+Val / Test 분리 (80/20)\n",
        "item_temp, item_test, comp_temp, comp_test, hs_temp, hs_test, y_temp, y_test = train_test_split(\n",
        "    item_vecs, comp_vecs, hs_vecs, labels, test_size=0.2, stratify=labels, random_state=42\n",
        ")\n",
        "\n",
        "# 3. Train / Val 분리 (80/20 of temp)\n",
        "item_train, item_val, comp_train, comp_val, hs_train, hs_val, y_train, y_val = train_test_split(\n",
        "    item_temp, comp_temp, hs_temp, y_temp, test_size=0.2, stratify=y_temp, random_state=42\n",
        ")\n",
        "\n",
        "# 🔍 확인\n",
        "print(\"🟢 Train 샘플 수:\", len(y_train))\n",
        "print(\"🟡 Val 샘플 수:\", len(y_val))\n",
        "print(\"🔵 Test 샘플 수:\", len(y_test))\n"
      ],
      "metadata": {
        "colab": {
          "base_uri": "https://localhost:8080/"
        },
        "id": "GYQ9nYFQ2xiB",
        "outputId": "5d239d8b-c8e7-4c1a-c381-555e423e5716"
      },
      "execution_count": null,
      "outputs": [
        {
          "output_type": "stream",
          "name": "stdout",
          "text": [
            "🟢 Train 샘플 수: 1794\n",
            "🟡 Val 샘플 수: 449\n",
            "🔵 Test 샘플 수: 561\n"
          ]
        }
      ]
    },
    {
      "cell_type": "markdown",
      "source": [
        "# 2. Dataset 정의 및 dataloader 생성"
      ],
      "metadata": {
        "id": "_yO4pKZvGEB_"
      }
    },
    {
      "cell_type": "markdown",
      "source": [
        "\n",
        "(1) 딥러닝 모델 학습 시 필요한 데이터 형태로 변환하는 단계\n",
        "- 배치 단위로 데이터 공급 필요\n",
        "\n",
        "(2) 넘파이 배열 → PyTorch Tensor로 변환\n",
        "TensorDataset으로 4개의 벡터(item, company, hs, label)를 묶음\n",
        "DataLoader로 배치 처리 및 셔플 적용\n"
      ],
      "metadata": {
        "id": "QBdbDhpr37-o"
      }
    },
    {
      "cell_type": "code",
      "source": [
        "import torch\n",
        "from torch.utils.data import TensorDataset, DataLoader\n",
        "\n",
        "# 1. 넘파이 → 텐서 변환\n",
        "def to_tensor(x): return torch.tensor(x, dtype=torch.float32)\n",
        "\n",
        "item_train = to_tensor(item_train)\n",
        "comp_train = to_tensor(comp_train)\n",
        "hs_train   = to_tensor(hs_train)\n",
        "y_train    = to_tensor(y_train).unsqueeze(1)\n",
        "\n",
        "item_val = to_tensor(item_val)\n",
        "comp_val = to_tensor(comp_val)\n",
        "hs_val   = to_tensor(hs_val)\n",
        "y_val    = to_tensor(y_val).unsqueeze(1)\n",
        "\n",
        "item_test = to_tensor(item_test)\n",
        "comp_test = to_tensor(comp_test)\n",
        "hs_test   = to_tensor(hs_test)\n",
        "y_test    = to_tensor(y_test).unsqueeze(1)\n",
        "\n",
        "# 2. TensorDataset 생성\n",
        "train_dataset = TensorDataset(item_train, comp_train, hs_train, y_train)\n",
        "val_dataset   = TensorDataset(item_val, comp_val, hs_val, y_val)\n",
        "test_dataset  = TensorDataset(item_test, comp_test, hs_test, y_test)\n",
        "\n",
        "# 3. DataLoader 생성\n",
        "train_loader = DataLoader(train_dataset, batch_size=64, shuffle=True)\n",
        "val_loader   = DataLoader(val_dataset, batch_size=64)\n",
        "test_loader  = DataLoader(test_dataset, batch_size=64)\n",
        "\n",
        "# 🔍 확인\n",
        "print(\"✅ 학습 배치 수:\", len(train_loader))\n",
        "print(\"✅ 검증 배치 수:\", len(val_loader))\n",
        "print(\"✅ 테스트 배치 수:\", len(test_loader))\n"
      ],
      "metadata": {
        "colab": {
          "base_uri": "https://localhost:8080/"
        },
        "id": "XxJZHHW4365g",
        "outputId": "febec5dd-b059-443d-f1fb-cdb4f60fa522"
      },
      "execution_count": null,
      "outputs": [
        {
          "output_type": "stream",
          "name": "stdout",
          "text": [
            "✅ 학습 배치 수: 29\n",
            "✅ 검증 배치 수: 8\n",
            "✅ 테스트 배치 수: 9\n"
          ]
        }
      ]
    },
    {
      "cell_type": "markdown",
      "source": [
        "# 3. multihead 어텐션 모델 정의"
      ],
      "metadata": {
        "id": "CXB_xXv4F9qb"
      }
    },
    {
      "cell_type": "code",
      "source": [
        "import torch\n",
        "import torch.nn as nn\n",
        "import torch.nn.functional as F\n",
        "\n",
        "class MultiHeadAttentionClassifier(nn.Module):  # 1️⃣ PyTorch의 nn.Module을 상속하여 모델 정의\n",
        "    def __init__(self, item_dim=384, company_dim=384, hs_dim=800, d_model=384, num_heads=4, hidden_dim=128):\n",
        "        super().__init__()  # 2️⃣ 부모 클래스 초기화\n",
        "\n",
        "        # 3️⃣ 각 입력 벡터를 동일한 차원(d_model)으로 맞추기 위한 Linear Layer\n",
        "        self.proj_item = nn.Linear(item_dim, d_model)        # item_vec: 384 → 384\n",
        "        self.proj_company = nn.Linear(company_dim, d_model)  # company_vec: 384 → 384\n",
        "        self.proj_hs = nn.Linear(hs_dim, d_model)            # hs_vec: 800 → 384\n",
        "\n",
        "        # 4️⃣ Multi-Head Attention Layer 정의\n",
        "        self.attn = nn.MultiheadAttention(embed_dim=d_model, num_heads=num_heads, batch_first=True)\n",
        "\n",
        "        # 5️⃣ Attention 결과를 입력으로 받아 최종 분류할 FC Layer 정의\n",
        "        self.classifier = nn.Sequential(\n",
        "            nn.Linear(d_model, hidden_dim),\n",
        "            nn.ReLU(),\n",
        "            nn.Dropout(0.3),\n",
        "            nn.Linear(hidden_dim, 1)  # 6️⃣ 출력은 logit (Sigmoid는 나중에)\n",
        "        )\n",
        "\n",
        "\n",
        "    def forward(self, item_vec, company_vec, hs_vec):  # 7️⃣ 모델의 forward pass 정의\n",
        "        # 8️⃣ 각각의 벡터를 Linear 통과 → 동일한 차원으로 변환\n",
        "        item_proj = self.proj_item(item_vec)        # (B, 384)\n",
        "        comp_proj = self.proj_company(company_vec)  # (B, 384)\n",
        "        hs_proj = self.proj_hs(hs_vec)              # (B, 384)\n",
        "\n",
        "        # 9️⃣ 3개 벡터를 묶어 3개의 시퀀스로 만듦 → (B, 3, 384)\n",
        "        x = torch.stack([item_proj, comp_proj, hs_proj], dim=1)\n",
        "\n",
        "        # 🔟 Multi-Head Attention 적용 (Self-Attention)\n",
        "        attn_output, _ = self.attn(x, x, x)  # Q=K=V=x → (B, 3, 384)\n",
        "\n",
        "        # 1️⃣1️⃣ Attention 결과 3개 벡터 평균 → 하나의 벡터로 (B, 384)\n",
        "        pooled = attn_output.mean(dim=1)\n",
        "\n",
        "        # 1️⃣2️⃣ 최종 분류기 통과 → (B, 1) logit 출력\n",
        "        return self.classifier(pooled)\n"
      ],
      "metadata": {
        "id": "xsVOhKw68YBG"
      },
      "execution_count": null,
      "outputs": []
    },
    {
      "cell_type": "markdown",
      "source": [
        "# 4. 예측 모델 학습 및 검증 함수"
      ],
      "metadata": {
        "id": "GvM7Uzg1GXJq"
      }
    },
    {
      "cell_type": "markdown",
      "source": [
        "1. 모델 초기화 및 학습 준비(손실함수, 옵티마이저, 스케줄러 정의 (pos_weight 적용))"
      ],
      "metadata": {
        "id": "cl2H8tRjGe5B"
      }
    },
    {
      "cell_type": "code",
      "source": [
        "# ✅ 디바이스 설정\n",
        "device = torch.device(\"cuda\" if torch.cuda.is_available() else \"cpu\")\n",
        "\n",
        "# ✅ 불균형 대응을 위한 pos_weight 계산\n",
        "from collections import Counter\n",
        "counter = Counter(y_train.numpy().flatten())\n",
        "neg, pos = counter[0], counter[1]\n",
        "pos_weight = torch.tensor(neg / pos, dtype=torch.float32).to(device)\n",
        "\n",
        "# ✅ 모델 초기화\n",
        "model = MultiHeadAttentionClassifier().to(device)\n",
        "\n",
        "# ✅ 손실 함수 (Logits 기반 + 불균형 대응)\n",
        "criterion = nn.BCEWithLogitsLoss(pos_weight=pos_weight)\n",
        "\n",
        "# ✅ 옵티마이저 & 스케줄러\n",
        "optimizer = torch.optim.Adam(model.parameters(), lr=1e-4)\n",
        "scheduler = torch.optim.lr_scheduler.StepLR(optimizer, step_size=5, gamma=0.5)\n"
      ],
      "metadata": {
        "id": "zskQbC7fGgwc"
      },
      "execution_count": null,
      "outputs": []
    },
    {
      "cell_type": "markdown",
      "source": [
        " 2. train, val 함수 정의"
      ],
      "metadata": {
        "id": "hRqzsjzsGqu3"
      }
    },
    {
      "cell_type": "code",
      "source": [
        "from sklearn.metrics import f1_score, accuracy_score\n",
        "\n",
        "# ✅ 학습 함수\n",
        "def train_epoch(model, loader, optimizer, criterion, device):\n",
        "    model.train()\n",
        "    total_loss = 0\n",
        "    for item_vec, comp_vec, hs_vec, y in loader:\n",
        "        item_vec, comp_vec, hs_vec, y = item_vec.to(device), comp_vec.to(device), hs_vec.to(device), y.to(device)\n",
        "        optimizer.zero_grad()\n",
        "        logits = model(item_vec, comp_vec, hs_vec)\n",
        "        loss = criterion(logits, y)\n",
        "        loss.backward()\n",
        "        optimizer.step()\n",
        "        total_loss += loss.item()\n",
        "    return total_loss / len(loader)\n",
        "\n",
        "# ✅ 검증 함수\n",
        "def eval_epoch(model, loader, device):\n",
        "    model.eval()\n",
        "    all_preds, all_labels = [], []\n",
        "    with torch.no_grad():\n",
        "        for item_vec, comp_vec, hs_vec, y in loader:\n",
        "            item_vec, comp_vec, hs_vec, y = item_vec.to(device), comp_vec.to(device), hs_vec.to(device), y.to(device)\n",
        "            logits = model(item_vec, comp_vec, hs_vec)\n",
        "            probs = torch.sigmoid(logits)\n",
        "            preds = (probs > 0.5).float()\n",
        "            all_preds.extend(preds.cpu().numpy())\n",
        "            all_labels.extend(y.cpu().numpy())\n",
        "    return f1_score(all_labels, all_preds), accuracy_score(all_labels, all_preds)\n"
      ],
      "metadata": {
        "id": "_edQMK5kGyYG"
      },
      "execution_count": null,
      "outputs": []
    },
    {
      "cell_type": "markdown",
      "source": [
        "3. 학습 루프 (Early Stopping 포함)"
      ],
      "metadata": {
        "id": "qe_KKZcjG6pX"
      }
    },
    {
      "cell_type": "code",
      "source": [
        "best_f1 = 0 # 가장 높은 F1 점수 저장할 변수 선\n",
        "patience = 3 # 성능이 3번 연속 향상되지 않으면 중단.\n",
        "counter = 0 # 성능이 향상되지 않은 횟수 카운트\n",
        "\n",
        "for epoch in range(1, 21):  # 최대 20 에폭까지 학\n",
        "    train_loss = train_epoch(model, train_loader, optimizer, criterion, device)\n",
        "    val_f1, val_acc = eval_epoch(model, val_loader, device) #검증 데이터로 F1 점수와 정확도 계\n",
        "    scheduler.step() #학습률 조정 스케줄러: 일정 에폭마다 학습률 감소\n",
        "\n",
        "    print(f\"📘 Epoch {epoch:02d} | Train Loss: {train_loss:.4f} | Val Acc: {val_acc:.4f} | F1: {val_f1:.4f}\")\n",
        "\n",
        "    if val_f1 > best_f1: #현재 F1 점수가 최고 기록보다 좋으면.\n",
        "        best_f1 = val_f1\n",
        "        torch.save(model.state_dict(), \"best_multihead_attention_model.pt\") # 모델 파라미터 저장 (최고 성능 모델 저장)\n",
        "        print(\"✅ Best model saved.\")\n",
        "        counter = 0 # 성능 향상됐으므로 카운터 리셋\n",
        "    else:\n",
        "        counter += 1 # 성능 향상 안되면 카운터 증가\n",
        "        if counter >= patience:\n",
        "            print(\"⛔ Early stopping triggered!\")\n",
        "            break\n"
      ],
      "metadata": {
        "colab": {
          "base_uri": "https://localhost:8080/"
        },
        "id": "1KGoSzaEG8Ii",
        "outputId": "2c712b5b-9838-4f62-b0f8-897179b0adbd"
      },
      "execution_count": null,
      "outputs": [
        {
          "output_type": "stream",
          "name": "stdout",
          "text": [
            "📘 Epoch 01 | Train Loss: 1.1779 | Val Acc: 0.8374 | F1: 0.3967\n",
            "✅ Best model saved.\n",
            "📘 Epoch 02 | Train Loss: 0.9846 | Val Acc: 0.8263 | F1: 0.4868\n",
            "✅ Best model saved.\n",
            "📘 Epoch 03 | Train Loss: 0.8452 | Val Acc: 0.7862 | F1: 0.4545\n",
            "📘 Epoch 04 | Train Loss: 0.7456 | Val Acc: 0.8107 | F1: 0.4910\n",
            "✅ Best model saved.\n",
            "📘 Epoch 05 | Train Loss: 0.7142 | Val Acc: 0.7194 | F1: 0.4324\n",
            "📘 Epoch 06 | Train Loss: 0.6591 | Val Acc: 0.7572 | F1: 0.4577\n",
            "📘 Epoch 07 | Train Loss: 0.6235 | Val Acc: 0.8174 | F1: 0.5176\n",
            "✅ Best model saved.\n",
            "📘 Epoch 08 | Train Loss: 0.6045 | Val Acc: 0.8129 | F1: 0.5227\n",
            "✅ Best model saved.\n",
            "📘 Epoch 09 | Train Loss: 0.5800 | Val Acc: 0.7661 | F1: 0.4670\n",
            "📘 Epoch 10 | Train Loss: 0.5169 | Val Acc: 0.8062 | F1: 0.5140\n",
            "📘 Epoch 11 | Train Loss: 0.4855 | Val Acc: 0.8129 | F1: 0.5227\n",
            "⛔ Early stopping triggered!\n"
          ]
        }
      ]
    },
    {
      "cell_type": "markdown",
      "source": [
        "# 5. test 데이터로 모델 성능 평가"
      ],
      "metadata": {
        "id": "gZR9w8fLJrYu"
      }
    },
    {
      "cell_type": "code",
      "source": [
        "# 1️⃣ 모델 로드\n",
        "model.load_state_dict(torch.load(\"best_multihead_attention_model.pt\", map_location=device))\n",
        "model.eval() #model.eval()로 평가 모드 전환 → Dropout 등 비활성화\n"
      ],
      "metadata": {
        "colab": {
          "base_uri": "https://localhost:8080/"
        },
        "id": "UlWkJzoxJxAM",
        "outputId": "f4de8228-4c67-494f-b27d-39f3cbe4bc31"
      },
      "execution_count": null,
      "outputs": [
        {
          "output_type": "execute_result",
          "data": {
            "text/plain": [
              "MultiHeadAttentionClassifier(\n",
              "  (proj_item): Linear(in_features=384, out_features=384, bias=True)\n",
              "  (proj_company): Linear(in_features=384, out_features=384, bias=True)\n",
              "  (proj_hs): Linear(in_features=800, out_features=384, bias=True)\n",
              "  (attn): MultiheadAttention(\n",
              "    (out_proj): NonDynamicallyQuantizableLinear(in_features=384, out_features=384, bias=True)\n",
              "  )\n",
              "  (classifier): Sequential(\n",
              "    (0): Linear(in_features=384, out_features=128, bias=True)\n",
              "    (1): ReLU()\n",
              "    (2): Dropout(p=0.3, inplace=False)\n",
              "    (3): Linear(in_features=128, out_features=1, bias=True)\n",
              "  )\n",
              ")"
            ]
          },
          "metadata": {},
          "execution_count": 9
        }
      ]
    },
    {
      "cell_type": "code",
      "source": [
        "# 2️⃣ 테스트 데이터 평가\n",
        "all_preds, all_labels, all_probs = [], [], []\n",
        "with torch.no_grad():\n",
        "    for item_vec, comp_vec, hs_vec, y in test_loader:\n",
        "        item_vec = item_vec.to(device)\n",
        "        comp_vec = comp_vec.to(device)\n",
        "        hs_vec = hs_vec.to(device)\n",
        "        y = y.to(device)\n",
        "\n",
        "        logits = model(item_vec, comp_vec, hs_vec)\n",
        "        probs = torch.sigmoid(logits)  # logits → 확률\n",
        "        preds = (probs > 0.5).float()  # Threshold=0.5 기준으로 0 or 1\n",
        "# 모든 예측 결과와 실제 라벨 저장\n",
        "        all_probs.extend(probs.cpu().numpy())\n",
        "        all_preds.extend(preds.cpu().numpy())\n",
        "        all_labels.extend(y.cpu().numpy())"
      ],
      "metadata": {
        "id": "u1ZeSJAZJ1hV"
      },
      "execution_count": null,
      "outputs": []
    },
    {
      "cell_type": "code",
      "source": [
        "# 3️⃣ 성능 지표 계산\n",
        "from sklearn.metrics import accuracy_score, precision_score, recall_score, f1_score, confusion_matrix\n",
        "\n",
        "y_true = np.array(all_labels).astype(int)\n",
        "y_pred = np.array(all_preds).astype(int)\n",
        "\n",
        "acc = accuracy_score(y_true, y_pred)\n",
        "prec = precision_score(y_true, y_pred, zero_division=0)\n",
        "rec = recall_score(y_true, y_pred)\n",
        "f1 = f1_score(y_true, y_pred)\n",
        "cm = confusion_matrix(y_true, y_pred)\n",
        "\n",
        "print(\"\\n📊 [Test Set Evaluation]\")\n",
        "print(f\"✅ Accuracy : {acc:.4f}\")\n",
        "print(f\"✅ Precision: {prec:.4f}\")\n",
        "print(f\"✅ Recall   : {rec:.4f}\")\n",
        "print(f\"✅ F1 Score : {f1:.4f}\")\n",
        "print(f\"📌 Confusion Matrix:\\n{cm}\")"
      ],
      "metadata": {
        "colab": {
          "base_uri": "https://localhost:8080/"
        },
        "id": "TlkDd94wJ-Ga",
        "outputId": "183eee05-3ff0-468a-e98f-7a19f56ee05b"
      },
      "execution_count": null,
      "outputs": [
        {
          "output_type": "stream",
          "name": "stdout",
          "text": [
            "\n",
            "📊 [Test Set Evaluation]\n",
            "✅ Accuracy : 0.8111\n",
            "✅ Precision: 0.3660\n",
            "✅ Recall   : 0.8615\n",
            "✅ F1 Score : 0.5138\n",
            "📌 Confusion Matrix:\n",
            "[[399  97]\n",
            " [  9  56]]\n"
          ]
        }
      ]
    },
    {
      "cell_type": "markdown",
      "source": [
        "#6. 성능 향상을 위한 최적 threshold 찾기\n",
        "\n",
        "- PR curve, AUC 커브\n",
        "\n"
      ],
      "metadata": {
        "id": "RRVbemmRKNoL"
      }
    },
    {
      "cell_type": "markdown",
      "source": [
        "1️⃣ Precision-Recall Curve 계산\n"
      ],
      "metadata": {
        "id": "IAwfD0r4KgRe"
      }
    },
    {
      "cell_type": "code",
      "source": [
        "from sklearn.metrics import precision_recall_curve, roc_auc_score, auc\n",
        "import matplotlib.pyplot as plt\n",
        "\n",
        "# y_true = 실제 라벨, y_prob = 확률값 (Sigmoid 적용 후)\n",
        "precision_vals, recall_vals, thresholds = precision_recall_curve(y_true, all_probs)\n",
        "prc_auc = auc(recall_vals, precision_vals)\n",
        "\n",
        "print(f\"🔵 PRC AUC: {prc_auc:.4f}\")\n"
      ],
      "metadata": {
        "colab": {
          "base_uri": "https://localhost:8080/"
        },
        "id": "uk3RiZ-KKWn-",
        "outputId": "6c7d5268-e1df-45ea-f8cf-a03fe201b8d7"
      },
      "execution_count": null,
      "outputs": [
        {
          "output_type": "stream",
          "name": "stdout",
          "text": [
            "🔵 PRC AUC: 0.5891\n"
          ]
        }
      ]
    },
    {
      "cell_type": "markdown",
      "source": [
        "2️⃣ 최적 F1 기준 Threshold 찾기\n",
        "\n",
        "F1 Score 기준으로 가장 높은 점수를 주는 Threshold 탐색.\n",
        "\n",
        "Precision-Recall 간 균형 최적화!"
      ],
      "metadata": {
        "id": "0ax0DqQ4Kjkf"
      }
    },
    {
      "cell_type": "code",
      "source": [
        "# F1 점수 계산\n",
        "f1_scores = 2 * (precision_vals * recall_vals) / (precision_vals + recall_vals + 1e-8)\n",
        "\n",
        "# 최고 F1 Score와 해당 Threshold\n",
        "best_idx = np.argmax(f1_scores)\n",
        "best_threshold = thresholds[best_idx]\n",
        "best_f1 = f1_scores[best_idx]\n",
        "\n",
        "print(f\"🔧 최적 Threshold: {best_threshold:.2f} | F1 Score: {best_f1:.4f}\")\n"
      ],
      "metadata": {
        "colab": {
          "base_uri": "https://localhost:8080/"
        },
        "id": "tdQLgq19KkOl",
        "outputId": "49b2f14f-d727-4f4e-f849-06a858dba359"
      },
      "execution_count": null,
      "outputs": [
        {
          "output_type": "stream",
          "name": "stdout",
          "text": [
            "🔧 최적 Threshold: 0.81 | F1 Score: 0.5839\n"
          ]
        }
      ]
    },
    {
      "cell_type": "markdown",
      "source": [
        "3️⃣ 최적 Threshold 기준으로 최종 평가"
      ],
      "metadata": {
        "id": "rWCxtYQQKsgu"
      }
    },
    {
      "cell_type": "code",
      "source": [
        "# 최적 Threshold 반영\n",
        "final_preds = (np.array(all_probs) > best_threshold).astype(int)\n",
        "\n",
        "# 최종 성능 재계산\n",
        "acc_final = accuracy_score(y_true, final_preds)\n",
        "prec_final = precision_score(y_true, final_preds, zero_division=0)\n",
        "rec_final = recall_score(y_true, final_preds)\n",
        "f1_final = f1_score(y_true, final_preds)\n",
        "cm_final = confusion_matrix(y_true, final_preds)\n",
        "\n",
        "print(f\"\\n✅ 최종 평가 결과 @ Threshold {best_threshold:.2f}\")\n",
        "print(f\"Accuracy : {acc_final:.4f}\")\n",
        "print(f\"Precision: {prec_final:.4f}\")\n",
        "print(f\"Recall   : {rec_final:.4f}\")\n",
        "print(f\"F1 Score : {f1_final:.4f}\")\n",
        "print(f\"📊 Confusion Matrix:\\n{cm_final}\")\n"
      ],
      "metadata": {
        "colab": {
          "base_uri": "https://localhost:8080/"
        },
        "id": "hGXYxRZOKtos",
        "outputId": "6555c7ec-ac50-48ed-9fc7-1fb4edb7f841"
      },
      "execution_count": null,
      "outputs": [
        {
          "output_type": "stream",
          "name": "stdout",
          "text": [
            "\n",
            "✅ 최종 평가 결과 @ Threshold 0.81\n",
            "Accuracy : 0.8966\n",
            "Precision: 0.5493\n",
            "Recall   : 0.6000\n",
            "F1 Score : 0.5735\n",
            "📊 Confusion Matrix:\n",
            "[[464  32]\n",
            " [ 26  39]]\n"
          ]
        }
      ]
    },
    {
      "cell_type": "markdown",
      "source": [
        "4️⃣ PRC 곡선 시각화"
      ],
      "metadata": {
        "id": "tpSUZUt6KvpU"
      }
    },
    {
      "cell_type": "code",
      "source": [
        "plt.figure(figsize=(6,4))\n",
        "plt.plot(recall_vals, precision_vals, marker='.')\n",
        "plt.scatter(recall_vals[best_idx], precision_vals[best_idx], color='red', label=f\"Best F1@{best_threshold:.2f}\")\n",
        "plt.title(f\"Precision-Recall Curve (AUC={prc_auc:.4f})\")\n",
        "plt.xlabel('Recall')\n",
        "plt.ylabel('Precision')\n",
        "plt.legend()\n",
        "plt.grid(True)\n",
        "plt.show()\n"
      ],
      "metadata": {
        "colab": {
          "base_uri": "https://localhost:8080/",
          "height": 410
        },
        "id": "fXVGrcRdKwAz",
        "outputId": "4e8366aa-e6d6-4ff6-8db1-bd1aa992c5c2"
      },
      "execution_count": null,
      "outputs": [
        {
          "output_type": "display_data",
          "data": {
            "text/plain": [
              "<Figure size 600x400 with 1 Axes>"
            ],
            "image/png": "[encoded data removed]"
          },
          "metadata": {}
        }
      ]
    },
    {
      "cell_type": "markdown",
      "source": [
        "5. ROC Curve 시각화"
      ],
      "metadata": {
        "id": "wmG1pJs2MlNq"
      }
    },
    {
      "cell_type": "code",
      "source": [
        "\n",
        "from sklearn.metrics import roc_curve, roc_auc_score\n",
        "\n",
        "# ROC Curve 계산\n",
        "fpr, tpr, roc_thresholds = roc_curve(y_true, all_probs)\n",
        "roc_auc = roc_auc_score(y_true, all_probs)\n",
        "\n",
        "print(f\"🔵 ROC AUC: {roc_auc:.4f}\")\n",
        "\n",
        "# ROC Curve 시각화\n",
        "plt.figure(figsize=(6,4))\n",
        "plt.plot(fpr, tpr, label=f\"ROC Curve (AUC={roc_auc:.4f})\")\n",
        "plt.plot([0, 1], [0, 1], linestyle='--', color='gray')  # 랜덤 분류기 기준선\n",
        "plt.xlabel('False Positive Rate (1 - Specificity)')\n",
        "plt.ylabel('True Positive Rate (Recall)')\n",
        "plt.title('ROC Curve')\n",
        "plt.legend()\n",
        "plt.grid(True)\n",
        "plt.show()"
      ],
      "metadata": {
        "colab": {
          "base_uri": "https://localhost:8080/",
          "height": 428
        },
        "id": "QRSX_TQUMmg6",
        "outputId": "a51a2439-ee35-4cab-c112-792b72868d0c"
      },
      "execution_count": null,
      "outputs": [
        {
          "output_type": "stream",
          "name": "stdout",
          "text": [
            "🔵 ROC AUC: 0.8959\n"
          ]
        },
        {
          "output_type": "display_data",
          "data": {
            "text/plain": [
              "<Figure size 600x400 with 1 Axes>"
            ],
            "image/png": "[encoded data removed]"
          },
          "metadata": {}
        }
      ]
    }
  ]
}